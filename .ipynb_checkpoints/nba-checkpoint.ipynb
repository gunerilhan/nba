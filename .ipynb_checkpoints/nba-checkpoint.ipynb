{
 "cells": [
  {
   "cell_type": "code",
   "execution_count": 7,
   "metadata": {
    "slideshow": {
     "slide_type": "skip"
    }
   },
   "outputs": [],
   "source": [
    "import pandas as pd\n",
    "import seaborn as sns\n",
    "import numpy as np\n",
    "sns.set()\n",
    "import matplotlib.pyplot as plt\n",
    "import plotly_express as px\n",
    "%matplotlib inline"
   ]
  },
  {
   "cell_type": "code",
   "execution_count": 34,
   "metadata": {
    "slideshow": {
     "slide_type": "skip"
    }
   },
   "outputs": [],
   "source": [
    "load_raw = False\n",
    "file_name = 'stats'\n",
    "all_data = True\n",
    "if load_raw:\n",
    "    with open(file_name+'.txt') as f:\n",
    "        content = f.readlines()\n",
    "        \n",
    "    content2 = [content[0].replace('\\t',',').replace('\\n','').split(',')]\n",
    "    for i in range(1,len(content)):\n",
    "        if i % 2 == 0:\n",
    "            line1 = content[i-1].replace('\\n','').split(',')\n",
    "            line2 = content[i].replace('\\t',',').replace('\\n','').split(',') \n",
    "            content2.append(line1+line2) \n",
    "    data=pd.DataFrame(content2[1:])\n",
    "    data.columns=content2[0]\n",
    "    if all_data:\n",
    "        data = data[(data['2FG%'] != '-') & (data['3P%'] != '-')]\n",
    "    else:\n",
    "         data = data[(data['2FG%'] != '-')]\n",
    "    data.to_csv(file_name+'.csv',index=False)"
   ]
  },
  {
   "cell_type": "code",
   "execution_count": 35,
   "metadata": {
    "scrolled": true,
    "slideshow": {
     "slide_type": "skip"
    }
   },
   "outputs": [],
   "source": [
    "data = pd.read_csv(file_name+'.csv')\n",
    "if all_data:\n",
    "    data_all = data[(data['2FGA'] > 10 ) & (data['3PA'] > 10)]\n",
    "else:\n",
    "    data_close_range = data[(data['2FGA'] > 10 ) ]"
   ]
  },
  {
   "cell_type": "code",
   "execution_count": 38,
   "metadata": {
    "scrolled": true,
    "slideshow": {
     "slide_type": "skip"
    }
   },
   "outputs": [],
   "source": [
    "data = data_all.merge(data_close_range,on=[\"PLAYER\",'TEAM','AGE'])"
   ]
  },
  {
   "cell_type": "code",
   "execution_count": 39,
   "metadata": {
    "slideshow": {
     "slide_type": "skip"
    }
   },
   "outputs": [],
   "source": [
    "data['2FG%-mid'] = ((data['2FGM_x']-data['2FGM_y'])/(data['2FGA_x']-data['2FGA_y']))*100"
   ]
  },
  {
   "cell_type": "code",
   "execution_count": 40,
   "metadata": {
    "slideshow": {
     "slide_type": "skip"
    }
   },
   "outputs": [],
   "source": [
    "data.to_csv('data_all.csv')"
   ]
  },
  {
   "cell_type": "code",
   "execution_count": 42,
   "metadata": {},
   "outputs": [],
   "source": [
    "data = pd.read_csv('data_all.csv')"
   ]
  },
  {
   "cell_type": "code",
   "execution_count": 43,
   "metadata": {
    "scrolled": true,
    "slideshow": {
     "slide_type": "skip"
    }
   },
   "outputs": [],
   "source": [
    "# data['2FG-exp'] = data['2FG%_x']*2/100\n",
    "# data['2FG-mid-exp'] = data['2FG%_mid']*2/100\n",
    "# data['3FG-exp'] = data['3P%_x']*3/100"
   ]
  },
  {
   "cell_type": "code",
   "execution_count": 44,
   "metadata": {
    "slideshow": {
     "slide_type": "slide"
    }
   },
   "outputs": [
    {
     "data": {
      "application/vnd.plotly.v1+json": {
       "config": {
        "linkText": "Export to plot.ly",
        "plotlyServerURL": "https://plot.ly",
        "showLink": false
       },
       "data": [
        {
         "hovertemplate": "<b>%{hovertext}</b><br><br>TEAM=SAC<br>2-point Field Goal Percentage=%{x}<br>3-point Filed Goal Percentage=%{y}<br>2FGA_x=%{marker.size}<extra></extra>",
         "hovertext": [
          "Yogi Ferrell",
          "Troy Williams",
          "Nemanja Bjelica",
          "Marvin Bagley III",
          "Harrison Barnes",
          "Frank Mason",
          "De'Aaron Fox",
          "Corey Brewer",
          "Buddy Hield",
          "Bogdan Bogdanovic",
          "Alec Burks"
         ],
         "legendgroup": "TEAM=SAC",
         "marker": {
          "color": "#636efa",
          "size": [
           202,
           54,
           333,
           609,
           585,
           105,
           867,
           79,
           710,
           491,
           306
          ],
          "sizemode": "area",
          "sizeref": 3.1925,
          "symbol": "circle"
         },
         "mode": "markers",
         "name": "TEAM=SAC",
         "showlegend": true,
         "type": "scatter",
         "uid": "c1c1803c-57a8-41bc-a8ea-d5c6cf5e7a08",
         "x": [
          49,
          55.6,
          54.1,
          53.2,
          43.9,
          54.3,
          48.3,
          49.4,
          48.6,
          46.2,
          42.8
         ],
         "xaxis": "x",
         "y": [
          36.2,
          31.8,
          40.1,
          31.3,
          39.5,
          21.9,
          37.1,
          31.8,
          42.7,
          36,
          36.3
         ],
         "yaxis": "y"
        },
        {
         "hovertemplate": "<b>%{hovertext}</b><br><br>TEAM=NOP<br>2-point Field Goal Percentage=%{x}<br>3-point Filed Goal Percentage=%{y}<br>2FGA_x=%{marker.size}<extra></extra>",
         "hovertext": [
          "Stanley Johnson",
          "Solomon Hill",
          "Kenrich Williams",
          "Julius Randle",
          "Jrue Holiday",
          "Jason Smith",
          "Ian Clark",
          "Frank Jackson",
          "Elfrid Payton",
          "E'Twaun Moore",
          "Darius Miller",
          "Christian Wood",
          "Anthony Davis",
          "Andrew Harrison"
         ],
         "legendgroup": "TEAM=NOP",
         "marker": {
          "color": "#EF553B",
          "size": [
           225,
           77,
           121,
           893,
           796,
           33,
           181,
           278,
           307,
           356,
           120,
           91,
           881,
           28
          ],
          "sizemode": "area",
          "sizeref": 3.1925,
          "symbol": "circle"
         },
         "mode": "markers",
         "name": "TEAM=NOP",
         "showlegend": true,
         "type": "scatter",
         "uid": "cbd18fa9-a6bf-4574-9ddd-55e2f4e9b5a1",
         "x": [
          48.4,
          46.8,
          45.5,
          56.4,
          53.9,
          36.4,
          47,
          50.7,
          47.6,
          50.6,
          46.7,
          57.1,
          54.7,
          39.3
         ],
         "xaxis": "x",
         "y": [
          28.8,
          31.7,
          33.3,
          34.4,
          32.5,
          34.6,
          32.7,
          31.2,
          31.7,
          43.2,
          36.5,
          34.6,
          33.1,
          20
         ],
         "yaxis": "y"
        },
        {
         "hovertemplate": "<b>%{hovertext}</b><br><br>TEAM=HOU<br>2-point Field Goal Percentage=%{x}<br>3-point Filed Goal Percentage=%{y}<br>2FGA_x=%{marker.size}<extra></extra>",
         "hovertext": [
          "PJ Tucker",
          "Kenneth Faried",
          "James Harden",
          "Iman Shumpert",
          "Gerald Green",
          "Gary Clark",
          "Eric Gordon",
          "Danuel House Jr.",
          "Chris Paul",
          "Carmelo Anthony",
          "Austin Rivers"
         ],
         "legendgroup": "TEAM=HOU",
         "marker": {
          "color": "#00cc96",
          "size": [
           136,
           240,
           881,
           173,
           136,
           13,
           338,
           74,
           363,
           57,
           245
          ],
          "sizemode": "area",
          "sizeref": 3.1925,
          "symbol": "circle"
         },
         "mode": "markers",
         "name": "TEAM=HOU",
         "showlegend": true,
         "type": "scatter",
         "uid": "91b65032-85ef-46ac-ab04-33c0c24f6293",
         "x": [
          44.9,
          61.7,
          52.8,
          41.6,
          55.1,
          69.2,
          49.7,
          59.5,
          47.9,
          49.1,
          52.2
         ],
         "xaxis": "x",
         "y": [
          37.7,
          32,
          36.8,
          34.8,
          35.5,
          29.7,
          36.1,
          41.6,
          35.9,
          32.8,
          31.8
         ],
         "yaxis": "y"
        },
        {
         "hovertemplate": "<b>%{hovertext}</b><br><br>TEAM=WAS<br>2-point Field Goal Percentage=%{x}<br>3-point Filed Goal Percentage=%{y}<br>2FGA_x=%{marker.size}<extra></extra>",
         "hovertext": [
          "Wesley Johnson",
          "Troy Brown Jr.",
          "Trevor Ariza",
          "Tomas Satoransky",
          "Thomas Bryant",
          "Sam Dekker",
          "Jordan McRae",
          "John Wall",
          "Jeff Green",
          "Jabari Parker",
          "Ian Mahinmi",
          "Chasson Randle",
          "Bradley Beal",
          "Bobby Portis"
         ],
         "legendgroup": "TEAM=WAS",
         "marker": {
          "color": "#ab63fa",
          "size": [
           52,
           161,
           299,
           359,
           389,
           183,
           92,
           383,
           365,
           544,
           89,
           96,
           977,
           419
          ],
          "sizemode": "area",
          "sizeref": 3.1925,
          "symbol": "circle"
         },
         "mode": "markers",
         "name": "TEAM=WAS",
         "showlegend": true,
         "type": "scatter",
         "uid": "019c3d46-0052-4ef6-9fe7-df1daf1ea561",
         "x": [
          38.5,
          45.3,
          49.5,
          52.1,
          68.4,
          51.4,
          55.4,
          50.7,
          58.9,
          55.9,
          49.4,
          44.8,
          55.1,
          46.5
         ],
         "xaxis": "x",
         "y": [
          32.9,
          30.8,
          33.6,
          38.1,
          34.7,
          30.6,
          29.4,
          30.2,
          35,
          31.4,
          18.8,
          40.7,
          35.3,
          38.5
         ],
         "yaxis": "y"
        },
        {
         "hovertemplate": "<b>%{hovertext}</b><br><br>TEAM=ATL<br>2-point Field Goal Percentage=%{x}<br>3-point Filed Goal Percentage=%{y}<br>2FGA_x=%{marker.size}<extra></extra>",
         "hovertext": [
          "Vince Carter",
          "Trae Young",
          "Taurean Prince",
          "Omari Spellman",
          "Kevin Huerter",
          "Kent Bazemore",
          "Justin Anderson",
          "John Collins",
          "Jaylen Adams",
          "Dewayne Dedmon",
          "DeAndre' Bembry",
          "Daniel Hamilton",
          "Alex Poythress",
          "Alex Len"
         ],
         "legendgroup": "TEAM=ATL",
         "marker": {
          "color": "#19d3f3",
          "size": [
           152,
           775,
           279,
           116,
           304,
           391,
           80,
           673,
           36,
           309,
           444,
           37,
           58,
           444
          ],
          "sizemode": "area",
          "sizeref": 3.1925,
          "symbol": "circle"
         },
         "mode": "markers",
         "name": "TEAM=ATL",
         "showlegend": true,
         "type": "scatter",
         "uid": "23dcc882-aef6-4b76-8812-d2a0a016f0af",
         "x": [
          48,
          47.6,
          49.8,
          46.6,
          45.7,
          46.5,
          50,
          60.9,
          36.1,
          57,
          50.7,
          40.5,
          53.4,
          55.4
         ],
         "xaxis": "x",
         "y": [
          38.9,
          32.4,
          39,
          34.4,
          38.4,
          32,
          31.2,
          34.8,
          33.8,
          38.2,
          28.9,
          34.8,
          39.1,
          36.3
         ],
         "yaxis": "y"
        },
        {
         "hovertemplate": "<b>%{hovertext}</b><br><br>TEAM=MIL<br>2-point Field Goal Percentage=%{x}<br>3-point Filed Goal Percentage=%{y}<br>2FGA_x=%{marker.size}<extra></extra>",
         "hovertext": [
          "Tony Snell",
          "Tim Frazier",
          "Sterling Brown",
          "Pau Gasol",
          "Pat Connaughton",
          "Nikola Mirotic",
          "Malcolm Brogdon",
          "Khris Middleton",
          "Isaiah Canaan",
          "Giannis Antetokounmpo",
          "George Hill",
          "Ersan Ilyasova",
          "Eric Bledsoe",
          "Donte DiVincenzo",
          "D.J. Wilson",
          "Brook Lopez",
          "Bonzie Colson"
         ],
         "legendgroup": "TEAM=MIL",
         "marker": {
          "color": "#e763fa",
          "size": [
           157,
           160,
           165,
           81,
           149,
           224,
           503,
           674,
           68,
           1045,
           223,
           222,
           595,
           41,
           122,
           273,
           18
          ],
          "sizemode": "area",
          "sizeref": 3.1925,
          "symbol": "circle"
         },
         "mode": "markers",
         "name": "TEAM=MIL",
         "showlegend": true,
         "type": "scatter",
         "uid": "16f8928d-7924-4ac6-9e61-1ba02630adbe",
         "x": [
          52.2,
          49.4,
          55.8,
          44.4,
          65.1,
          54.5,
          54.5,
          48.5,
          44.1,
          64,
          54.7,
          49.1,
          58.2,
          68.3,
          46.7,
          61.5,
          44.4
         ],
         "xaxis": "x",
         "y": [
          39.7,
          36.6,
          36.1,
          46.2,
          33,
          36.5,
          42.6,
          37.8,
          35.4,
          25.6,
          31.4,
          36.3,
          32.9,
          26.5,
          36.2,
          36.4,
          23.8
         ],
         "yaxis": "y"
        },
        {
         "hovertemplate": "<b>%{hovertext}</b><br><br>TEAM=ORL<br>2-point Field Goal Percentage=%{x}<br>3-point Filed Goal Percentage=%{y}<br>2FGA_x=%{marker.size}<extra></extra>",
         "hovertext": [
          "Wes Iwundu",
          "Terrence Ross",
          "Nikola Vucevic",
          "Mo Bamba",
          "Michael Carter-Williams",
          "Markelle Fultz",
          "Jonathan Isaac",
          "Jerian Grant",
          "Jarell Martin",
          "Isaiah Briscoe",
          "Evan Fournier",
          "D.J. Augustin",
          "Aaron Gordon"
         ],
         "legendgroup": "TEAM=ORL",
         "marker": {
          "color": "#fecb52",
          "size": [
           195,
           451,
           1094,
           164,
           85,
           141,
           336,
           106,
           47,
           104,
           601,
           358,
           682
          ],
          "sizemode": "area",
          "sizeref": 3.1925,
          "symbol": "circle"
         },
         "mode": "markers",
         "name": "TEAM=ORL",
         "showlegend": true,
         "type": "scatter",
         "uid": "830ea770-6be8-4886-94e9-726d7f29c548",
         "x": [
          43.1,
          48.1,
          55.2,
          56.1,
          42.4,
          43.3,
          51.5,
          46.2,
          48.9,
          42.3,
          50.4,
          51.4,
          50
         ],
         "xaxis": "x",
         "y": [
          36.7,
          38.2,
          36,
          29.2,
          26.3,
          28.6,
          32.3,
          36.7,
          35.1,
          32.4,
          34.3,
          41.6,
          34.8
         ],
         "yaxis": "y"
        },
        {
         "hovertemplate": "<b>%{hovertext}</b><br><br>TEAM=OKC<br>2-point Field Goal Percentage=%{x}<br>3-point Filed Goal Percentage=%{y}<br>2FGA_x=%{marker.size}<extra></extra>",
         "hovertext": [
          "Terrance Ferguson",
          "Russell Westbrook",
          "Raymond Felton",
          "Paul George",
          "Patrick Patterson",
          "Markieff Morris",
          "Jerami Grant",
          "Hamidou Diallo",
          "Deonte Burton",
          "Dennis Schroder",
          "Alex Abrines",
          "Abdel Nader"
         ],
         "legendgroup": "TEAM=OKC",
         "marker": {
          "color": "#ffa15a",
          "size": [
           139,
           1045,
           74,
           845,
           81,
           278,
           525,
           140,
           55,
           727,
           30,
           114
          ],
          "sizemode": "area",
          "sizeref": 3.1925,
          "symbol": "circle"
         },
         "mode": "markers",
         "name": "TEAM=OKC",
         "showlegend": true,
         "type": "scatter",
         "uid": "06f3f590-546c-4060-be84-d46e5e7db7d2",
         "x": [
          56.1,
          48.1,
          47.3,
          48.6,
          44.4,
          48.6,
          55.4,
          50.7,
          45.5,
          45.1,
          50,
          51.8
         ],
         "xaxis": "x",
         "y": [
          36.3,
          29.1,
          32.8,
          38.5,
          33.8,
          33.5,
          39.9,
          16.7,
          29.6,
          33.8,
          32.3,
          31.3
         ],
         "yaxis": "y"
        },
        {
         "hovertemplate": "<b>%{hovertext}</b><br><br>TEAM=DAL<br>2-point Field Goal Percentage=%{x}<br>3-point Filed Goal Percentage=%{y}<br>2FGA_x=%{marker.size}<extra></extra>",
         "hovertext": [
          "Trey Burke",
          "Tim Hardaway Jr.",
          "Salah Mejri",
          "Ryan Broekhoff",
          "Maxi Kleber",
          "Luka Doncic",
          "Justin Jackson",
          "Jalen Brunson",
          "J.J. Barea",
          "Dwight Powell",
          "Dorian Finney-Smith",
          "Dirk Nowitzki",
          "Devin Harris",
          "Courtney Lee"
         ],
         "legendgroup": "TEAM=DAL",
         "marker": {
          "color": "#ff6692",
          "size": [
           388,
           511,
           78,
           33,
           168,
           672,
           239,
           383,
           257,
           358,
           274,
           171,
           147,
           74
          ],
          "sizemode": "area",
          "sizeref": 3.1925,
          "symbol": "circle"
         },
         "mode": "markers",
         "name": "TEAM=DAL",
         "showlegend": true,
         "type": "scatter",
         "uid": "44c15a65-084b-4290-ae22-fb99d621c5e5",
         "x": [
          46.1,
          44.2,
          56.4,
          57.6,
          58.3,
          50.3,
          54.4,
          52.2,
          47.9,
          70.1,
          54.4,
          41.5,
          47.6,
          50
         ],
         "xaxis": "x",
         "y": [
          35,
          33.8,
          32.4,
          40.4,
          35.3,
          32.6,
          35.5,
          34.8,
          29.7,
          30.7,
          31.1,
          31.2,
          31,
          29.1
         ],
         "yaxis": "y"
        },
        {
         "hovertemplate": "<b>%{hovertext}</b><br><br>TEAM=GSW<br>2-point Field Goal Percentage=%{x}<br>3-point Filed Goal Percentage=%{y}<br>2FGA_x=%{marker.size}<extra></extra>",
         "hovertext": [
          "Stephen Curry",
          "Quinn Cook",
          "Klay Thompson",
          "Kevin Durant",
          "Jonas Jerebko",
          "Jacob Evans",
          "Draymond Green",
          "DeMarcus Cousins",
          "Damion Lee",
          "Andre Iguodala",
          "Alfonzo McKinnie"
         ],
         "legendgroup": "TEAM=GSW",
         "marker": {
          "color": "#b6e880",
          "size": [
           518,
           238,
           794,
           988,
           166,
           37,
           251,
           269,
           59,
           158,
           158
          ],
          "sizemode": "area",
          "sizeref": 3.1925,
          "symbol": "circle"
         },
         "mode": "markers",
         "name": "TEAM=GSW",
         "showlegend": true,
         "type": "scatter",
         "uid": "ca36c085-4648-4851-8c42-ecc13f343cfe",
         "x": [
          53.1,
          51.3,
          51.6,
          58.8,
          56.6,
          37.8,
          54.2,
          55,
          49.2,
          65.2,
          58.2
         ],
         "xaxis": "x",
         "y": [
          43.2,
          39.8,
          40.5,
          35.2,
          36.4,
          26.7,
          27.7,
          27.7,
          39.7,
          33.3,
          35.9
         ],
         "yaxis": "y"
        },
        {
         "hovertemplate": "<b>%{hovertext}</b><br><br>TEAM=PHI<br>2-point Field Goal Percentage=%{x}<br>3-point Filed Goal Percentage=%{y}<br>2FGA_x=%{marker.size}<extra></extra>",
         "hovertext": [
          "Zhaire Smith",
          "Tobias Harris",
          "T.J. McConnell",
          "Shake Milton",
          "Mike Scott",
          "Jonathon Simmons",
          "Jonah Bolden",
          "Joel Embiid",
          "Jimmy Butler",
          "James Ennis III",
          "JJ Redick",
          "Furkan Korkmaz",
          "Amir Johnson"
         ],
         "legendgroup": "TEAM=PHI",
         "marker": {
          "color": "#636efa",
          "size": [
           18,
           860,
           372,
           43,
           168,
           238,
           66,
           922,
           700,
           138,
           419,
           101,
           117
          ],
          "sizemode": "area",
          "sizeref": 3.1925,
          "symbol": "circle"
         },
         "mode": "markers",
         "name": "TEAM=PHI",
         "showlegend": true,
         "type": "scatter",
         "uid": "e7524812-d6c7-4fd5-acd1-323aa18b42c8",
         "x": [
          44.4,
          52.8,
          55.1,
          46.5,
          39.9,
          42,
          69.7,
          53.3,
          49.6,
          60.1,
          49.9,
          50.5,
          57.3
         ],
         "xaxis": "x",
         "y": [
          37.5,
          39.5,
          32.6,
          31.8,
          40.1,
          26.7,
          35.1,
          30.4,
          35.5,
          35.3,
          39.7,
          32.6,
          30
         ],
         "yaxis": "y"
        },
        {
         "hovertemplate": "<b>%{hovertext}</b><br><br>TEAM=BOS<br>2-point Field Goal Percentage=%{x}<br>3-point Filed Goal Percentage=%{y}<br>2FGA_x=%{marker.size}<extra></extra>",
         "hovertext": [
          "Terry Rozier",
          "Semi Ojeleye",
          "Marcus Smart",
          "Marcus Morris",
          "Kyrie Irving",
          "Jayson Tatum",
          "Jaylen Brown",
          "Guerschon Yabusele",
          "Gordon Hayward",
          "Daniel Theis",
          "Brad Wanamaker",
          "Aron Baynes",
          "Al Horford"
         ],
         "legendgroup": "TEAM=BOS",
         "marker": {
          "color": "#EF553B",
          "size": [
           328,
           69,
           221,
           455,
           807,
           725,
           516,
           49,
           406,
           200,
           66,
           162,
           520
          ],
          "sizemode": "area",
          "sizeref": 3.1925,
          "symbol": "circle"
         },
         "mode": "markers",
         "name": "TEAM=BOS",
         "showlegend": true,
         "type": "scatter",
         "uid": "3a6bc1a6-3c58-4e21-ac68-3f236ca58d0a",
         "x": [
          42.4,
          56.5,
          51.1,
          50.8,
          53.3,
          48.3,
          52.9,
          53.1,
          53.9,
          60,
          51.5,
          51.9,
          60.4
         ],
         "xaxis": "x",
         "y": [
          35.3,
          31.5,
          36.4,
          37.5,
          40.1,
          37.3,
          34.4,
          32.1,
          33.3,
          38.8,
          41,
          34.4,
          36
         ],
         "yaxis": "y"
        },
        {
         "hovertemplate": "<b>%{hovertext}</b><br><br>TEAM=CHI<br>2-point Field Goal Percentage=%{x}<br>3-point Filed Goal Percentage=%{y}<br>2FGA_x=%{marker.size}<extra></extra>",
         "hovertext": [
          "Zach LaVine",
          "Wendell Carter Jr.",
          "Wayne Selden",
          "Timothe Luwawu-Cabarrot",
          "Shaquille Harrison",
          "Ryan Arcidiacono",
          "Robin Lopez",
          "Rawle Alkins",
          "Otto Porter Jr.",
          "Lauri Markkanen",
          "Kris Dunn",
          "JaKarr Sampson",
          "Chandler Hutchison",
          "Brandon Sampson",
          "Antonio Blakeney"
         ],
         "legendgroup": "TEAM=CHI",
         "marker": {
          "color": "#00cc96",
          "size": [
           796,
           333,
           306,
           101,
           335,
           196,
           497,
           27,
           374,
           459,
           406,
           39,
           159,
           31,
           304
          ],
          "sizemode": "area",
          "sizeref": 3.1925,
          "symbol": "circle"
         },
         "mode": "markers",
         "name": "TEAM=CHI",
         "showlegend": true,
         "type": "scatter",
         "uid": "ad48d490-bb27-4f34-85b1-507cb18c62c6",
         "x": [
          50.1,
          51.1,
          46.1,
          45.5,
          47.8,
          52.6,
          59.2,
          37,
          50.3,
          48.4,
          44.3,
          61.5,
          51.6,
          54.8,
          42.8
         ],
         "xaxis": "x",
         "y": [
          37.2,
          18.8,
          31.4,
          31,
          27,
          37.5,
          22.6,
          25,
          40.7,
          36.2,
          34.7,
          35.7,
          28,
          37.9,
          39.1
         ],
         "yaxis": "y"
        },
        {
         "hovertemplate": "<b>%{hovertext}</b><br><br>TEAM=MEM<br>2-point Field Goal Percentage=%{x}<br>3-point Filed Goal Percentage=%{y}<br>2FGA_x=%{marker.size}<extra></extra>",
         "hovertext": [
          "Yuta Watanabe",
          "Tyler Dorsey",
          "Omri Casspi",
          "Mike Conley",
          "MarShon Brooks",
          "Kyle Anderson",
          "Justin Holiday",
          "Jonas Valanciunas",
          "Jevon Carter",
          "Jaren Jackson Jr.",
          "Ivan Rabb",
          "Dillon Brooks",
          "Delon Wright",
          "Chandler Parsons",
          "CJ Miles",
          "Bruno Caboclo",
          "Avery Bradley"
         ],
         "legendgroup": "TEAM=MEM",
         "marker": {
          "color": "#ab63fa",
          "size": [
           35,
           132,
           118,
           694,
           115,
           242,
           305,
           489,
           83,
           448,
           197,
           82,
           389,
           88,
           106,
           95,
           363
          ],
          "sizemode": "area",
          "sizeref": 3.1925,
          "symbol": "circle"
         },
         "mode": "markers",
         "name": "TEAM=MEM",
         "showlegend": true,
         "type": "scatter",
         "uid": "59f2cce6-f392-469e-882f-63843932f06f",
         "x": [
          37.1,
          47.7,
          60.2,
          48.3,
          53,
          58.3,
          44.6,
          58.5,
          26.5,
          55.1,
          57.4,
          41.5,
          49.1,
          44.3,
          42.5,
          50.5,
          44.6
         ],
         "xaxis": "x",
         "y": [
          12.5,
          33.3,
          34.9,
          36.4,
          27.8,
          26.5,
          34.3,
          29.2,
          33.3,
          35.9,
          20,
          37.5,
          29.9,
          30.1,
          33,
          36.9,
          35.1
         ],
         "yaxis": "y"
        },
        {
         "hovertemplate": "<b>%{hovertext}</b><br><br>TEAM=POR<br>2-point Field Goal Percentage=%{x}<br>3-point Filed Goal Percentage=%{y}<br>2FGA_x=%{marker.size}<extra></extra>",
         "hovertext": [
          "Zach Collins",
          "Skal Labissiere",
          "Seth Curry",
          "Rodney Hood",
          "Meyers Leonard",
          "Maurice Harkless",
          "Jusuf Nurkic",
          "Jake Layman",
          "Gary Trent Jr.",
          "Evan Turner",
          "Enes Kanter",
          "Damian Lillard",
          "CJ McCollum",
          "Anfernee Simons",
          "Al-Farouq Aminu"
         ],
         "legendgroup": "TEAM=POR",
         "marker": {
          "color": "#19d3f3",
          "size": [
           275,
           36,
           214,
           435,
           130,
           267,
           797,
           243,
           29,
           390,
           642,
           889,
           795,
           34,
           310
          ],
          "sizemode": "area",
          "sizeref": 3.1925,
          "symbol": "circle"
         },
         "mode": "markers",
         "name": "TEAM=POR",
         "showlegend": true,
         "type": "scatter",
         "uid": "ab48242f-2dbd-4083-a54b-2559736f48b9",
         "x": [
          53.8,
          55.6,
          46.3,
          47.8,
          63.1,
          58.1,
          52.3,
          64.6,
          37.9,
          49.5,
          56.4,
          49.8,
          50.6,
          52.9,
          51.3
         ],
         "xaxis": "x",
         "y": [
          33.1,
          46.2,
          45,
          35.6,
          45,
          27.5,
          10.3,
          32.6,
          23.8,
          21.2,
          29.4,
          36.9,
          37.5,
          34.5,
          34.5
         ],
         "yaxis": "y"
        },
        {
         "hovertemplate": "<b>%{hovertext}</b><br><br>TEAM=IND<br>2-point Field Goal Percentage=%{x}<br>3-point Filed Goal Percentage=%{y}<br>2FGA_x=%{marker.size}<extra></extra>",
         "hovertext": [
          "Wesley Matthews",
          "Victor Oladipo",
          "Tyreke Evans",
          "Thaddeus Young",
          "TJ Leaf",
          "Myles Turner",
          "Kyle O'Quinn",
          "Edmond Sumner",
          "Doug McDermott",
          "Domantas Sabonis",
          "Darren Collison",
          "Cory Joseph",
          "Bojan Bogdanovic",
          "Aaron Holiday"
         ],
         "legendgroup": "TEAM=IND",
         "marker": {
          "color": "#e763fa",
          "size": [
           296,
           372,
           444,
           695,
           152,
           584,
           123,
           37,
           217,
           685,
           465,
           377,
           664,
           135
          ],
          "sizemode": "area",
          "sizeref": 3.1925,
          "symbol": "circle"
         },
         "mode": "markers",
         "name": "TEAM=IND",
         "showlegend": true,
         "type": "scatter",
         "uid": "e945f752-18c3-458f-b161-f7de5238fd99",
         "x": [
          43.6,
          47,
          40.5,
          56.4,
          59.9,
          52.1,
          54.5,
          40.5,
          56.7,
          59,
          49.2,
          45.4,
          53.9,
          45.9
         ],
         "xaxis": "x",
         "y": [
          37.2,
          34.3,
          35.6,
          34.9,
          25.8,
          38.8,
          8.3,
          25.9,
          40.8,
          52.9,
          40.7,
          32.2,
          42.5,
          33.9
         ],
         "yaxis": "y"
        },
        {
         "hovertemplate": "<b>%{hovertext}</b><br><br>TEAM=MIN<br>2-point Field Goal Percentage=%{x}<br>3-point Filed Goal Percentage=%{y}<br>2FGA_x=%{marker.size}<extra></extra>",
         "hovertext": [
          "Tyus Jones",
          "Taj Gibson",
          "Robert Covington",
          "Luol Deng",
          "Keita Bates-Diop",
          "Karl-Anthony Towns",
          "Josh Okogie",
          "Jerryd Bayless",
          "Jeff Teague",
          "Gorgui Dieng",
          "Derrick Rose",
          "Dario Saric",
          "Cameron Reynolds",
          "C.J. Williams",
          "Anthony Tolliver",
          "Andrew Wiggins"
         ],
         "legendgroup": "TEAM=MIN",
         "marker": {
          "color": "#fecb52",
          "size": [
           320,
           504,
           137,
           74,
           90,
           960,
           293,
           132,
           311,
           321,
           607,
           373,
           27,
           19,
           44,
           861
          ],
          "sizemode": "area",
          "sizeref": 3.1925,
          "symbol": "circle"
         },
         "mode": "markers",
         "name": "TEAM=MIN",
         "showlegend": true,
         "type": "scatter",
         "uid": "422c1ae4-c115-42c4-890b-341acc62d554",
         "x": [
          45.3,
          58.1,
          51.8,
          60.8,
          52.2,
          56.1,
          46.4,
          40.2,
          45.3,
          53,
          50.9,
          49.9,
          44.4,
          63.2,
          40.9,
          44
         ],
         "xaxis": "x",
         "y": [
          31.7,
          32.4,
          37.8,
          31.8,
          25,
          40,
          27.9,
          29.6,
          33.3,
          33.9,
          37,
          36.5,
          41.2,
          31.3,
          37.7,
          33.9
         ],
         "yaxis": "y"
        },
        {
         "hovertemplate": "<b>%{hovertext}</b><br><br>TEAM=UTA<br>2-point Field Goal Percentage=%{x}<br>3-point Filed Goal Percentage=%{y}<br>2FGA_x=%{marker.size}<extra></extra>",
         "hovertext": [
          "Thabo Sefolosha",
          "Royce O'Neale",
          "Ricky Rubio",
          "Raul Neto",
          "Kyle Korver",
          "Joe Ingles",
          "Jae Crowder",
          "Grayson Allen",
          "Georges Niang",
          "Donovan Mitchell",
          "Derrick Favors",
          "Dante Exum"
         ],
         "legendgroup": "TEAM=UTA",
         "marker": {
          "color": "#ffa15a",
          "size": [
           68,
           167,
           457,
           100,
           133,
           309,
           271,
           79,
           76,
           983,
           522,
           174
          ],
          "sizemode": "area",
          "sizeref": 3.1925,
          "symbol": "circle"
         },
         "mode": "markers",
         "name": "TEAM=UTA",
         "showlegend": true,
         "type": "scatter",
         "uid": "06431fdf-42cf-4b7a-a5fb-24e499554289",
         "x": [
          51.5,
          56.9,
          45.3,
          53,
          47.4,
          54,
          52,
          44.3,
          56.6,
          46.8,
          64.2,
          47.1
         ],
         "xaxis": "x",
         "y": [
          43.6,
          38.2,
          32,
          33.3,
          40.2,
          39.3,
          32.8,
          32.3,
          41,
          35.8,
          21.8,
          29
         ],
         "yaxis": "y"
        },
        {
         "hovertemplate": "<b>%{hovertext}</b><br><br>TEAM=DET<br>2-point Field Goal Percentage=%{x}<br>3-point Filed Goal Percentage=%{y}<br>2FGA_x=%{marker.size}<extra></extra>",
         "hovertext": [
          "Wayne Ellington",
          "Thon Maker",
          "Svi Mykhailiuk",
          "Reggie Jackson",
          "Luke Kennard",
          "Langston Galloway",
          "Khyri Thomas",
          "Jose Calderon",
          "Jon Leuer",
          "Ish Smith",
          "Glenn Robinson III",
          "Bruce Brown",
          "Blake Griffin",
          "Andre Drummond"
         ],
         "legendgroup": "TEAM=DET",
         "marker": {
          "color": "#ff6692",
          "size": [
           85,
           115,
           50,
           576,
           251,
           206,
           34,
           63,
           102,
           355,
           114,
           222,
           819,
           1012
          ],
          "sizemode": "area",
          "sizeref": 3.1925,
          "symbol": "circle"
         },
         "mode": "markers",
         "name": "TEAM=DET",
         "showlegend": true,
         "type": "scatter",
         "uid": "0e7eb226-c2b6-4a80-a20a-94e4a3e28121",
         "x": [
          54.1,
          52.2,
          34,
          46.4,
          48.6,
          45.1,
          35.3,
          49.2,
          63.7,
          45.4,
          49.1,
          45.5,
          52.5,
          54.8
         ],
         "xaxis": "x",
         "y": [
          37.1,
          32,
          32.6,
          36.9,
          39.4,
          35.4,
          28.6,
          24.6,
          8.3,
          32.6,
          29.5,
          25.8,
          36.2,
          13.2
         ],
         "yaxis": "y"
        },
        {
         "hovertemplate": "<b>%{hovertext}</b><br><br>TEAM=PHX<br>2-point Field Goal Percentage=%{x}<br>3-point Filed Goal Percentage=%{y}<br>2FGA_x=%{marker.size}<extra></extra>",
         "hovertext": [
          "Tyler Johnson",
          "Troy Daniels",
          "T.J. Warren",
          "Mikal Bridges",
          "Kelly Oubre Jr.",
          "Josh Jackson",
          "Jamal Crawford",
          "Elie Okobo",
          "Dragan Bender",
          "Devin Booker",
          "De'Anthony Melton"
         ],
         "legendgroup": "TEAM=PHX",
         "marker": {
          "color": "#b6e880",
          "size": [
           266,
           81,
           431,
           250,
           503,
           615,
           236,
           158,
           96,
           840,
           161
          ],
          "sizemode": "area",
          "sizeref": 3.1925,
          "symbol": "circle"
         },
         "mode": "markers",
         "name": "TEAM=PHX",
         "showlegend": true,
         "type": "scatter",
         "uid": "a657b81f-280e-40df-aba3-d997c1f7143e",
         "x": [
          47.7,
          48.1,
          51,
          54.8,
          53.1,
          44.6,
          45.3,
          47.5,
          68.8,
          53.6,
          44.1
         ],
         "xaxis": "x",
         "y": [
          34.6,
          38.1,
          42.8,
          33.5,
          32,
          32.4,
          33.2,
          29.5,
          21.8,
          32.6,
          30.5
         ],
         "yaxis": "y"
        },
        {
         "hovertemplate": "<b>%{hovertext}</b><br><br>TEAM=SAS<br>2-point Field Goal Percentage=%{x}<br>3-point Filed Goal Percentage=%{y}<br>2FGA_x=%{marker.size}<extra></extra>",
         "hovertext": [
          "Rudy Gay",
          "Quincy Pondexter",
          "Patty Mills",
          "Marco Belinelli",
          "Lonnie Walker IV",
          "LaMarcus Aldridge",
          "Derrick White",
          "DeMar DeRozan",
          "Davis Bertans",
          "Dante Cunningham",
          "Bryn Forbes"
         ],
         "legendgroup": "TEAM=SAS",
         "marker": {
          "color": "#636efa",
          "size": [
           562,
           40,
           259,
           295,
           33,
           1277,
           401,
           1268,
           115,
           93,
           378
          ],
          "sizemode": "area",
          "sizeref": 3.1925,
          "symbol": "circle"
         },
         "mode": "markers",
         "name": "TEAM=SAS",
         "showlegend": true,
         "type": "scatter",
         "uid": "3cdf5b1b-caa4-46e8-a6ad-16ee1e0cba58",
         "x": [
          53.7,
          57.5,
          47.5,
          46.8,
          33.3,
          52.8,
          52.9,
          49.2,
          51.3,
          48.4,
          48.9
         ],
         "xaxis": "x",
         "y": [
          40.2,
          33.3,
          39.4,
          37.2,
          38.5,
          23.8,
          33.8,
          15.6,
          42.9,
          46.2,
          42.6
         ],
         "yaxis": "y"
        },
        {
         "hovertemplate": "<b>%{hovertext}</b><br><br>TEAM=LAC<br>2-point Field Goal Percentage=%{x}<br>3-point Filed Goal Percentage=%{y}<br>2FGA_x=%{marker.size}<extra></extra>",
         "hovertext": [
          "Wilson Chandler",
          "Tyrone Wallace",
          "Sindarius Thornwell",
          "Shai Gilgeous-Alexander",
          "Rodney McGruder",
          "Patrick Beverley",
          "Montrezl Harrell",
          "Lou Williams",
          "Landry Shamet",
          "Jerome Robinson",
          "JaMychal Green",
          "Garrett Temple",
          "Danilo Gallinari"
         ],
         "legendgroup": "TEAM=LAC",
         "marker": {
          "color": "#EF553B",
          "size": [
           115,
           198,
           34,
           577,
           236,
           194,
           871,
           845,
           161,
           53,
           300,
           228,
           511
          ],
          "sizemode": "area",
          "sizeref": 3.1925,
          "symbol": "circle"
         },
         "mode": "markers",
         "name": "TEAM=LAC",
         "showlegend": true,
         "type": "scatter",
         "uid": "641d75bc-c6a7-497a-820b-6f5567c8be54",
         "x": [
          47.8,
          44.4,
          41.2,
          50.3,
          45.3,
          42.3,
          62.3,
          44.9,
          45.3,
          49.1,
          53,
          51.8,
          48.5
         ],
         "xaxis": "x",
         "y": [
          37.7,
          21.1,
          20,
          36.7,
          34.8,
          39.9,
          17.6,
          36,
          41.7,
          31.6,
          40.3,
          34.1,
          43.3
         ],
         "yaxis": "y"
        },
        {
         "hovertemplate": "<b>%{hovertext}</b><br><br>TEAM=CHA<br>2-point Field Goal Percentage=%{x}<br>3-point Filed Goal Percentage=%{y}<br>2FGA_x=%{marker.size}<extra></extra>",
         "hovertext": [
          "Willy Hernangomez",
          "Tony Parker",
          "Shelvin Mack",
          "Nicolas Batum",
          "Miles Bridges",
          "Michael Kidd-Gilchrist",
          "Marvin Williams",
          "Malik Monk",
          "Kemba Walker",
          "Jeremy Lamb",
          "Frank Kaminsky",
          "Dwayne Bacon",
          "Devonte' Graham",
          "Cody Zeller"
         ],
         "legendgroup": "TEAM=CHA",
         "marker": {
          "color": "#00cc96",
          "size": [
           259,
           412,
           273,
           263,
           312,
           286,
           271,
           256,
           952,
           648,
           159,
           170,
           95,
           323
          ],
          "sizemode": "area",
          "sizeref": 3.1925,
          "symbol": "circle"
         },
         "mode": "markers",
         "name": "TEAM=CHA",
         "showlegend": true,
         "type": "scatter",
         "uid": "c3b48370-db5a-4b15-a274-2a88899b1caf",
         "x": [
          53.3,
          48.5,
          42.9,
          52.1,
          55.1,
          49.7,
          49.8,
          46.1,
          49.4,
          48.6,
          55.3,
          49.4,
          42.1,
          57
         ],
         "xaxis": "x",
         "y": [
          38.5,
          25.5,
          35.4,
          39.1,
          32.5,
          33.3,
          36.6,
          33,
          35.6,
          34.8,
          36,
          43.7,
          28.1,
          27.3
         ],
         "yaxis": "y"
        },
        {
         "hovertemplate": "<b>%{hovertext}</b><br><br>TEAM=TOR<br>2-point Field Goal Percentage=%{x}<br>3-point Filed Goal Percentage=%{y}<br>2FGA_x=%{marker.size}<extra></extra>",
         "hovertext": [
          "Serge Ibaka",
          "Patrick McCaw",
          "Pascal Siakam",
          "OG Anunoby",
          "Norman Powell",
          "Marc Gasol",
          "Lorenzo Brown",
          "Kyle Lowry",
          "Kawhi Leonard",
          "Jodie Meeks",
          "Jeremy Lin",
          "Fred VanVleet",
          "Danny Green",
          "Chris Boucher"
         ],
         "legendgroup": "TEAM=TOR",
         "marker": {
          "color": "#ab63fa",
          "size": [
           707,
           35,
           729,
           200,
           230,
           597,
           42,
           286,
           827,
           21,
           354,
           302,
           195,
           39
          ],
          "sizemode": "area",
          "sizeref": 3.1925,
          "symbol": "circle"
         },
         "mode": "markers",
         "name": "TEAM=TOR",
         "showlegend": true,
         "type": "scatter",
         "uid": "695b2751-0599-49a6-af7e-f16244c515f1",
         "x": [
          58.7,
          48.6,
          60.2,
          57,
          54.3,
          48.7,
          38.1,
          51.4,
          54.2,
          61.9,
          51.7,
          44,
          48.7,
          56.4
         ],
         "xaxis": "x",
         "y": [
          29,
          32.1,
          36.9,
          33.2,
          40,
          36.3,
          22.2,
          34.7,
          37.1,
          44.4,
          29.4,
          37.8,
          45.5,
          32.4
         ],
         "yaxis": "y"
        },
        {
         "hovertemplate": "<b>%{hovertext}</b><br><br>TEAM=MIA<br>2-point Field Goal Percentage=%{x}<br>3-point Filed Goal Percentage=%{y}<br>2FGA_x=%{marker.size}<extra></extra>",
         "hovertext": [
          "Ryan Anderson",
          "Kelly Olynyk",
          "Justise Winslow",
          "Josh Richardson",
          "James Johnson",
          "Hassan Whiteside",
          "Goran Dragic",
          "Dwyane Wade",
          "Dion Waiters",
          "Derrick Jones Jr.",
          "Bam Adebayo"
         ],
         "legendgroup": "TEAM=MIA",
         "marker": {
          "color": "#19d3f3",
          "size": [
           29,
           245,
           493,
           567,
           230,
           664,
           269,
           698,
           190,
           234,
           471
          ],
          "sizemode": "area",
          "sizeref": 3.1925,
          "symbol": "circle"
         },
         "mode": "markers",
         "name": "TEAM=MIA",
         "showlegend": true,
         "type": "scatter",
         "uid": "82c0ffdf-43d2-413a-9a71-567dca7cdf50",
         "x": [
          41.4,
          60.4,
          46.2,
          45.7,
          49.6,
          58.1,
          45.4,
          47.3,
          46.8,
          56.4,
          58.8
         ],
         "xaxis": "x",
         "y": [
          22.5,
          35.4,
          37.5,
          35.7,
          33.6,
          12.5,
          35,
          33.1,
          37.7,
          30.8,
          20
         ],
         "yaxis": "y"
        },
        {
         "hovertemplate": "<b>%{hovertext}</b><br><br>TEAM=CLE<br>2-point Field Goal Percentage=%{x}<br>3-point Filed Goal Percentage=%{y}<br>2FGA_x=%{marker.size}<extra></extra>",
         "hovertext": [
          "Nik Stauskas",
          "Matthew Dellavedova",
          "Marquese Chriss",
          "Larry Nance Jr.",
          "Kevin Love",
          "Jordan Clarkson",
          "John Henson",
          "Jaron Blossomgame",
          "Jalen Jones",
          "David Nwaba",
          "Collin Sexton",
          "Channing Frye",
          "Cedi Osman",
          "Cameron Payne",
          "Brandon Knight"
         ],
         "legendgroup": "TEAM=CLE",
         "marker": {
          "color": "#e763fa",
          "size": [
           149,
           112,
           106,
           372,
           136,
           723,
           36,
           68,
           34,
           185,
           899,
           37,
           462,
           139,
           127
          ],
          "sizemode": "area",
          "sizeref": 3.1925,
          "symbol": "circle"
         },
         "mode": "markers",
         "name": "TEAM=CLE",
         "showlegend": true,
         "type": "scatter",
         "uid": "b69d6820-eb63-449a-ad50-8f6d792319a4",
         "x": [
          43.6,
          48.2,
          48.1,
          56.5,
          41.2,
          52.8,
          55.6,
          54.4,
          47.1,
          53.5,
          43.9,
          29.7,
          48.7,
          51.1,
          43.3
         ],
         "xaxis": "x",
         "y": [
          37.2,
          33.8,
          22.5,
          34.4,
          36.1,
          32.4,
          35.5,
          25.6,
          35.7,
          32.4,
          40.3,
          40.5,
          34.7,
          29.8,
          32.5
         ],
         "yaxis": "y"
        },
        {
         "hovertemplate": "<b>%{hovertext}</b><br><br>TEAM=NYK<br>2-point Field Goal Percentage=%{x}<br>3-point Filed Goal Percentage=%{y}<br>2FGA_x=%{marker.size}<extra></extra>",
         "hovertext": [
          "Noah Vonleh",
          "Mario Hezonja",
          "Luke Kornet",
          "Lance Thomas",
          "Kevin Knox",
          "Kadeem Allen",
          "Henry Ellenson",
          "Frank Ntilikina",
          "Emmanuel Mudiay",
          "Dennis Smith Jr.",
          "Damyean Dotson",
          "Allonzo Trier"
         ],
         "legendgroup": "TEAM=NYK",
         "marker": {
          "color": "#fecb52",
          "size": [
           289,
           305,
           85,
           118,
           543,
           104,
           57,
           160,
           508,
           442,
           351,
           378
          ],
          "sizemode": "area",
          "sizeref": 3.1925,
          "symbol": "circle"
         },
         "mode": "markers",
         "name": "TEAM=NYK",
         "showlegend": true,
         "type": "scatter",
         "uid": "aeea5fb3-5b7e-4ba4-bc6f-2f0fae3652ac",
         "x": [
          52.6,
          48.2,
          42.4,
          47.5,
          38.9,
          46.2,
          38.6,
          38.8,
          48.4,
          47.7,
          45.9,
          46.6
         ],
         "xaxis": "x",
         "y": [
          33.8,
          27.8,
          35.3,
          27.8,
          35.1,
          47.2,
          44.7,
          28.6,
          32.7,
          32.2,
          36.4,
          39.2
         ],
         "yaxis": "y"
        },
        {
         "hovertemplate": "<b>%{hovertext}</b><br><br>TEAM=BKN<br>2-point Field Goal Percentage=%{x}<br>3-point Filed Goal Percentage=%{y}<br>2FGA_x=%{marker.size}<extra></extra>",
         "hovertext": [
          "Treveon Graham",
          "Theo Pinson",
          "Spencer Dinwiddie",
          "Shabazz Napier",
          "Rondae Hollis-Jefferson",
          "Rodions Kurucs",
          "Joe Harris",
          "Jarrett Allen",
          "Jared Dudley",
          "DeMarre Carroll",
          "D'Angelo Russell",
          "Caris LeVert",
          "Allen Crabbe"
         ],
         "legendgroup": "TEAM=BKN",
         "marker": {
          "color": "#ffa15a",
          "size": [
           63,
           27,
           458,
           207,
           438,
           265,
           362,
           522,
           88,
           263,
           882,
           329,
           114
          ],
          "sizemode": "area",
          "sizeref": 3.1925,
          "symbol": "circle"
         },
         "mode": "markers",
         "name": "TEAM=BKN",
         "showlegend": true,
         "type": "scatter",
         "uid": "00e1e885-eb7d-43cb-b5fc-f111ea592992",
         "x": [
          41.3,
          48.1,
          52.8,
          44.9,
          43.6,
          54.3,
          52.8,
          62.8,
          54.5,
          45.6,
          48.2,
          48.3,
          34.2
         ],
         "xaxis": "x",
         "y": [
          29.7,
          26.1,
          33.5,
          33.3,
          18.4,
          31.5,
          47.4,
          13.3,
          35.1,
          33.9,
          36.9,
          31.2,
          37.8
         ],
         "yaxis": "y"
        },
        {
         "hovertemplate": "<b>%{hovertext}</b><br><br>TEAM=DEN<br>2-point Field Goal Percentage=%{x}<br>3-point Filed Goal Percentage=%{y}<br>2FGA_x=%{marker.size}<extra></extra>",
         "hovertext": [
          "Will Barton",
          "Trey Lyles",
          "Torrey Craig",
          "Paul Millsap",
          "Nikola Jokic",
          "Monte Morris",
          "Malik Beasley",
          "Juancho Hernangomez",
          "Jamal Murray",
          "Isaiah Thomas",
          "Gary Harris"
         ],
         "legendgroup": "TEAM=DEN",
         "marker": {
          "color": "#ff6692",
          "size": [
           258,
           292,
           173,
           497,
           934,
           471,
           330,
           132,
           753,
           52,
           386
          ],
          "sizemode": "area",
          "sizeref": 3.1925,
          "symbol": "circle"
         },
         "mode": "markers",
         "name": "TEAM=DEN",
         "showlegend": true,
         "type": "scatter",
         "uid": "76caf00f-eb66-490e-9b94-bff94cdffb50",
         "x": [
          44.6,
          52.7,
          57.2,
          51.9,
          56.9,
          53.3,
          56.1,
          54.5,
          47.5,
          38.5,
          47.2
         ],
         "xaxis": "x",
         "y": [
          33.5,
          24.9,
          32.8,
          36.9,
          30.9,
          41.5,
          40.3,
          36.5,
          36.9,
          30,
          33.9
         ],
         "yaxis": "y"
        },
        {
         "hovertemplate": "<b>%{hovertext}</b><br><br>TEAM=LAL<br>2-point Field Goal Percentage=%{x}<br>3-point Filed Goal Percentage=%{y}<br>2FGA_x=%{marker.size}<extra></extra>",
         "hovertext": [
          "Reggie Bullock",
          "Rajon Rondo",
          "Moritz Wagner",
          "Mike Muscala",
          "Michael Beasley",
          "Lonzo Ball",
          "LeBron James",
          "Lance Stephenson",
          "Kyle Kuzma",
          "Kentavious Caldwell-Pope",
          "Josh Hart",
          "JaVale McGee",
          "Brandon Ingram",
          "Alex Caruso"
         ],
         "legendgroup": "TEAM=LAL",
         "marker": {
          "color": "#b6e880",
          "size": [
           199,
           286,
           88,
           101,
           136,
           228,
           757,
           234,
           665,
           320,
           188,
           616,
           633,
           117
          ],
          "sizemode": "area",
          "sizeref": 3.1925,
          "symbol": "circle"
         },
         "mode": "markers",
         "name": "TEAM=LAL",
         "showlegend": true,
         "type": "scatter",
         "uid": "fcba9457-9114-462d-8a2e-f90b9565e69b",
         "x": [
          48.2,
          42.7,
          52.3,
          53.5,
          52.9,
          48.2,
          58.1,
          47.4,
          55.3,
          54.4,
          51.1,
          63.1,
          52.3,
          41.9
         ],
         "xaxis": "x",
         "y": [
          37.9,
          36.7,
          27.4,
          35.3,
          17.6,
          32.9,
          34,
          37.3,
          30.3,
          34.7,
          33.5,
          8.3,
          33,
          50
         ],
         "yaxis": "y"
        }
       ],
       "layout": {
        "grid": {
         "xaxes": [
          "x"
         ],
         "xgap": 0.1,
         "xside": "bottom",
         "yaxes": [
          "y"
         ],
         "ygap": 0.1,
         "yside": "left"
        },
        "height": 600,
        "legend": {
         "tracegroupgap": 0
        },
        "margin": {
         "t": 60
        },
        "template": {
         "data": {
          "bar": [
           {
            "marker": {
             "line": {
              "color": "#E5ECF6",
              "width": 0.5
             }
            },
            "type": "bar"
           }
          ],
          "barpolar": [
           {
            "marker": {
             "line": {
              "color": "#E5ECF6",
              "width": 0.5
             }
            },
            "type": "barpolar"
           }
          ],
          "carpet": [
           {
            "aaxis": {
             "endlinecolor": "#2a3f5f",
             "gridcolor": "white",
             "linecolor": "white",
             "minorgridcolor": "white",
             "startlinecolor": "#2a3f5f"
            },
            "baxis": {
             "endlinecolor": "#2a3f5f",
             "gridcolor": "white",
             "linecolor": "white",
             "minorgridcolor": "white",
             "startlinecolor": "#2a3f5f"
            },
            "type": "carpet"
           }
          ],
          "choropleth": [
           {
            "colorbar": {
             "outlinewidth": 0,
             "ticks": ""
            },
            "type": "choropleth"
           }
          ],
          "contour": [
           {
            "autocolorscale": true,
            "colorbar": {
             "outlinewidth": 0,
             "ticks": ""
            },
            "type": "contour"
           }
          ],
          "contourcarpet": [
           {
            "colorbar": {
             "outlinewidth": 0,
             "ticks": ""
            },
            "type": "contourcarpet"
           }
          ],
          "heatmap": [
           {
            "autocolorscale": true,
            "colorbar": {
             "outlinewidth": 0,
             "ticks": ""
            },
            "type": "heatmap"
           }
          ],
          "heatmapgl": [
           {
            "colorbar": {
             "outlinewidth": 0,
             "ticks": ""
            },
            "type": "heatmapgl"
           }
          ],
          "histogram": [
           {
            "marker": {
             "colorbar": {
              "outlinewidth": 0,
              "ticks": ""
             }
            },
            "type": "histogram"
           }
          ],
          "histogram2d": [
           {
            "autocolorscale": true,
            "colorbar": {
             "outlinewidth": 0,
             "ticks": ""
            },
            "type": "histogram2d"
           }
          ],
          "histogram2dcontour": [
           {
            "autocolorscale": true,
            "colorbar": {
             "outlinewidth": 0,
             "ticks": ""
            },
            "type": "histogram2dcontour"
           }
          ],
          "mesh3d": [
           {
            "colorbar": {
             "outlinewidth": 0,
             "ticks": ""
            },
            "type": "mesh3d"
           }
          ],
          "parcoords": [
           {
            "line": {
             "colorbar": {
              "outlinewidth": 0,
              "ticks": ""
             }
            },
            "type": "parcoords"
           }
          ],
          "scatter": [
           {
            "marker": {
             "colorbar": {
              "outlinewidth": 0,
              "ticks": ""
             }
            },
            "type": "scatter"
           }
          ],
          "scatter3d": [
           {
            "marker": {
             "colorbar": {
              "outlinewidth": 0,
              "ticks": ""
             }
            },
            "type": "scatter3d"
           }
          ],
          "scattercarpet": [
           {
            "marker": {
             "colorbar": {
              "outlinewidth": 0,
              "ticks": ""
             }
            },
            "type": "scattercarpet"
           }
          ],
          "scattergeo": [
           {
            "marker": {
             "colorbar": {
              "outlinewidth": 0,
              "ticks": ""
             }
            },
            "type": "scattergeo"
           }
          ],
          "scattergl": [
           {
            "marker": {
             "colorbar": {
              "outlinewidth": 0,
              "ticks": ""
             }
            },
            "type": "scattergl"
           }
          ],
          "scattermapbox": [
           {
            "marker": {
             "colorbar": {
              "outlinewidth": 0,
              "ticks": ""
             }
            },
            "type": "scattermapbox"
           }
          ],
          "scatterpolar": [
           {
            "marker": {
             "colorbar": {
              "outlinewidth": 0,
              "ticks": ""
             }
            },
            "type": "scatterpolar"
           }
          ],
          "scatterpolargl": [
           {
            "marker": {
             "colorbar": {
              "outlinewidth": 0,
              "ticks": ""
             }
            },
            "type": "scatterpolargl"
           }
          ],
          "scatterternary": [
           {
            "marker": {
             "colorbar": {
              "outlinewidth": 0,
              "ticks": ""
             }
            },
            "type": "scatterternary"
           }
          ],
          "surface": [
           {
            "colorbar": {
             "outlinewidth": 0,
             "ticks": ""
            },
            "type": "surface"
           }
          ],
          "table": [
           {
            "cells": {
             "fill": {
              "color": "#EBF0F8"
             },
             "line": {
              "color": "white"
             }
            },
            "header": {
             "fill": {
              "color": "#C8D4E3"
             },
             "line": {
              "color": "white"
             }
            },
            "type": "table"
           }
          ]
         },
         "layout": {
          "annotationdefaults": {
           "arrowcolor": "#506784",
           "arrowhead": 0,
           "arrowwidth": 1
          },
          "colorscale": {
           "diverging": [
            [
             0,
             "#8e0152"
            ],
            [
             0.1,
             "#c51b7d"
            ],
            [
             0.2,
             "#de77ae"
            ],
            [
             0.3,
             "#f1b6da"
            ],
            [
             0.4,
             "#fde0ef"
            ],
            [
             0.5,
             "#f7f7f7"
            ],
            [
             0.6,
             "#e6f5d0"
            ],
            [
             0.7,
             "#b8e186"
            ],
            [
             0.8,
             "#7fbc41"
            ],
            [
             0.9,
             "#4d9221"
            ],
            [
             1,
             "#276419"
            ]
           ],
           "sequential": [
            [
             0,
             "#0508b8"
            ],
            [
             0.0893854748603352,
             "#1910d8"
            ],
            [
             0.1787709497206704,
             "#3c19f0"
            ],
            [
             0.2681564245810056,
             "#6b1cfb"
            ],
            [
             0.3575418994413408,
             "#981cfd"
            ],
            [
             0.44692737430167595,
             "#bf1cfd"
            ],
            [
             0.5363128491620112,
             "#dd2bfd"
            ],
            [
             0.6256983240223464,
             "#f246fe"
            ],
            [
             0.7150837988826816,
             "#fc67fd"
            ],
            [
             0.8044692737430168,
             "#fe88fc"
            ],
            [
             0.8938547486033519,
             "#fea5fd"
            ],
            [
             0.9832402234636871,
             "#febefe"
            ],
            [
             1,
             "#fec3fe"
            ]
           ],
           "sequentialminus": [
            [
             0,
             "#0508b8"
            ],
            [
             0.0893854748603352,
             "#1910d8"
            ],
            [
             0.1787709497206704,
             "#3c19f0"
            ],
            [
             0.2681564245810056,
             "#6b1cfb"
            ],
            [
             0.3575418994413408,
             "#981cfd"
            ],
            [
             0.44692737430167595,
             "#bf1cfd"
            ],
            [
             0.5363128491620112,
             "#dd2bfd"
            ],
            [
             0.6256983240223464,
             "#f246fe"
            ],
            [
             0.7150837988826816,
             "#fc67fd"
            ],
            [
             0.8044692737430168,
             "#fe88fc"
            ],
            [
             0.8938547486033519,
             "#fea5fd"
            ],
            [
             0.9832402234636871,
             "#febefe"
            ],
            [
             1,
             "#fec3fe"
            ]
           ]
          },
          "colorway": [
           "#636efa",
           "#EF553B",
           "#00cc96",
           "#ab63fa",
           "#19d3f3",
           "#e763fa",
           "#FECB52",
           "#FFA15A",
           "#FF6692",
           "#B6E880"
          ],
          "font": {
           "color": "#2a3f5f"
          },
          "geo": {
           "bgcolor": "white",
           "lakecolor": "white",
           "landcolor": "#E5ECF6",
           "showlakes": true,
           "showland": true,
           "subunitcolor": "white"
          },
          "hovermode": "closest",
          "mapbox": {
           "style": "light"
          },
          "paper_bgcolor": "white",
          "plot_bgcolor": "#E5ECF6",
          "polar": {
           "angularaxis": {
            "gridcolor": "white",
            "linecolor": "white",
            "ticks": ""
           },
           "bgcolor": "#E5ECF6",
           "radialaxis": {
            "gridcolor": "white",
            "linecolor": "white",
            "ticks": ""
           }
          },
          "scene": {
           "xaxis": {
            "backgroundcolor": "#E5ECF6",
            "gridcolor": "white",
            "gridwidth": 2,
            "linecolor": "white",
            "showbackground": true,
            "ticks": "",
            "zerolinecolor": "white"
           },
           "yaxis": {
            "backgroundcolor": "#E5ECF6",
            "gridcolor": "white",
            "gridwidth": 2,
            "linecolor": "white",
            "showbackground": true,
            "ticks": "",
            "zerolinecolor": "white"
           },
           "zaxis": {
            "backgroundcolor": "#E5ECF6",
            "gridcolor": "white",
            "gridwidth": 2,
            "linecolor": "white",
            "showbackground": true,
            "ticks": "",
            "zerolinecolor": "white"
           }
          },
          "shapedefaults": {
           "fillcolor": "#506784",
           "line": {
            "width": 0
           },
           "opacity": 0.4
          },
          "ternary": {
           "aaxis": {
            "gridcolor": "white",
            "linecolor": "white",
            "ticks": ""
           },
           "baxis": {
            "gridcolor": "white",
            "linecolor": "white",
            "ticks": ""
           },
           "bgcolor": "#E5ECF6",
           "caxis": {
            "gridcolor": "white",
            "linecolor": "white",
            "ticks": ""
           }
          },
          "title": {
           "x": 0.05
          },
          "xaxis": {
           "automargin": true,
           "gridcolor": "white",
           "linecolor": "white",
           "ticks": "",
           "zerolinecolor": "white",
           "zerolinewidth": 2
          },
          "yaxis": {
           "automargin": true,
           "gridcolor": "white",
           "linecolor": "white",
           "ticks": "",
           "zerolinecolor": "white",
           "zerolinewidth": 2
          }
         }
        },
        "xaxis": {
         "range": [
          20,
          80
         ],
         "title": {
          "text": "2-point Field Goal Percentage"
         }
        },
        "yaxis": {
         "range": [
          20,
          80
         ],
         "title": {
          "text": "3-point Filed Goal Percentage"
         }
        }
       }
      },
      "text/html": [
       "<div id=\"823a30bb-3dca-4a4f-84b9-00f04bb593ce\" style=\"height: 600px; width: 100%;\" class=\"plotly-graph-div\"></div><script type=\"text/javascript\">require([\"plotly\"], function(Plotly) { window.PLOTLYENV=window.PLOTLYENV || {};window.PLOTLYENV.BASE_URL=\"https://plot.ly\";\n",
       "if (document.getElementById(\"823a30bb-3dca-4a4f-84b9-00f04bb593ce\")) {\n",
       "    Plotly.newPlot(\"823a30bb-3dca-4a4f-84b9-00f04bb593ce\", [{\"marker\": {\"sizemode\": \"area\", \"size\": [202, 54, 333, 609, 585, 105, 867, 79, 710, 491, 306], \"color\": \"#636efa\", \"symbol\": \"circle\", \"sizeref\": 3.1925}, \"type\": \"scatter\", \"legendgroup\": \"TEAM=SAC\", \"hovertext\": [\"Yogi Ferrell\", \"Troy Williams\", \"Nemanja Bjelica\", \"Marvin Bagley III\", \"Harrison Barnes\", \"Frank Mason\", \"De'Aaron Fox\", \"Corey Brewer\", \"Buddy Hield\", \"Bogdan Bogdanovic\", \"Alec Burks\"], \"name\": \"TEAM=SAC\", \"x\": [49.0, 55.6, 54.1, 53.2, 43.9, 54.3, 48.3, 49.4, 48.6, 46.2, 42.8], \"yaxis\": \"y\", \"xaxis\": \"x\", \"showlegend\": true, \"y\": [36.2, 31.8, 40.1, 31.3, 39.5, 21.9, 37.1, 31.8, 42.7, 36.0, 36.3], \"mode\": \"markers\", \"hovertemplate\": \"<b>%{hovertext}</b><br><br>TEAM=SAC<br>2-point Field Goal Percentage=%{x}<br>3-point Filed Goal Percentage=%{y}<br>2FGA_x=%{marker.size}<extra></extra>\", \"uid\": \"c1c1803c-57a8-41bc-a8ea-d5c6cf5e7a08\"}, {\"marker\": {\"sizemode\": \"area\", \"size\": [225, 77, 121, 893, 796, 33, 181, 278, 307, 356, 120, 91, 881, 28], \"color\": \"#EF553B\", \"symbol\": \"circle\", \"sizeref\": 3.1925}, \"type\": \"scatter\", \"legendgroup\": \"TEAM=NOP\", \"hovertext\": [\"Stanley Johnson\", \"Solomon Hill\", \"Kenrich Williams\", \"Julius Randle\", \"Jrue Holiday\", \"Jason Smith\", \"Ian Clark\", \"Frank Jackson\", \"Elfrid Payton\", \"E'Twaun Moore\", \"Darius Miller\", \"Christian Wood\", \"Anthony Davis\", \"Andrew Harrison\"], \"name\": \"TEAM=NOP\", \"x\": [48.4, 46.8, 45.5, 56.4, 53.9, 36.4, 47.0, 50.7, 47.6, 50.6, 46.7, 57.1, 54.7, 39.3], \"yaxis\": \"y\", \"xaxis\": \"x\", \"showlegend\": true, \"y\": [28.8, 31.7, 33.3, 34.4, 32.5, 34.6, 32.7, 31.2, 31.7, 43.2, 36.5, 34.6, 33.1, 20.0], \"mode\": \"markers\", \"hovertemplate\": \"<b>%{hovertext}</b><br><br>TEAM=NOP<br>2-point Field Goal Percentage=%{x}<br>3-point Filed Goal Percentage=%{y}<br>2FGA_x=%{marker.size}<extra></extra>\", \"uid\": \"cbd18fa9-a6bf-4574-9ddd-55e2f4e9b5a1\"}, {\"marker\": {\"sizemode\": \"area\", \"size\": [136, 240, 881, 173, 136, 13, 338, 74, 363, 57, 245], \"color\": \"#00cc96\", \"symbol\": \"circle\", \"sizeref\": 3.1925}, \"type\": \"scatter\", \"legendgroup\": \"TEAM=HOU\", \"hovertext\": [\"PJ Tucker\", \"Kenneth Faried\", \"James Harden\", \"Iman Shumpert\", \"Gerald Green\", \"Gary Clark\", \"Eric Gordon\", \"Danuel House Jr.\", \"Chris Paul\", \"Carmelo Anthony\", \"Austin Rivers\"], \"name\": \"TEAM=HOU\", \"x\": [44.9, 61.7, 52.8, 41.6, 55.1, 69.2, 49.7, 59.5, 47.9, 49.1, 52.2], \"yaxis\": \"y\", \"xaxis\": \"x\", \"showlegend\": true, \"y\": [37.7, 32.0, 36.8, 34.8, 35.5, 29.7, 36.1, 41.6, 35.9, 32.8, 31.8], \"mode\": \"markers\", \"hovertemplate\": \"<b>%{hovertext}</b><br><br>TEAM=HOU<br>2-point Field Goal Percentage=%{x}<br>3-point Filed Goal Percentage=%{y}<br>2FGA_x=%{marker.size}<extra></extra>\", \"uid\": \"91b65032-85ef-46ac-ab04-33c0c24f6293\"}, {\"marker\": {\"sizemode\": \"area\", \"size\": [52, 161, 299, 359, 389, 183, 92, 383, 365, 544, 89, 96, 977, 419], \"color\": \"#ab63fa\", \"symbol\": \"circle\", \"sizeref\": 3.1925}, \"type\": \"scatter\", \"legendgroup\": \"TEAM=WAS\", \"hovertext\": [\"Wesley Johnson\", \"Troy Brown Jr.\", \"Trevor Ariza\", \"Tomas Satoransky\", \"Thomas Bryant\", \"Sam Dekker\", \"Jordan McRae\", \"John Wall\", \"Jeff Green\", \"Jabari Parker\", \"Ian Mahinmi\", \"Chasson Randle\", \"Bradley Beal\", \"Bobby Portis\"], \"name\": \"TEAM=WAS\", \"x\": [38.5, 45.3, 49.5, 52.1, 68.4, 51.4, 55.4, 50.7, 58.9, 55.9, 49.4, 44.8, 55.1, 46.5], \"yaxis\": \"y\", \"xaxis\": \"x\", \"showlegend\": true, \"y\": [32.9, 30.8, 33.6, 38.1, 34.7, 30.6, 29.4, 30.2, 35.0, 31.4, 18.8, 40.7, 35.3, 38.5], \"mode\": \"markers\", \"hovertemplate\": \"<b>%{hovertext}</b><br><br>TEAM=WAS<br>2-point Field Goal Percentage=%{x}<br>3-point Filed Goal Percentage=%{y}<br>2FGA_x=%{marker.size}<extra></extra>\", \"uid\": \"019c3d46-0052-4ef6-9fe7-df1daf1ea561\"}, {\"marker\": {\"sizemode\": \"area\", \"size\": [152, 775, 279, 116, 304, 391, 80, 673, 36, 309, 444, 37, 58, 444], \"color\": \"#19d3f3\", \"symbol\": \"circle\", \"sizeref\": 3.1925}, \"type\": \"scatter\", \"legendgroup\": \"TEAM=ATL\", \"hovertext\": [\"Vince Carter\", \"Trae Young\", \"Taurean Prince\", \"Omari Spellman\", \"Kevin Huerter\", \"Kent Bazemore\", \"Justin Anderson\", \"John Collins\", \"Jaylen Adams\", \"Dewayne Dedmon\", \"DeAndre' Bembry\", \"Daniel Hamilton\", \"Alex Poythress\", \"Alex Len\"], \"name\": \"TEAM=ATL\", \"x\": [48.0, 47.6, 49.8, 46.6, 45.7, 46.5, 50.0, 60.9, 36.1, 57.0, 50.7, 40.5, 53.4, 55.4], \"yaxis\": \"y\", \"xaxis\": \"x\", \"showlegend\": true, \"y\": [38.9, 32.4, 39.0, 34.4, 38.4, 32.0, 31.2, 34.8, 33.8, 38.2, 28.9, 34.8, 39.1, 36.3], \"mode\": \"markers\", \"hovertemplate\": \"<b>%{hovertext}</b><br><br>TEAM=ATL<br>2-point Field Goal Percentage=%{x}<br>3-point Filed Goal Percentage=%{y}<br>2FGA_x=%{marker.size}<extra></extra>\", \"uid\": \"23dcc882-aef6-4b76-8812-d2a0a016f0af\"}, {\"marker\": {\"sizemode\": \"area\", \"size\": [157, 160, 165, 81, 149, 224, 503, 674, 68, 1045, 223, 222, 595, 41, 122, 273, 18], \"color\": \"#e763fa\", \"symbol\": \"circle\", \"sizeref\": 3.1925}, \"type\": \"scatter\", \"legendgroup\": \"TEAM=MIL\", \"hovertext\": [\"Tony Snell\", \"Tim Frazier\", \"Sterling Brown\", \"Pau Gasol\", \"Pat Connaughton\", \"Nikola Mirotic\", \"Malcolm Brogdon\", \"Khris Middleton\", \"Isaiah Canaan\", \"Giannis Antetokounmpo\", \"George Hill\", \"Ersan Ilyasova\", \"Eric Bledsoe\", \"Donte DiVincenzo\", \"D.J. Wilson\", \"Brook Lopez\", \"Bonzie Colson\"], \"name\": \"TEAM=MIL\", \"x\": [52.2, 49.4, 55.8, 44.4, 65.1, 54.5, 54.5, 48.5, 44.1, 64.0, 54.7, 49.1, 58.2, 68.3, 46.7, 61.5, 44.4], \"yaxis\": \"y\", \"xaxis\": \"x\", \"showlegend\": true, \"y\": [39.7, 36.6, 36.1, 46.2, 33.0, 36.5, 42.6, 37.8, 35.4, 25.6, 31.4, 36.3, 32.9, 26.5, 36.2, 36.4, 23.8], \"mode\": \"markers\", \"hovertemplate\": \"<b>%{hovertext}</b><br><br>TEAM=MIL<br>2-point Field Goal Percentage=%{x}<br>3-point Filed Goal Percentage=%{y}<br>2FGA_x=%{marker.size}<extra></extra>\", \"uid\": \"16f8928d-7924-4ac6-9e61-1ba02630adbe\"}, {\"marker\": {\"sizemode\": \"area\", \"size\": [195, 451, 1094, 164, 85, 141, 336, 106, 47, 104, 601, 358, 682], \"color\": \"#fecb52\", \"symbol\": \"circle\", \"sizeref\": 3.1925}, \"type\": \"scatter\", \"legendgroup\": \"TEAM=ORL\", \"hovertext\": [\"Wes Iwundu\", \"Terrence Ross\", \"Nikola Vucevic\", \"Mo Bamba\", \"Michael Carter-Williams\", \"Markelle Fultz\", \"Jonathan Isaac\", \"Jerian Grant\", \"Jarell Martin\", \"Isaiah Briscoe\", \"Evan Fournier\", \"D.J. Augustin\", \"Aaron Gordon\"], \"name\": \"TEAM=ORL\", \"x\": [43.1, 48.1, 55.2, 56.1, 42.4, 43.3, 51.5, 46.2, 48.9, 42.3, 50.4, 51.4, 50.0], \"yaxis\": \"y\", \"xaxis\": \"x\", \"showlegend\": true, \"y\": [36.7, 38.2, 36.0, 29.2, 26.3, 28.6, 32.3, 36.7, 35.1, 32.4, 34.3, 41.6, 34.8], \"mode\": \"markers\", \"hovertemplate\": \"<b>%{hovertext}</b><br><br>TEAM=ORL<br>2-point Field Goal Percentage=%{x}<br>3-point Filed Goal Percentage=%{y}<br>2FGA_x=%{marker.size}<extra></extra>\", \"uid\": \"830ea770-6be8-4886-94e9-726d7f29c548\"}, {\"marker\": {\"sizemode\": \"area\", \"size\": [139, 1045, 74, 845, 81, 278, 525, 140, 55, 727, 30, 114], \"color\": \"#ffa15a\", \"symbol\": \"circle\", \"sizeref\": 3.1925}, \"type\": \"scatter\", \"legendgroup\": \"TEAM=OKC\", \"hovertext\": [\"Terrance Ferguson\", \"Russell Westbrook\", \"Raymond Felton\", \"Paul George\", \"Patrick Patterson\", \"Markieff Morris\", \"Jerami Grant\", \"Hamidou Diallo\", \"Deonte Burton\", \"Dennis Schroder\", \"Alex Abrines\", \"Abdel Nader\"], \"name\": \"TEAM=OKC\", \"x\": [56.1, 48.1, 47.3, 48.6, 44.4, 48.6, 55.4, 50.7, 45.5, 45.1, 50.0, 51.8], \"yaxis\": \"y\", \"xaxis\": \"x\", \"showlegend\": true, \"y\": [36.3, 29.1, 32.8, 38.5, 33.8, 33.5, 39.9, 16.7, 29.6, 33.8, 32.3, 31.3], \"mode\": \"markers\", \"hovertemplate\": \"<b>%{hovertext}</b><br><br>TEAM=OKC<br>2-point Field Goal Percentage=%{x}<br>3-point Filed Goal Percentage=%{y}<br>2FGA_x=%{marker.size}<extra></extra>\", \"uid\": \"06f3f590-546c-4060-be84-d46e5e7db7d2\"}, {\"marker\": {\"sizemode\": \"area\", \"size\": [388, 511, 78, 33, 168, 672, 239, 383, 257, 358, 274, 171, 147, 74], \"color\": \"#ff6692\", \"symbol\": \"circle\", \"sizeref\": 3.1925}, \"type\": \"scatter\", \"legendgroup\": \"TEAM=DAL\", \"hovertext\": [\"Trey Burke\", \"Tim Hardaway Jr.\", \"Salah Mejri\", \"Ryan Broekhoff\", \"Maxi Kleber\", \"Luka Doncic\", \"Justin Jackson\", \"Jalen Brunson\", \"J.J. Barea\", \"Dwight Powell\", \"Dorian Finney-Smith\", \"Dirk Nowitzki\", \"Devin Harris\", \"Courtney Lee\"], \"name\": \"TEAM=DAL\", \"x\": [46.1, 44.2, 56.4, 57.6, 58.3, 50.3, 54.4, 52.2, 47.9, 70.1, 54.4, 41.5, 47.6, 50.0], \"yaxis\": \"y\", \"xaxis\": \"x\", \"showlegend\": true, \"y\": [35.0, 33.8, 32.4, 40.4, 35.3, 32.6, 35.5, 34.8, 29.7, 30.7, 31.1, 31.2, 31.0, 29.1], \"mode\": \"markers\", \"hovertemplate\": \"<b>%{hovertext}</b><br><br>TEAM=DAL<br>2-point Field Goal Percentage=%{x}<br>3-point Filed Goal Percentage=%{y}<br>2FGA_x=%{marker.size}<extra></extra>\", \"uid\": \"44c15a65-084b-4290-ae22-fb99d621c5e5\"}, {\"marker\": {\"sizemode\": \"area\", \"size\": [518, 238, 794, 988, 166, 37, 251, 269, 59, 158, 158], \"color\": \"#b6e880\", \"symbol\": \"circle\", \"sizeref\": 3.1925}, \"type\": \"scatter\", \"legendgroup\": \"TEAM=GSW\", \"hovertext\": [\"Stephen Curry\", \"Quinn Cook\", \"Klay Thompson\", \"Kevin Durant\", \"Jonas Jerebko\", \"Jacob Evans\", \"Draymond Green\", \"DeMarcus Cousins\", \"Damion Lee\", \"Andre Iguodala\", \"Alfonzo McKinnie\"], \"name\": \"TEAM=GSW\", \"x\": [53.1, 51.3, 51.6, 58.8, 56.6, 37.8, 54.2, 55.0, 49.2, 65.2, 58.2], \"yaxis\": \"y\", \"xaxis\": \"x\", \"showlegend\": true, \"y\": [43.2, 39.8, 40.5, 35.2, 36.4, 26.7, 27.7, 27.7, 39.7, 33.3, 35.9], \"mode\": \"markers\", \"hovertemplate\": \"<b>%{hovertext}</b><br><br>TEAM=GSW<br>2-point Field Goal Percentage=%{x}<br>3-point Filed Goal Percentage=%{y}<br>2FGA_x=%{marker.size}<extra></extra>\", \"uid\": \"ca36c085-4648-4851-8c42-ecc13f343cfe\"}, {\"marker\": {\"sizemode\": \"area\", \"size\": [18, 860, 372, 43, 168, 238, 66, 922, 700, 138, 419, 101, 117], \"color\": \"#636efa\", \"symbol\": \"circle\", \"sizeref\": 3.1925}, \"type\": \"scatter\", \"legendgroup\": \"TEAM=PHI\", \"hovertext\": [\"Zhaire Smith\", \"Tobias Harris\", \"T.J. McConnell\", \"Shake Milton\", \"Mike Scott\", \"Jonathon Simmons\", \"Jonah Bolden\", \"Joel Embiid\", \"Jimmy Butler\", \"James Ennis III\", \"JJ Redick\", \"Furkan Korkmaz\", \"Amir Johnson\"], \"name\": \"TEAM=PHI\", \"x\": [44.4, 52.8, 55.1, 46.5, 39.9, 42.0, 69.7, 53.3, 49.6, 60.1, 49.9, 50.5, 57.3], \"yaxis\": \"y\", \"xaxis\": \"x\", \"showlegend\": true, \"y\": [37.5, 39.5, 32.6, 31.8, 40.1, 26.7, 35.1, 30.4, 35.5, 35.3, 39.7, 32.6, 30.0], \"mode\": \"markers\", \"hovertemplate\": \"<b>%{hovertext}</b><br><br>TEAM=PHI<br>2-point Field Goal Percentage=%{x}<br>3-point Filed Goal Percentage=%{y}<br>2FGA_x=%{marker.size}<extra></extra>\", \"uid\": \"e7524812-d6c7-4fd5-acd1-323aa18b42c8\"}, {\"marker\": {\"sizemode\": \"area\", \"size\": [328, 69, 221, 455, 807, 725, 516, 49, 406, 200, 66, 162, 520], \"color\": \"#EF553B\", \"symbol\": \"circle\", \"sizeref\": 3.1925}, \"type\": \"scatter\", \"legendgroup\": \"TEAM=BOS\", \"hovertext\": [\"Terry Rozier\", \"Semi Ojeleye\", \"Marcus Smart\", \"Marcus Morris\", \"Kyrie Irving\", \"Jayson Tatum\", \"Jaylen Brown\", \"Guerschon Yabusele\", \"Gordon Hayward\", \"Daniel Theis\", \"Brad Wanamaker\", \"Aron Baynes\", \"Al Horford\"], \"name\": \"TEAM=BOS\", \"x\": [42.4, 56.5, 51.1, 50.8, 53.3, 48.3, 52.9, 53.1, 53.9, 60.0, 51.5, 51.9, 60.4], \"yaxis\": \"y\", \"xaxis\": \"x\", \"showlegend\": true, \"y\": [35.3, 31.5, 36.4, 37.5, 40.1, 37.3, 34.4, 32.1, 33.3, 38.8, 41.0, 34.4, 36.0], \"mode\": \"markers\", \"hovertemplate\": \"<b>%{hovertext}</b><br><br>TEAM=BOS<br>2-point Field Goal Percentage=%{x}<br>3-point Filed Goal Percentage=%{y}<br>2FGA_x=%{marker.size}<extra></extra>\", \"uid\": \"3a6bc1a6-3c58-4e21-ac68-3f236ca58d0a\"}, {\"marker\": {\"sizemode\": \"area\", \"size\": [796, 333, 306, 101, 335, 196, 497, 27, 374, 459, 406, 39, 159, 31, 304], \"color\": \"#00cc96\", \"symbol\": \"circle\", \"sizeref\": 3.1925}, \"type\": \"scatter\", \"legendgroup\": \"TEAM=CHI\", \"hovertext\": [\"Zach LaVine\", \"Wendell Carter Jr.\", \"Wayne Selden\", \"Timothe Luwawu-Cabarrot\", \"Shaquille Harrison\", \"Ryan Arcidiacono\", \"Robin Lopez\", \"Rawle Alkins\", \"Otto Porter Jr.\", \"Lauri Markkanen\", \"Kris Dunn\", \"JaKarr Sampson\", \"Chandler Hutchison\", \"Brandon Sampson\", \"Antonio Blakeney\"], \"name\": \"TEAM=CHI\", \"x\": [50.1, 51.1, 46.1, 45.5, 47.8, 52.6, 59.2, 37.0, 50.3, 48.4, 44.3, 61.5, 51.6, 54.8, 42.8], \"yaxis\": \"y\", \"xaxis\": \"x\", \"showlegend\": true, \"y\": [37.2, 18.8, 31.4, 31.0, 27.0, 37.5, 22.6, 25.0, 40.7, 36.2, 34.7, 35.7, 28.0, 37.9, 39.1], \"mode\": \"markers\", \"hovertemplate\": \"<b>%{hovertext}</b><br><br>TEAM=CHI<br>2-point Field Goal Percentage=%{x}<br>3-point Filed Goal Percentage=%{y}<br>2FGA_x=%{marker.size}<extra></extra>\", \"uid\": \"ad48d490-bb27-4f34-85b1-507cb18c62c6\"}, {\"marker\": {\"sizemode\": \"area\", \"size\": [35, 132, 118, 694, 115, 242, 305, 489, 83, 448, 197, 82, 389, 88, 106, 95, 363], \"color\": \"#ab63fa\", \"symbol\": \"circle\", \"sizeref\": 3.1925}, \"type\": \"scatter\", \"legendgroup\": \"TEAM=MEM\", \"hovertext\": [\"Yuta Watanabe\", \"Tyler Dorsey\", \"Omri Casspi\", \"Mike Conley\", \"MarShon Brooks\", \"Kyle Anderson\", \"Justin Holiday\", \"Jonas Valanciunas\", \"Jevon Carter\", \"Jaren Jackson Jr.\", \"Ivan Rabb\", \"Dillon Brooks\", \"Delon Wright\", \"Chandler Parsons\", \"CJ Miles\", \"Bruno Caboclo\", \"Avery Bradley\"], \"name\": \"TEAM=MEM\", \"x\": [37.1, 47.7, 60.2, 48.3, 53.0, 58.3, 44.6, 58.5, 26.5, 55.1, 57.4, 41.5, 49.1, 44.3, 42.5, 50.5, 44.6], \"yaxis\": \"y\", \"xaxis\": \"x\", \"showlegend\": true, \"y\": [12.5, 33.3, 34.9, 36.4, 27.8, 26.5, 34.3, 29.2, 33.3, 35.9, 20.0, 37.5, 29.9, 30.1, 33.0, 36.9, 35.1], \"mode\": \"markers\", \"hovertemplate\": \"<b>%{hovertext}</b><br><br>TEAM=MEM<br>2-point Field Goal Percentage=%{x}<br>3-point Filed Goal Percentage=%{y}<br>2FGA_x=%{marker.size}<extra></extra>\", \"uid\": \"59f2cce6-f392-469e-882f-63843932f06f\"}, {\"marker\": {\"sizemode\": \"area\", \"size\": [275, 36, 214, 435, 130, 267, 797, 243, 29, 390, 642, 889, 795, 34, 310], \"color\": \"#19d3f3\", \"symbol\": \"circle\", \"sizeref\": 3.1925}, \"type\": \"scatter\", \"legendgroup\": \"TEAM=POR\", \"hovertext\": [\"Zach Collins\", \"Skal Labissiere\", \"Seth Curry\", \"Rodney Hood\", \"Meyers Leonard\", \"Maurice Harkless\", \"Jusuf Nurkic\", \"Jake Layman\", \"Gary Trent Jr.\", \"Evan Turner\", \"Enes Kanter\", \"Damian Lillard\", \"CJ McCollum\", \"Anfernee Simons\", \"Al-Farouq Aminu\"], \"name\": \"TEAM=POR\", \"x\": [53.8, 55.6, 46.3, 47.8, 63.1, 58.1, 52.3, 64.6, 37.9, 49.5, 56.4, 49.8, 50.6, 52.9, 51.3], \"yaxis\": \"y\", \"xaxis\": \"x\", \"showlegend\": true, \"y\": [33.1, 46.2, 45.0, 35.6, 45.0, 27.5, 10.3, 32.6, 23.8, 21.2, 29.4, 36.9, 37.5, 34.5, 34.5], \"mode\": \"markers\", \"hovertemplate\": \"<b>%{hovertext}</b><br><br>TEAM=POR<br>2-point Field Goal Percentage=%{x}<br>3-point Filed Goal Percentage=%{y}<br>2FGA_x=%{marker.size}<extra></extra>\", \"uid\": \"ab48242f-2dbd-4083-a54b-2559736f48b9\"}, {\"marker\": {\"sizemode\": \"area\", \"size\": [296, 372, 444, 695, 152, 584, 123, 37, 217, 685, 465, 377, 664, 135], \"color\": \"#e763fa\", \"symbol\": \"circle\", \"sizeref\": 3.1925}, \"type\": \"scatter\", \"legendgroup\": \"TEAM=IND\", \"hovertext\": [\"Wesley Matthews\", \"Victor Oladipo\", \"Tyreke Evans\", \"Thaddeus Young\", \"TJ Leaf\", \"Myles Turner\", \"Kyle O'Quinn\", \"Edmond Sumner\", \"Doug McDermott\", \"Domantas Sabonis\", \"Darren Collison\", \"Cory Joseph\", \"Bojan Bogdanovic\", \"Aaron Holiday\"], \"name\": \"TEAM=IND\", \"x\": [43.6, 47.0, 40.5, 56.4, 59.9, 52.1, 54.5, 40.5, 56.7, 59.0, 49.2, 45.4, 53.9, 45.9], \"yaxis\": \"y\", \"xaxis\": \"x\", \"showlegend\": true, \"y\": [37.2, 34.3, 35.6, 34.9, 25.8, 38.8, 8.3, 25.9, 40.8, 52.9, 40.7, 32.2, 42.5, 33.9], \"mode\": \"markers\", \"hovertemplate\": \"<b>%{hovertext}</b><br><br>TEAM=IND<br>2-point Field Goal Percentage=%{x}<br>3-point Filed Goal Percentage=%{y}<br>2FGA_x=%{marker.size}<extra></extra>\", \"uid\": \"e945f752-18c3-458f-b161-f7de5238fd99\"}, {\"marker\": {\"sizemode\": \"area\", \"size\": [320, 504, 137, 74, 90, 960, 293, 132, 311, 321, 607, 373, 27, 19, 44, 861], \"color\": \"#fecb52\", \"symbol\": \"circle\", \"sizeref\": 3.1925}, \"type\": \"scatter\", \"legendgroup\": \"TEAM=MIN\", \"hovertext\": [\"Tyus Jones\", \"Taj Gibson\", \"Robert Covington\", \"Luol Deng\", \"Keita Bates-Diop\", \"Karl-Anthony Towns\", \"Josh Okogie\", \"Jerryd Bayless\", \"Jeff Teague\", \"Gorgui Dieng\", \"Derrick Rose\", \"Dario Saric\", \"Cameron Reynolds\", \"C.J. Williams\", \"Anthony Tolliver\", \"Andrew Wiggins\"], \"name\": \"TEAM=MIN\", \"x\": [45.3, 58.1, 51.8, 60.8, 52.2, 56.1, 46.4, 40.2, 45.3, 53.0, 50.9, 49.9, 44.4, 63.2, 40.9, 44.0], \"yaxis\": \"y\", \"xaxis\": \"x\", \"showlegend\": true, \"y\": [31.7, 32.4, 37.8, 31.8, 25.0, 40.0, 27.9, 29.6, 33.3, 33.9, 37.0, 36.5, 41.2, 31.3, 37.7, 33.9], \"mode\": \"markers\", \"hovertemplate\": \"<b>%{hovertext}</b><br><br>TEAM=MIN<br>2-point Field Goal Percentage=%{x}<br>3-point Filed Goal Percentage=%{y}<br>2FGA_x=%{marker.size}<extra></extra>\", \"uid\": \"422c1ae4-c115-42c4-890b-341acc62d554\"}, {\"marker\": {\"sizemode\": \"area\", \"size\": [68, 167, 457, 100, 133, 309, 271, 79, 76, 983, 522, 174], \"color\": \"#ffa15a\", \"symbol\": \"circle\", \"sizeref\": 3.1925}, \"type\": \"scatter\", \"legendgroup\": \"TEAM=UTA\", \"hovertext\": [\"Thabo Sefolosha\", \"Royce O'Neale\", \"Ricky Rubio\", \"Raul Neto\", \"Kyle Korver\", \"Joe Ingles\", \"Jae Crowder\", \"Grayson Allen\", \"Georges Niang\", \"Donovan Mitchell\", \"Derrick Favors\", \"Dante Exum\"], \"name\": \"TEAM=UTA\", \"x\": [51.5, 56.9, 45.3, 53.0, 47.4, 54.0, 52.0, 44.3, 56.6, 46.8, 64.2, 47.1], \"yaxis\": \"y\", \"xaxis\": \"x\", \"showlegend\": true, \"y\": [43.6, 38.2, 32.0, 33.3, 40.2, 39.3, 32.8, 32.3, 41.0, 35.8, 21.8, 29.0], \"mode\": \"markers\", \"hovertemplate\": \"<b>%{hovertext}</b><br><br>TEAM=UTA<br>2-point Field Goal Percentage=%{x}<br>3-point Filed Goal Percentage=%{y}<br>2FGA_x=%{marker.size}<extra></extra>\", \"uid\": \"06431fdf-42cf-4b7a-a5fb-24e499554289\"}, {\"marker\": {\"sizemode\": \"area\", \"size\": [85, 115, 50, 576, 251, 206, 34, 63, 102, 355, 114, 222, 819, 1012], \"color\": \"#ff6692\", \"symbol\": \"circle\", \"sizeref\": 3.1925}, \"type\": \"scatter\", \"legendgroup\": \"TEAM=DET\", \"hovertext\": [\"Wayne Ellington\", \"Thon Maker\", \"Svi Mykhailiuk\", \"Reggie Jackson\", \"Luke Kennard\", \"Langston Galloway\", \"Khyri Thomas\", \"Jose Calderon\", \"Jon Leuer\", \"Ish Smith\", \"Glenn Robinson III\", \"Bruce Brown\", \"Blake Griffin\", \"Andre Drummond\"], \"name\": \"TEAM=DET\", \"x\": [54.1, 52.2, 34.0, 46.4, 48.6, 45.1, 35.3, 49.2, 63.7, 45.4, 49.1, 45.5, 52.5, 54.8], \"yaxis\": \"y\", \"xaxis\": \"x\", \"showlegend\": true, \"y\": [37.1, 32.0, 32.6, 36.9, 39.4, 35.4, 28.6, 24.6, 8.3, 32.6, 29.5, 25.8, 36.2, 13.2], \"mode\": \"markers\", \"hovertemplate\": \"<b>%{hovertext}</b><br><br>TEAM=DET<br>2-point Field Goal Percentage=%{x}<br>3-point Filed Goal Percentage=%{y}<br>2FGA_x=%{marker.size}<extra></extra>\", \"uid\": \"0e7eb226-c2b6-4a80-a20a-94e4a3e28121\"}, {\"marker\": {\"sizemode\": \"area\", \"size\": [266, 81, 431, 250, 503, 615, 236, 158, 96, 840, 161], \"color\": \"#b6e880\", \"symbol\": \"circle\", \"sizeref\": 3.1925}, \"type\": \"scatter\", \"legendgroup\": \"TEAM=PHX\", \"hovertext\": [\"Tyler Johnson\", \"Troy Daniels\", \"T.J. Warren\", \"Mikal Bridges\", \"Kelly Oubre Jr.\", \"Josh Jackson\", \"Jamal Crawford\", \"Elie Okobo\", \"Dragan Bender\", \"Devin Booker\", \"De'Anthony Melton\"], \"name\": \"TEAM=PHX\", \"x\": [47.7, 48.1, 51.0, 54.8, 53.1, 44.6, 45.3, 47.5, 68.8, 53.6, 44.1], \"yaxis\": \"y\", \"xaxis\": \"x\", \"showlegend\": true, \"y\": [34.6, 38.1, 42.8, 33.5, 32.0, 32.4, 33.2, 29.5, 21.8, 32.6, 30.5], \"mode\": \"markers\", \"hovertemplate\": \"<b>%{hovertext}</b><br><br>TEAM=PHX<br>2-point Field Goal Percentage=%{x}<br>3-point Filed Goal Percentage=%{y}<br>2FGA_x=%{marker.size}<extra></extra>\", \"uid\": \"a657b81f-280e-40df-aba3-d997c1f7143e\"}, {\"marker\": {\"sizemode\": \"area\", \"size\": [562, 40, 259, 295, 33, 1277, 401, 1268, 115, 93, 378], \"color\": \"#636efa\", \"symbol\": \"circle\", \"sizeref\": 3.1925}, \"type\": \"scatter\", \"legendgroup\": \"TEAM=SAS\", \"hovertext\": [\"Rudy Gay\", \"Quincy Pondexter\", \"Patty Mills\", \"Marco Belinelli\", \"Lonnie Walker IV\", \"LaMarcus Aldridge\", \"Derrick White\", \"DeMar DeRozan\", \"Davis Bertans\", \"Dante Cunningham\", \"Bryn Forbes\"], \"name\": \"TEAM=SAS\", \"x\": [53.7, 57.5, 47.5, 46.8, 33.3, 52.8, 52.9, 49.2, 51.3, 48.4, 48.9], \"yaxis\": \"y\", \"xaxis\": \"x\", \"showlegend\": true, \"y\": [40.2, 33.3, 39.4, 37.2, 38.5, 23.8, 33.8, 15.6, 42.9, 46.2, 42.6], \"mode\": \"markers\", \"hovertemplate\": \"<b>%{hovertext}</b><br><br>TEAM=SAS<br>2-point Field Goal Percentage=%{x}<br>3-point Filed Goal Percentage=%{y}<br>2FGA_x=%{marker.size}<extra></extra>\", \"uid\": \"3cdf5b1b-caa4-46e8-a6ad-16ee1e0cba58\"}, {\"marker\": {\"sizemode\": \"area\", \"size\": [115, 198, 34, 577, 236, 194, 871, 845, 161, 53, 300, 228, 511], \"color\": \"#EF553B\", \"symbol\": \"circle\", \"sizeref\": 3.1925}, \"type\": \"scatter\", \"legendgroup\": \"TEAM=LAC\", \"hovertext\": [\"Wilson Chandler\", \"Tyrone Wallace\", \"Sindarius Thornwell\", \"Shai Gilgeous-Alexander\", \"Rodney McGruder\", \"Patrick Beverley\", \"Montrezl Harrell\", \"Lou Williams\", \"Landry Shamet\", \"Jerome Robinson\", \"JaMychal Green\", \"Garrett Temple\", \"Danilo Gallinari\"], \"name\": \"TEAM=LAC\", \"x\": [47.8, 44.4, 41.2, 50.3, 45.3, 42.3, 62.3, 44.9, 45.3, 49.1, 53.0, 51.8, 48.5], \"yaxis\": \"y\", \"xaxis\": \"x\", \"showlegend\": true, \"y\": [37.7, 21.1, 20.0, 36.7, 34.8, 39.9, 17.6, 36.0, 41.7, 31.6, 40.3, 34.1, 43.3], \"mode\": \"markers\", \"hovertemplate\": \"<b>%{hovertext}</b><br><br>TEAM=LAC<br>2-point Field Goal Percentage=%{x}<br>3-point Filed Goal Percentage=%{y}<br>2FGA_x=%{marker.size}<extra></extra>\", \"uid\": \"641d75bc-c6a7-497a-820b-6f5567c8be54\"}, {\"marker\": {\"sizemode\": \"area\", \"size\": [259, 412, 273, 263, 312, 286, 271, 256, 952, 648, 159, 170, 95, 323], \"color\": \"#00cc96\", \"symbol\": \"circle\", \"sizeref\": 3.1925}, \"type\": \"scatter\", \"legendgroup\": \"TEAM=CHA\", \"hovertext\": [\"Willy Hernangomez\", \"Tony Parker\", \"Shelvin Mack\", \"Nicolas Batum\", \"Miles Bridges\", \"Michael Kidd-Gilchrist\", \"Marvin Williams\", \"Malik Monk\", \"Kemba Walker\", \"Jeremy Lamb\", \"Frank Kaminsky\", \"Dwayne Bacon\", \"Devonte' Graham\", \"Cody Zeller\"], \"name\": \"TEAM=CHA\", \"x\": [53.3, 48.5, 42.9, 52.1, 55.1, 49.7, 49.8, 46.1, 49.4, 48.6, 55.3, 49.4, 42.1, 57.0], \"yaxis\": \"y\", \"xaxis\": \"x\", \"showlegend\": true, \"y\": [38.5, 25.5, 35.4, 39.1, 32.5, 33.3, 36.6, 33.0, 35.6, 34.8, 36.0, 43.7, 28.1, 27.3], \"mode\": \"markers\", \"hovertemplate\": \"<b>%{hovertext}</b><br><br>TEAM=CHA<br>2-point Field Goal Percentage=%{x}<br>3-point Filed Goal Percentage=%{y}<br>2FGA_x=%{marker.size}<extra></extra>\", \"uid\": \"c3b48370-db5a-4b15-a274-2a88899b1caf\"}, {\"marker\": {\"sizemode\": \"area\", \"size\": [707, 35, 729, 200, 230, 597, 42, 286, 827, 21, 354, 302, 195, 39], \"color\": \"#ab63fa\", \"symbol\": \"circle\", \"sizeref\": 3.1925}, \"type\": \"scatter\", \"legendgroup\": \"TEAM=TOR\", \"hovertext\": [\"Serge Ibaka\", \"Patrick McCaw\", \"Pascal Siakam\", \"OG Anunoby\", \"Norman Powell\", \"Marc Gasol\", \"Lorenzo Brown\", \"Kyle Lowry\", \"Kawhi Leonard\", \"Jodie Meeks\", \"Jeremy Lin\", \"Fred VanVleet\", \"Danny Green\", \"Chris Boucher\"], \"name\": \"TEAM=TOR\", \"x\": [58.7, 48.6, 60.2, 57.0, 54.3, 48.7, 38.1, 51.4, 54.2, 61.9, 51.7, 44.0, 48.7, 56.4], \"yaxis\": \"y\", \"xaxis\": \"x\", \"showlegend\": true, \"y\": [29.0, 32.1, 36.9, 33.2, 40.0, 36.3, 22.2, 34.7, 37.1, 44.4, 29.4, 37.8, 45.5, 32.4], \"mode\": \"markers\", \"hovertemplate\": \"<b>%{hovertext}</b><br><br>TEAM=TOR<br>2-point Field Goal Percentage=%{x}<br>3-point Filed Goal Percentage=%{y}<br>2FGA_x=%{marker.size}<extra></extra>\", \"uid\": \"695b2751-0599-49a6-af7e-f16244c515f1\"}, {\"marker\": {\"sizemode\": \"area\", \"size\": [29, 245, 493, 567, 230, 664, 269, 698, 190, 234, 471], \"color\": \"#19d3f3\", \"symbol\": \"circle\", \"sizeref\": 3.1925}, \"type\": \"scatter\", \"legendgroup\": \"TEAM=MIA\", \"hovertext\": [\"Ryan Anderson\", \"Kelly Olynyk\", \"Justise Winslow\", \"Josh Richardson\", \"James Johnson\", \"Hassan Whiteside\", \"Goran Dragic\", \"Dwyane Wade\", \"Dion Waiters\", \"Derrick Jones Jr.\", \"Bam Adebayo\"], \"name\": \"TEAM=MIA\", \"x\": [41.4, 60.4, 46.2, 45.7, 49.6, 58.1, 45.4, 47.3, 46.8, 56.4, 58.8], \"yaxis\": \"y\", \"xaxis\": \"x\", \"showlegend\": true, \"y\": [22.5, 35.4, 37.5, 35.7, 33.6, 12.5, 35.0, 33.1, 37.7, 30.8, 20.0], \"mode\": \"markers\", \"hovertemplate\": \"<b>%{hovertext}</b><br><br>TEAM=MIA<br>2-point Field Goal Percentage=%{x}<br>3-point Filed Goal Percentage=%{y}<br>2FGA_x=%{marker.size}<extra></extra>\", \"uid\": \"82c0ffdf-43d2-413a-9a71-567dca7cdf50\"}, {\"marker\": {\"sizemode\": \"area\", \"size\": [149, 112, 106, 372, 136, 723, 36, 68, 34, 185, 899, 37, 462, 139, 127], \"color\": \"#e763fa\", \"symbol\": \"circle\", \"sizeref\": 3.1925}, \"type\": \"scatter\", \"legendgroup\": \"TEAM=CLE\", \"hovertext\": [\"Nik Stauskas\", \"Matthew Dellavedova\", \"Marquese Chriss\", \"Larry Nance Jr.\", \"Kevin Love\", \"Jordan Clarkson\", \"John Henson\", \"Jaron Blossomgame\", \"Jalen Jones\", \"David Nwaba\", \"Collin Sexton\", \"Channing Frye\", \"Cedi Osman\", \"Cameron Payne\", \"Brandon Knight\"], \"name\": \"TEAM=CLE\", \"x\": [43.6, 48.2, 48.1, 56.5, 41.2, 52.8, 55.6, 54.4, 47.1, 53.5, 43.9, 29.7, 48.7, 51.1, 43.3], \"yaxis\": \"y\", \"xaxis\": \"x\", \"showlegend\": true, \"y\": [37.2, 33.8, 22.5, 34.4, 36.1, 32.4, 35.5, 25.6, 35.7, 32.4, 40.3, 40.5, 34.7, 29.8, 32.5], \"mode\": \"markers\", \"hovertemplate\": \"<b>%{hovertext}</b><br><br>TEAM=CLE<br>2-point Field Goal Percentage=%{x}<br>3-point Filed Goal Percentage=%{y}<br>2FGA_x=%{marker.size}<extra></extra>\", \"uid\": \"b69d6820-eb63-449a-ad50-8f6d792319a4\"}, {\"marker\": {\"sizemode\": \"area\", \"size\": [289, 305, 85, 118, 543, 104, 57, 160, 508, 442, 351, 378], \"color\": \"#fecb52\", \"symbol\": \"circle\", \"sizeref\": 3.1925}, \"type\": \"scatter\", \"legendgroup\": \"TEAM=NYK\", \"hovertext\": [\"Noah Vonleh\", \"Mario Hezonja\", \"Luke Kornet\", \"Lance Thomas\", \"Kevin Knox\", \"Kadeem Allen\", \"Henry Ellenson\", \"Frank Ntilikina\", \"Emmanuel Mudiay\", \"Dennis Smith Jr.\", \"Damyean Dotson\", \"Allonzo Trier\"], \"name\": \"TEAM=NYK\", \"x\": [52.6, 48.2, 42.4, 47.5, 38.9, 46.2, 38.6, 38.8, 48.4, 47.7, 45.9, 46.6], \"yaxis\": \"y\", \"xaxis\": \"x\", \"showlegend\": true, \"y\": [33.8, 27.8, 35.3, 27.8, 35.1, 47.2, 44.7, 28.6, 32.7, 32.2, 36.4, 39.2], \"mode\": \"markers\", \"hovertemplate\": \"<b>%{hovertext}</b><br><br>TEAM=NYK<br>2-point Field Goal Percentage=%{x}<br>3-point Filed Goal Percentage=%{y}<br>2FGA_x=%{marker.size}<extra></extra>\", \"uid\": \"aeea5fb3-5b7e-4ba4-bc6f-2f0fae3652ac\"}, {\"marker\": {\"sizemode\": \"area\", \"size\": [63, 27, 458, 207, 438, 265, 362, 522, 88, 263, 882, 329, 114], \"color\": \"#ffa15a\", \"symbol\": \"circle\", \"sizeref\": 3.1925}, \"type\": \"scatter\", \"legendgroup\": \"TEAM=BKN\", \"hovertext\": [\"Treveon Graham\", \"Theo Pinson\", \"Spencer Dinwiddie\", \"Shabazz Napier\", \"Rondae Hollis-Jefferson\", \"Rodions Kurucs\", \"Joe Harris\", \"Jarrett Allen\", \"Jared Dudley\", \"DeMarre Carroll\", \"D'Angelo Russell\", \"Caris LeVert\", \"Allen Crabbe\"], \"name\": \"TEAM=BKN\", \"x\": [41.3, 48.1, 52.8, 44.9, 43.6, 54.3, 52.8, 62.8, 54.5, 45.6, 48.2, 48.3, 34.2], \"yaxis\": \"y\", \"xaxis\": \"x\", \"showlegend\": true, \"y\": [29.7, 26.1, 33.5, 33.3, 18.4, 31.5, 47.4, 13.3, 35.1, 33.9, 36.9, 31.2, 37.8], \"mode\": \"markers\", \"hovertemplate\": \"<b>%{hovertext}</b><br><br>TEAM=BKN<br>2-point Field Goal Percentage=%{x}<br>3-point Filed Goal Percentage=%{y}<br>2FGA_x=%{marker.size}<extra></extra>\", \"uid\": \"00e1e885-eb7d-43cb-b5fc-f111ea592992\"}, {\"marker\": {\"sizemode\": \"area\", \"size\": [258, 292, 173, 497, 934, 471, 330, 132, 753, 52, 386], \"color\": \"#ff6692\", \"symbol\": \"circle\", \"sizeref\": 3.1925}, \"type\": \"scatter\", \"legendgroup\": \"TEAM=DEN\", \"hovertext\": [\"Will Barton\", \"Trey Lyles\", \"Torrey Craig\", \"Paul Millsap\", \"Nikola Jokic\", \"Monte Morris\", \"Malik Beasley\", \"Juancho Hernangomez\", \"Jamal Murray\", \"Isaiah Thomas\", \"Gary Harris\"], \"name\": \"TEAM=DEN\", \"x\": [44.6, 52.7, 57.2, 51.9, 56.9, 53.3, 56.1, 54.5, 47.5, 38.5, 47.2], \"yaxis\": \"y\", \"xaxis\": \"x\", \"showlegend\": true, \"y\": [33.5, 24.9, 32.8, 36.9, 30.9, 41.5, 40.3, 36.5, 36.9, 30.0, 33.9], \"mode\": \"markers\", \"hovertemplate\": \"<b>%{hovertext}</b><br><br>TEAM=DEN<br>2-point Field Goal Percentage=%{x}<br>3-point Filed Goal Percentage=%{y}<br>2FGA_x=%{marker.size}<extra></extra>\", \"uid\": \"76caf00f-eb66-490e-9b94-bff94cdffb50\"}, {\"marker\": {\"sizemode\": \"area\", \"size\": [199, 286, 88, 101, 136, 228, 757, 234, 665, 320, 188, 616, 633, 117], \"color\": \"#b6e880\", \"symbol\": \"circle\", \"sizeref\": 3.1925}, \"type\": \"scatter\", \"legendgroup\": \"TEAM=LAL\", \"hovertext\": [\"Reggie Bullock\", \"Rajon Rondo\", \"Moritz Wagner\", \"Mike Muscala\", \"Michael Beasley\", \"Lonzo Ball\", \"LeBron James\", \"Lance Stephenson\", \"Kyle Kuzma\", \"Kentavious Caldwell-Pope\", \"Josh Hart\", \"JaVale McGee\", \"Brandon Ingram\", \"Alex Caruso\"], \"name\": \"TEAM=LAL\", \"x\": [48.2, 42.7, 52.3, 53.5, 52.9, 48.2, 58.1, 47.4, 55.3, 54.4, 51.1, 63.1, 52.3, 41.9], \"yaxis\": \"y\", \"xaxis\": \"x\", \"showlegend\": true, \"y\": [37.9, 36.7, 27.4, 35.3, 17.6, 32.9, 34.0, 37.3, 30.3, 34.7, 33.5, 8.3, 33.0, 50.0], \"mode\": \"markers\", \"hovertemplate\": \"<b>%{hovertext}</b><br><br>TEAM=LAL<br>2-point Field Goal Percentage=%{x}<br>3-point Filed Goal Percentage=%{y}<br>2FGA_x=%{marker.size}<extra></extra>\", \"uid\": \"fcba9457-9114-462d-8a2e-f90b9565e69b\"}], {\"legend\": {\"tracegroupgap\": 0}, \"xaxis\": {\"title\": {\"text\": \"2-point Field Goal Percentage\"}, \"range\": [20, 80]}, \"height\": 600, \"yaxis\": {\"title\": {\"text\": \"3-point Filed Goal Percentage\"}, \"range\": [20, 80]}, \"margin\": {\"t\": 60}, \"grid\": {\"xgap\": 0.1, \"yside\": \"left\", \"xaxes\": [\"x\"], \"yaxes\": [\"y\"], \"xside\": \"bottom\", \"ygap\": 0.1}, \"template\": {\"data\": {\"scattercarpet\": [{\"marker\": {\"colorbar\": {\"ticks\": \"\", \"outlinewidth\": 0}}, \"type\": \"scattercarpet\"}], \"scattergl\": [{\"marker\": {\"colorbar\": {\"ticks\": \"\", \"outlinewidth\": 0}}, \"type\": \"scattergl\"}], \"heatmap\": [{\"type\": \"heatmap\", \"colorbar\": {\"outlinewidth\": 0, \"ticks\": \"\"}, \"autocolorscale\": true}], \"contourcarpet\": [{\"type\": \"contourcarpet\", \"colorbar\": {\"outlinewidth\": 0, \"ticks\": \"\"}}], \"heatmapgl\": [{\"type\": \"heatmapgl\", \"colorbar\": {\"outlinewidth\": 0, \"ticks\": \"\"}}], \"histogram\": [{\"marker\": {\"colorbar\": {\"ticks\": \"\", \"outlinewidth\": 0}}, \"type\": \"histogram\"}], \"scattergeo\": [{\"marker\": {\"colorbar\": {\"ticks\": \"\", \"outlinewidth\": 0}}, \"type\": \"scattergeo\"}], \"carpet\": [{\"aaxis\": {\"endlinecolor\": \"#2a3f5f\", \"gridcolor\": \"white\", \"minorgridcolor\": \"white\", \"linecolor\": \"white\", \"startlinecolor\": \"#2a3f5f\"}, \"baxis\": {\"endlinecolor\": \"#2a3f5f\", \"gridcolor\": \"white\", \"minorgridcolor\": \"white\", \"linecolor\": \"white\", \"startlinecolor\": \"#2a3f5f\"}, \"type\": \"carpet\"}], \"choropleth\": [{\"type\": \"choropleth\", \"colorbar\": {\"outlinewidth\": 0, \"ticks\": \"\"}}], \"scatterpolargl\": [{\"marker\": {\"colorbar\": {\"ticks\": \"\", \"outlinewidth\": 0}}, \"type\": \"scatterpolargl\"}], \"histogram2dcontour\": [{\"type\": \"histogram2dcontour\", \"colorbar\": {\"outlinewidth\": 0, \"ticks\": \"\"}, \"autocolorscale\": true}], \"scatter3d\": [{\"marker\": {\"colorbar\": {\"ticks\": \"\", \"outlinewidth\": 0}}, \"type\": \"scatter3d\"}], \"contour\": [{\"type\": \"contour\", \"colorbar\": {\"outlinewidth\": 0, \"ticks\": \"\"}, \"autocolorscale\": true}], \"barpolar\": [{\"marker\": {\"line\": {\"width\": 0.5, \"color\": \"#E5ECF6\"}}, \"type\": \"barpolar\"}], \"surface\": [{\"type\": \"surface\", \"colorbar\": {\"outlinewidth\": 0, \"ticks\": \"\"}}], \"mesh3d\": [{\"type\": \"mesh3d\", \"colorbar\": {\"outlinewidth\": 0, \"ticks\": \"\"}}], \"scatter\": [{\"marker\": {\"colorbar\": {\"ticks\": \"\", \"outlinewidth\": 0}}, \"type\": \"scatter\"}], \"parcoords\": [{\"type\": \"parcoords\", \"line\": {\"colorbar\": {\"ticks\": \"\", \"outlinewidth\": 0}}}], \"scatterternary\": [{\"marker\": {\"colorbar\": {\"ticks\": \"\", \"outlinewidth\": 0}}, \"type\": \"scatterternary\"}], \"scattermapbox\": [{\"marker\": {\"colorbar\": {\"ticks\": \"\", \"outlinewidth\": 0}}, \"type\": \"scattermapbox\"}], \"table\": [{\"type\": \"table\", \"header\": {\"fill\": {\"color\": \"#C8D4E3\"}, \"line\": {\"color\": \"white\"}}, \"cells\": {\"fill\": {\"color\": \"#EBF0F8\"}, \"line\": {\"color\": \"white\"}}}], \"scatterpolar\": [{\"marker\": {\"colorbar\": {\"ticks\": \"\", \"outlinewidth\": 0}}, \"type\": \"scatterpolar\"}], \"histogram2d\": [{\"type\": \"histogram2d\", \"colorbar\": {\"outlinewidth\": 0, \"ticks\": \"\"}, \"autocolorscale\": true}], \"bar\": [{\"marker\": {\"line\": {\"width\": 0.5, \"color\": \"#E5ECF6\"}}, \"type\": \"bar\"}]}, \"layout\": {\"geo\": {\"lakecolor\": \"white\", \"bgcolor\": \"white\", \"showland\": true, \"landcolor\": \"#E5ECF6\", \"subunitcolor\": \"white\", \"showlakes\": true}, \"hovermode\": \"closest\", \"colorscale\": {\"sequentialminus\": [[0.0, \"#0508b8\"], [0.0893854748603352, \"#1910d8\"], [0.1787709497206704, \"#3c19f0\"], [0.2681564245810056, \"#6b1cfb\"], [0.3575418994413408, \"#981cfd\"], [0.44692737430167595, \"#bf1cfd\"], [0.5363128491620112, \"#dd2bfd\"], [0.6256983240223464, \"#f246fe\"], [0.7150837988826816, \"#fc67fd\"], [0.8044692737430168, \"#fe88fc\"], [0.8938547486033519, \"#fea5fd\"], [0.9832402234636871, \"#febefe\"], [1.0, \"#fec3fe\"]], \"sequential\": [[0.0, \"#0508b8\"], [0.0893854748603352, \"#1910d8\"], [0.1787709497206704, \"#3c19f0\"], [0.2681564245810056, \"#6b1cfb\"], [0.3575418994413408, \"#981cfd\"], [0.44692737430167595, \"#bf1cfd\"], [0.5363128491620112, \"#dd2bfd\"], [0.6256983240223464, \"#f246fe\"], [0.7150837988826816, \"#fc67fd\"], [0.8044692737430168, \"#fe88fc\"], [0.8938547486033519, \"#fea5fd\"], [0.9832402234636871, \"#febefe\"], [1.0, \"#fec3fe\"]], \"diverging\": [[0, \"#8e0152\"], [0.1, \"#c51b7d\"], [0.2, \"#de77ae\"], [0.3, \"#f1b6da\"], [0.4, \"#fde0ef\"], [0.5, \"#f7f7f7\"], [0.6, \"#e6f5d0\"], [0.7, \"#b8e186\"], [0.8, \"#7fbc41\"], [0.9, \"#4d9221\"], [1, \"#276419\"]]}, \"title\": {\"x\": 0.05}, \"shapedefaults\": {\"line\": {\"width\": 0}, \"opacity\": 0.4, \"fillcolor\": \"#506784\"}, \"ternary\": {\"aaxis\": {\"gridcolor\": \"white\", \"linecolor\": \"white\", \"ticks\": \"\"}, \"baxis\": {\"gridcolor\": \"white\", \"linecolor\": \"white\", \"ticks\": \"\"}, \"bgcolor\": \"#E5ECF6\", \"caxis\": {\"gridcolor\": \"white\", \"linecolor\": \"white\", \"ticks\": \"\"}}, \"paper_bgcolor\": \"white\", \"colorway\": [\"#636efa\", \"#EF553B\", \"#00cc96\", \"#ab63fa\", \"#19d3f3\", \"#e763fa\", \"#FECB52\", \"#FFA15A\", \"#FF6692\", \"#B6E880\"], \"font\": {\"color\": \"#2a3f5f\"}, \"polar\": {\"angularaxis\": {\"gridcolor\": \"white\", \"linecolor\": \"white\", \"ticks\": \"\"}, \"bgcolor\": \"#E5ECF6\", \"radialaxis\": {\"gridcolor\": \"white\", \"linecolor\": \"white\", \"ticks\": \"\"}}, \"annotationdefaults\": {\"arrowcolor\": \"#506784\", \"arrowwidth\": 1, \"arrowhead\": 0}, \"plot_bgcolor\": \"#E5ECF6\", \"mapbox\": {\"style\": \"light\"}, \"xaxis\": {\"zerolinewidth\": 2, \"zerolinecolor\": \"white\", \"gridcolor\": \"white\", \"linecolor\": \"white\", \"automargin\": true, \"ticks\": \"\"}, \"yaxis\": {\"zerolinewidth\": 2, \"zerolinecolor\": \"white\", \"gridcolor\": \"white\", \"linecolor\": \"white\", \"automargin\": true, \"ticks\": \"\"}, \"scene\": {\"yaxis\": {\"showbackground\": true, \"gridwidth\": 2, \"zerolinecolor\": \"white\", \"gridcolor\": \"white\", \"linecolor\": \"white\", \"backgroundcolor\": \"#E5ECF6\", \"ticks\": \"\"}, \"zaxis\": {\"showbackground\": true, \"gridwidth\": 2, \"zerolinecolor\": \"white\", \"gridcolor\": \"white\", \"linecolor\": \"white\", \"backgroundcolor\": \"#E5ECF6\", \"ticks\": \"\"}, \"xaxis\": {\"showbackground\": true, \"gridwidth\": 2, \"zerolinecolor\": \"white\", \"gridcolor\": \"white\", \"linecolor\": \"white\", \"backgroundcolor\": \"#E5ECF6\", \"ticks\": \"\"}}}}}, {\"plotlyServerURL\": \"https://plot.ly\", \"showLink\": false, \"linkText\": \"Export to plot.ly\"}); \n",
       "}\n",
       "});</script><script type=\"text/javascript\">window.addEventListener(\"resize\", function(){if (document.getElementById(\"823a30bb-3dca-4a4f-84b9-00f04bb593ce\")) {window._Plotly.Plots.resize(document.getElementById(\"823a30bb-3dca-4a4f-84b9-00f04bb593ce\"));};})</script>"
      ],
      "text/vnd.plotly.v1+html": [
       "<div id=\"823a30bb-3dca-4a4f-84b9-00f04bb593ce\" style=\"height: 600px; width: 100%;\" class=\"plotly-graph-div\"></div><script type=\"text/javascript\">require([\"plotly\"], function(Plotly) { window.PLOTLYENV=window.PLOTLYENV || {};window.PLOTLYENV.BASE_URL=\"https://plot.ly\";\n",
       "if (document.getElementById(\"823a30bb-3dca-4a4f-84b9-00f04bb593ce\")) {\n",
       "    Plotly.newPlot(\"823a30bb-3dca-4a4f-84b9-00f04bb593ce\", [{\"marker\": {\"sizemode\": \"area\", \"size\": [202, 54, 333, 609, 585, 105, 867, 79, 710, 491, 306], \"color\": \"#636efa\", \"symbol\": \"circle\", \"sizeref\": 3.1925}, \"type\": \"scatter\", \"legendgroup\": \"TEAM=SAC\", \"hovertext\": [\"Yogi Ferrell\", \"Troy Williams\", \"Nemanja Bjelica\", \"Marvin Bagley III\", \"Harrison Barnes\", \"Frank Mason\", \"De'Aaron Fox\", \"Corey Brewer\", \"Buddy Hield\", \"Bogdan Bogdanovic\", \"Alec Burks\"], \"name\": \"TEAM=SAC\", \"x\": [49.0, 55.6, 54.1, 53.2, 43.9, 54.3, 48.3, 49.4, 48.6, 46.2, 42.8], \"yaxis\": \"y\", \"xaxis\": \"x\", \"showlegend\": true, \"y\": [36.2, 31.8, 40.1, 31.3, 39.5, 21.9, 37.1, 31.8, 42.7, 36.0, 36.3], \"mode\": \"markers\", \"hovertemplate\": \"<b>%{hovertext}</b><br><br>TEAM=SAC<br>2-point Field Goal Percentage=%{x}<br>3-point Filed Goal Percentage=%{y}<br>2FGA_x=%{marker.size}<extra></extra>\", \"uid\": \"c1c1803c-57a8-41bc-a8ea-d5c6cf5e7a08\"}, {\"marker\": {\"sizemode\": \"area\", \"size\": [225, 77, 121, 893, 796, 33, 181, 278, 307, 356, 120, 91, 881, 28], \"color\": \"#EF553B\", \"symbol\": \"circle\", \"sizeref\": 3.1925}, \"type\": \"scatter\", \"legendgroup\": \"TEAM=NOP\", \"hovertext\": [\"Stanley Johnson\", \"Solomon Hill\", \"Kenrich Williams\", \"Julius Randle\", \"Jrue Holiday\", \"Jason Smith\", \"Ian Clark\", \"Frank Jackson\", \"Elfrid Payton\", \"E'Twaun Moore\", \"Darius Miller\", \"Christian Wood\", \"Anthony Davis\", \"Andrew Harrison\"], \"name\": \"TEAM=NOP\", \"x\": [48.4, 46.8, 45.5, 56.4, 53.9, 36.4, 47.0, 50.7, 47.6, 50.6, 46.7, 57.1, 54.7, 39.3], \"yaxis\": \"y\", \"xaxis\": \"x\", \"showlegend\": true, \"y\": [28.8, 31.7, 33.3, 34.4, 32.5, 34.6, 32.7, 31.2, 31.7, 43.2, 36.5, 34.6, 33.1, 20.0], \"mode\": \"markers\", \"hovertemplate\": \"<b>%{hovertext}</b><br><br>TEAM=NOP<br>2-point Field Goal Percentage=%{x}<br>3-point Filed Goal Percentage=%{y}<br>2FGA_x=%{marker.size}<extra></extra>\", \"uid\": \"cbd18fa9-a6bf-4574-9ddd-55e2f4e9b5a1\"}, {\"marker\": {\"sizemode\": \"area\", \"size\": [136, 240, 881, 173, 136, 13, 338, 74, 363, 57, 245], \"color\": \"#00cc96\", \"symbol\": \"circle\", \"sizeref\": 3.1925}, \"type\": \"scatter\", \"legendgroup\": \"TEAM=HOU\", \"hovertext\": [\"PJ Tucker\", \"Kenneth Faried\", \"James Harden\", \"Iman Shumpert\", \"Gerald Green\", \"Gary Clark\", \"Eric Gordon\", \"Danuel House Jr.\", \"Chris Paul\", \"Carmelo Anthony\", \"Austin Rivers\"], \"name\": \"TEAM=HOU\", \"x\": [44.9, 61.7, 52.8, 41.6, 55.1, 69.2, 49.7, 59.5, 47.9, 49.1, 52.2], \"yaxis\": \"y\", \"xaxis\": \"x\", \"showlegend\": true, \"y\": [37.7, 32.0, 36.8, 34.8, 35.5, 29.7, 36.1, 41.6, 35.9, 32.8, 31.8], \"mode\": \"markers\", \"hovertemplate\": \"<b>%{hovertext}</b><br><br>TEAM=HOU<br>2-point Field Goal Percentage=%{x}<br>3-point Filed Goal Percentage=%{y}<br>2FGA_x=%{marker.size}<extra></extra>\", \"uid\": \"91b65032-85ef-46ac-ab04-33c0c24f6293\"}, {\"marker\": {\"sizemode\": \"area\", \"size\": [52, 161, 299, 359, 389, 183, 92, 383, 365, 544, 89, 96, 977, 419], \"color\": \"#ab63fa\", \"symbol\": \"circle\", \"sizeref\": 3.1925}, \"type\": \"scatter\", \"legendgroup\": \"TEAM=WAS\", \"hovertext\": [\"Wesley Johnson\", \"Troy Brown Jr.\", \"Trevor Ariza\", \"Tomas Satoransky\", \"Thomas Bryant\", \"Sam Dekker\", \"Jordan McRae\", \"John Wall\", \"Jeff Green\", \"Jabari Parker\", \"Ian Mahinmi\", \"Chasson Randle\", \"Bradley Beal\", \"Bobby Portis\"], \"name\": \"TEAM=WAS\", \"x\": [38.5, 45.3, 49.5, 52.1, 68.4, 51.4, 55.4, 50.7, 58.9, 55.9, 49.4, 44.8, 55.1, 46.5], \"yaxis\": \"y\", \"xaxis\": \"x\", \"showlegend\": true, \"y\": [32.9, 30.8, 33.6, 38.1, 34.7, 30.6, 29.4, 30.2, 35.0, 31.4, 18.8, 40.7, 35.3, 38.5], \"mode\": \"markers\", \"hovertemplate\": \"<b>%{hovertext}</b><br><br>TEAM=WAS<br>2-point Field Goal Percentage=%{x}<br>3-point Filed Goal Percentage=%{y}<br>2FGA_x=%{marker.size}<extra></extra>\", \"uid\": \"019c3d46-0052-4ef6-9fe7-df1daf1ea561\"}, {\"marker\": {\"sizemode\": \"area\", \"size\": [152, 775, 279, 116, 304, 391, 80, 673, 36, 309, 444, 37, 58, 444], \"color\": \"#19d3f3\", \"symbol\": \"circle\", \"sizeref\": 3.1925}, \"type\": \"scatter\", \"legendgroup\": \"TEAM=ATL\", \"hovertext\": [\"Vince Carter\", \"Trae Young\", \"Taurean Prince\", \"Omari Spellman\", \"Kevin Huerter\", \"Kent Bazemore\", \"Justin Anderson\", \"John Collins\", \"Jaylen Adams\", \"Dewayne Dedmon\", \"DeAndre' Bembry\", \"Daniel Hamilton\", \"Alex Poythress\", \"Alex Len\"], \"name\": \"TEAM=ATL\", \"x\": [48.0, 47.6, 49.8, 46.6, 45.7, 46.5, 50.0, 60.9, 36.1, 57.0, 50.7, 40.5, 53.4, 55.4], \"yaxis\": \"y\", \"xaxis\": \"x\", \"showlegend\": true, \"y\": [38.9, 32.4, 39.0, 34.4, 38.4, 32.0, 31.2, 34.8, 33.8, 38.2, 28.9, 34.8, 39.1, 36.3], \"mode\": \"markers\", \"hovertemplate\": \"<b>%{hovertext}</b><br><br>TEAM=ATL<br>2-point Field Goal Percentage=%{x}<br>3-point Filed Goal Percentage=%{y}<br>2FGA_x=%{marker.size}<extra></extra>\", \"uid\": \"23dcc882-aef6-4b76-8812-d2a0a016f0af\"}, {\"marker\": {\"sizemode\": \"area\", \"size\": [157, 160, 165, 81, 149, 224, 503, 674, 68, 1045, 223, 222, 595, 41, 122, 273, 18], \"color\": \"#e763fa\", \"symbol\": \"circle\", \"sizeref\": 3.1925}, \"type\": \"scatter\", \"legendgroup\": \"TEAM=MIL\", \"hovertext\": [\"Tony Snell\", \"Tim Frazier\", \"Sterling Brown\", \"Pau Gasol\", \"Pat Connaughton\", \"Nikola Mirotic\", \"Malcolm Brogdon\", \"Khris Middleton\", \"Isaiah Canaan\", \"Giannis Antetokounmpo\", \"George Hill\", \"Ersan Ilyasova\", \"Eric Bledsoe\", \"Donte DiVincenzo\", \"D.J. Wilson\", \"Brook Lopez\", \"Bonzie Colson\"], \"name\": \"TEAM=MIL\", \"x\": [52.2, 49.4, 55.8, 44.4, 65.1, 54.5, 54.5, 48.5, 44.1, 64.0, 54.7, 49.1, 58.2, 68.3, 46.7, 61.5, 44.4], \"yaxis\": \"y\", \"xaxis\": \"x\", \"showlegend\": true, \"y\": [39.7, 36.6, 36.1, 46.2, 33.0, 36.5, 42.6, 37.8, 35.4, 25.6, 31.4, 36.3, 32.9, 26.5, 36.2, 36.4, 23.8], \"mode\": \"markers\", \"hovertemplate\": \"<b>%{hovertext}</b><br><br>TEAM=MIL<br>2-point Field Goal Percentage=%{x}<br>3-point Filed Goal Percentage=%{y}<br>2FGA_x=%{marker.size}<extra></extra>\", \"uid\": \"16f8928d-7924-4ac6-9e61-1ba02630adbe\"}, {\"marker\": {\"sizemode\": \"area\", \"size\": [195, 451, 1094, 164, 85, 141, 336, 106, 47, 104, 601, 358, 682], \"color\": \"#fecb52\", \"symbol\": \"circle\", \"sizeref\": 3.1925}, \"type\": \"scatter\", \"legendgroup\": \"TEAM=ORL\", \"hovertext\": [\"Wes Iwundu\", \"Terrence Ross\", \"Nikola Vucevic\", \"Mo Bamba\", \"Michael Carter-Williams\", \"Markelle Fultz\", \"Jonathan Isaac\", \"Jerian Grant\", \"Jarell Martin\", \"Isaiah Briscoe\", \"Evan Fournier\", \"D.J. Augustin\", \"Aaron Gordon\"], \"name\": \"TEAM=ORL\", \"x\": [43.1, 48.1, 55.2, 56.1, 42.4, 43.3, 51.5, 46.2, 48.9, 42.3, 50.4, 51.4, 50.0], \"yaxis\": \"y\", \"xaxis\": \"x\", \"showlegend\": true, \"y\": [36.7, 38.2, 36.0, 29.2, 26.3, 28.6, 32.3, 36.7, 35.1, 32.4, 34.3, 41.6, 34.8], \"mode\": \"markers\", \"hovertemplate\": \"<b>%{hovertext}</b><br><br>TEAM=ORL<br>2-point Field Goal Percentage=%{x}<br>3-point Filed Goal Percentage=%{y}<br>2FGA_x=%{marker.size}<extra></extra>\", \"uid\": \"830ea770-6be8-4886-94e9-726d7f29c548\"}, {\"marker\": {\"sizemode\": \"area\", \"size\": [139, 1045, 74, 845, 81, 278, 525, 140, 55, 727, 30, 114], \"color\": \"#ffa15a\", \"symbol\": \"circle\", \"sizeref\": 3.1925}, \"type\": \"scatter\", \"legendgroup\": \"TEAM=OKC\", \"hovertext\": [\"Terrance Ferguson\", \"Russell Westbrook\", \"Raymond Felton\", \"Paul George\", \"Patrick Patterson\", \"Markieff Morris\", \"Jerami Grant\", \"Hamidou Diallo\", \"Deonte Burton\", \"Dennis Schroder\", \"Alex Abrines\", \"Abdel Nader\"], \"name\": \"TEAM=OKC\", \"x\": [56.1, 48.1, 47.3, 48.6, 44.4, 48.6, 55.4, 50.7, 45.5, 45.1, 50.0, 51.8], \"yaxis\": \"y\", \"xaxis\": \"x\", \"showlegend\": true, \"y\": [36.3, 29.1, 32.8, 38.5, 33.8, 33.5, 39.9, 16.7, 29.6, 33.8, 32.3, 31.3], \"mode\": \"markers\", \"hovertemplate\": \"<b>%{hovertext}</b><br><br>TEAM=OKC<br>2-point Field Goal Percentage=%{x}<br>3-point Filed Goal Percentage=%{y}<br>2FGA_x=%{marker.size}<extra></extra>\", \"uid\": \"06f3f590-546c-4060-be84-d46e5e7db7d2\"}, {\"marker\": {\"sizemode\": \"area\", \"size\": [388, 511, 78, 33, 168, 672, 239, 383, 257, 358, 274, 171, 147, 74], \"color\": \"#ff6692\", \"symbol\": \"circle\", \"sizeref\": 3.1925}, \"type\": \"scatter\", \"legendgroup\": \"TEAM=DAL\", \"hovertext\": [\"Trey Burke\", \"Tim Hardaway Jr.\", \"Salah Mejri\", \"Ryan Broekhoff\", \"Maxi Kleber\", \"Luka Doncic\", \"Justin Jackson\", \"Jalen Brunson\", \"J.J. Barea\", \"Dwight Powell\", \"Dorian Finney-Smith\", \"Dirk Nowitzki\", \"Devin Harris\", \"Courtney Lee\"], \"name\": \"TEAM=DAL\", \"x\": [46.1, 44.2, 56.4, 57.6, 58.3, 50.3, 54.4, 52.2, 47.9, 70.1, 54.4, 41.5, 47.6, 50.0], \"yaxis\": \"y\", \"xaxis\": \"x\", \"showlegend\": true, \"y\": [35.0, 33.8, 32.4, 40.4, 35.3, 32.6, 35.5, 34.8, 29.7, 30.7, 31.1, 31.2, 31.0, 29.1], \"mode\": \"markers\", \"hovertemplate\": \"<b>%{hovertext}</b><br><br>TEAM=DAL<br>2-point Field Goal Percentage=%{x}<br>3-point Filed Goal Percentage=%{y}<br>2FGA_x=%{marker.size}<extra></extra>\", \"uid\": \"44c15a65-084b-4290-ae22-fb99d621c5e5\"}, {\"marker\": {\"sizemode\": \"area\", \"size\": [518, 238, 794, 988, 166, 37, 251, 269, 59, 158, 158], \"color\": \"#b6e880\", \"symbol\": \"circle\", \"sizeref\": 3.1925}, \"type\": \"scatter\", \"legendgroup\": \"TEAM=GSW\", \"hovertext\": [\"Stephen Curry\", \"Quinn Cook\", \"Klay Thompson\", \"Kevin Durant\", \"Jonas Jerebko\", \"Jacob Evans\", \"Draymond Green\", \"DeMarcus Cousins\", \"Damion Lee\", \"Andre Iguodala\", \"Alfonzo McKinnie\"], \"name\": \"TEAM=GSW\", \"x\": [53.1, 51.3, 51.6, 58.8, 56.6, 37.8, 54.2, 55.0, 49.2, 65.2, 58.2], \"yaxis\": \"y\", \"xaxis\": \"x\", \"showlegend\": true, \"y\": [43.2, 39.8, 40.5, 35.2, 36.4, 26.7, 27.7, 27.7, 39.7, 33.3, 35.9], \"mode\": \"markers\", \"hovertemplate\": \"<b>%{hovertext}</b><br><br>TEAM=GSW<br>2-point Field Goal Percentage=%{x}<br>3-point Filed Goal Percentage=%{y}<br>2FGA_x=%{marker.size}<extra></extra>\", \"uid\": \"ca36c085-4648-4851-8c42-ecc13f343cfe\"}, {\"marker\": {\"sizemode\": \"area\", \"size\": [18, 860, 372, 43, 168, 238, 66, 922, 700, 138, 419, 101, 117], \"color\": \"#636efa\", \"symbol\": \"circle\", \"sizeref\": 3.1925}, \"type\": \"scatter\", \"legendgroup\": \"TEAM=PHI\", \"hovertext\": [\"Zhaire Smith\", \"Tobias Harris\", \"T.J. McConnell\", \"Shake Milton\", \"Mike Scott\", \"Jonathon Simmons\", \"Jonah Bolden\", \"Joel Embiid\", \"Jimmy Butler\", \"James Ennis III\", \"JJ Redick\", \"Furkan Korkmaz\", \"Amir Johnson\"], \"name\": \"TEAM=PHI\", \"x\": [44.4, 52.8, 55.1, 46.5, 39.9, 42.0, 69.7, 53.3, 49.6, 60.1, 49.9, 50.5, 57.3], \"yaxis\": \"y\", \"xaxis\": \"x\", \"showlegend\": true, \"y\": [37.5, 39.5, 32.6, 31.8, 40.1, 26.7, 35.1, 30.4, 35.5, 35.3, 39.7, 32.6, 30.0], \"mode\": \"markers\", \"hovertemplate\": \"<b>%{hovertext}</b><br><br>TEAM=PHI<br>2-point Field Goal Percentage=%{x}<br>3-point Filed Goal Percentage=%{y}<br>2FGA_x=%{marker.size}<extra></extra>\", \"uid\": \"e7524812-d6c7-4fd5-acd1-323aa18b42c8\"}, {\"marker\": {\"sizemode\": \"area\", \"size\": [328, 69, 221, 455, 807, 725, 516, 49, 406, 200, 66, 162, 520], \"color\": \"#EF553B\", \"symbol\": \"circle\", \"sizeref\": 3.1925}, \"type\": \"scatter\", \"legendgroup\": \"TEAM=BOS\", \"hovertext\": [\"Terry Rozier\", \"Semi Ojeleye\", \"Marcus Smart\", \"Marcus Morris\", \"Kyrie Irving\", \"Jayson Tatum\", \"Jaylen Brown\", \"Guerschon Yabusele\", \"Gordon Hayward\", \"Daniel Theis\", \"Brad Wanamaker\", \"Aron Baynes\", \"Al Horford\"], \"name\": \"TEAM=BOS\", \"x\": [42.4, 56.5, 51.1, 50.8, 53.3, 48.3, 52.9, 53.1, 53.9, 60.0, 51.5, 51.9, 60.4], \"yaxis\": \"y\", \"xaxis\": \"x\", \"showlegend\": true, \"y\": [35.3, 31.5, 36.4, 37.5, 40.1, 37.3, 34.4, 32.1, 33.3, 38.8, 41.0, 34.4, 36.0], \"mode\": \"markers\", \"hovertemplate\": \"<b>%{hovertext}</b><br><br>TEAM=BOS<br>2-point Field Goal Percentage=%{x}<br>3-point Filed Goal Percentage=%{y}<br>2FGA_x=%{marker.size}<extra></extra>\", \"uid\": \"3a6bc1a6-3c58-4e21-ac68-3f236ca58d0a\"}, {\"marker\": {\"sizemode\": \"area\", \"size\": [796, 333, 306, 101, 335, 196, 497, 27, 374, 459, 406, 39, 159, 31, 304], \"color\": \"#00cc96\", \"symbol\": \"circle\", \"sizeref\": 3.1925}, \"type\": \"scatter\", \"legendgroup\": \"TEAM=CHI\", \"hovertext\": [\"Zach LaVine\", \"Wendell Carter Jr.\", \"Wayne Selden\", \"Timothe Luwawu-Cabarrot\", \"Shaquille Harrison\", \"Ryan Arcidiacono\", \"Robin Lopez\", \"Rawle Alkins\", \"Otto Porter Jr.\", \"Lauri Markkanen\", \"Kris Dunn\", \"JaKarr Sampson\", \"Chandler Hutchison\", \"Brandon Sampson\", \"Antonio Blakeney\"], \"name\": \"TEAM=CHI\", \"x\": [50.1, 51.1, 46.1, 45.5, 47.8, 52.6, 59.2, 37.0, 50.3, 48.4, 44.3, 61.5, 51.6, 54.8, 42.8], \"yaxis\": \"y\", \"xaxis\": \"x\", \"showlegend\": true, \"y\": [37.2, 18.8, 31.4, 31.0, 27.0, 37.5, 22.6, 25.0, 40.7, 36.2, 34.7, 35.7, 28.0, 37.9, 39.1], \"mode\": \"markers\", \"hovertemplate\": \"<b>%{hovertext}</b><br><br>TEAM=CHI<br>2-point Field Goal Percentage=%{x}<br>3-point Filed Goal Percentage=%{y}<br>2FGA_x=%{marker.size}<extra></extra>\", \"uid\": \"ad48d490-bb27-4f34-85b1-507cb18c62c6\"}, {\"marker\": {\"sizemode\": \"area\", \"size\": [35, 132, 118, 694, 115, 242, 305, 489, 83, 448, 197, 82, 389, 88, 106, 95, 363], \"color\": \"#ab63fa\", \"symbol\": \"circle\", \"sizeref\": 3.1925}, \"type\": \"scatter\", \"legendgroup\": \"TEAM=MEM\", \"hovertext\": [\"Yuta Watanabe\", \"Tyler Dorsey\", \"Omri Casspi\", \"Mike Conley\", \"MarShon Brooks\", \"Kyle Anderson\", \"Justin Holiday\", \"Jonas Valanciunas\", \"Jevon Carter\", \"Jaren Jackson Jr.\", \"Ivan Rabb\", \"Dillon Brooks\", \"Delon Wright\", \"Chandler Parsons\", \"CJ Miles\", \"Bruno Caboclo\", \"Avery Bradley\"], \"name\": \"TEAM=MEM\", \"x\": [37.1, 47.7, 60.2, 48.3, 53.0, 58.3, 44.6, 58.5, 26.5, 55.1, 57.4, 41.5, 49.1, 44.3, 42.5, 50.5, 44.6], \"yaxis\": \"y\", \"xaxis\": \"x\", \"showlegend\": true, \"y\": [12.5, 33.3, 34.9, 36.4, 27.8, 26.5, 34.3, 29.2, 33.3, 35.9, 20.0, 37.5, 29.9, 30.1, 33.0, 36.9, 35.1], \"mode\": \"markers\", \"hovertemplate\": \"<b>%{hovertext}</b><br><br>TEAM=MEM<br>2-point Field Goal Percentage=%{x}<br>3-point Filed Goal Percentage=%{y}<br>2FGA_x=%{marker.size}<extra></extra>\", \"uid\": \"59f2cce6-f392-469e-882f-63843932f06f\"}, {\"marker\": {\"sizemode\": \"area\", \"size\": [275, 36, 214, 435, 130, 267, 797, 243, 29, 390, 642, 889, 795, 34, 310], \"color\": \"#19d3f3\", \"symbol\": \"circle\", \"sizeref\": 3.1925}, \"type\": \"scatter\", \"legendgroup\": \"TEAM=POR\", \"hovertext\": [\"Zach Collins\", \"Skal Labissiere\", \"Seth Curry\", \"Rodney Hood\", \"Meyers Leonard\", \"Maurice Harkless\", \"Jusuf Nurkic\", \"Jake Layman\", \"Gary Trent Jr.\", \"Evan Turner\", \"Enes Kanter\", \"Damian Lillard\", \"CJ McCollum\", \"Anfernee Simons\", \"Al-Farouq Aminu\"], \"name\": \"TEAM=POR\", \"x\": [53.8, 55.6, 46.3, 47.8, 63.1, 58.1, 52.3, 64.6, 37.9, 49.5, 56.4, 49.8, 50.6, 52.9, 51.3], \"yaxis\": \"y\", \"xaxis\": \"x\", \"showlegend\": true, \"y\": [33.1, 46.2, 45.0, 35.6, 45.0, 27.5, 10.3, 32.6, 23.8, 21.2, 29.4, 36.9, 37.5, 34.5, 34.5], \"mode\": \"markers\", \"hovertemplate\": \"<b>%{hovertext}</b><br><br>TEAM=POR<br>2-point Field Goal Percentage=%{x}<br>3-point Filed Goal Percentage=%{y}<br>2FGA_x=%{marker.size}<extra></extra>\", \"uid\": \"ab48242f-2dbd-4083-a54b-2559736f48b9\"}, {\"marker\": {\"sizemode\": \"area\", \"size\": [296, 372, 444, 695, 152, 584, 123, 37, 217, 685, 465, 377, 664, 135], \"color\": \"#e763fa\", \"symbol\": \"circle\", \"sizeref\": 3.1925}, \"type\": \"scatter\", \"legendgroup\": \"TEAM=IND\", \"hovertext\": [\"Wesley Matthews\", \"Victor Oladipo\", \"Tyreke Evans\", \"Thaddeus Young\", \"TJ Leaf\", \"Myles Turner\", \"Kyle O'Quinn\", \"Edmond Sumner\", \"Doug McDermott\", \"Domantas Sabonis\", \"Darren Collison\", \"Cory Joseph\", \"Bojan Bogdanovic\", \"Aaron Holiday\"], \"name\": \"TEAM=IND\", \"x\": [43.6, 47.0, 40.5, 56.4, 59.9, 52.1, 54.5, 40.5, 56.7, 59.0, 49.2, 45.4, 53.9, 45.9], \"yaxis\": \"y\", \"xaxis\": \"x\", \"showlegend\": true, \"y\": [37.2, 34.3, 35.6, 34.9, 25.8, 38.8, 8.3, 25.9, 40.8, 52.9, 40.7, 32.2, 42.5, 33.9], \"mode\": \"markers\", \"hovertemplate\": \"<b>%{hovertext}</b><br><br>TEAM=IND<br>2-point Field Goal Percentage=%{x}<br>3-point Filed Goal Percentage=%{y}<br>2FGA_x=%{marker.size}<extra></extra>\", \"uid\": \"e945f752-18c3-458f-b161-f7de5238fd99\"}, {\"marker\": {\"sizemode\": \"area\", \"size\": [320, 504, 137, 74, 90, 960, 293, 132, 311, 321, 607, 373, 27, 19, 44, 861], \"color\": \"#fecb52\", \"symbol\": \"circle\", \"sizeref\": 3.1925}, \"type\": \"scatter\", \"legendgroup\": \"TEAM=MIN\", \"hovertext\": [\"Tyus Jones\", \"Taj Gibson\", \"Robert Covington\", \"Luol Deng\", \"Keita Bates-Diop\", \"Karl-Anthony Towns\", \"Josh Okogie\", \"Jerryd Bayless\", \"Jeff Teague\", \"Gorgui Dieng\", \"Derrick Rose\", \"Dario Saric\", \"Cameron Reynolds\", \"C.J. Williams\", \"Anthony Tolliver\", \"Andrew Wiggins\"], \"name\": \"TEAM=MIN\", \"x\": [45.3, 58.1, 51.8, 60.8, 52.2, 56.1, 46.4, 40.2, 45.3, 53.0, 50.9, 49.9, 44.4, 63.2, 40.9, 44.0], \"yaxis\": \"y\", \"xaxis\": \"x\", \"showlegend\": true, \"y\": [31.7, 32.4, 37.8, 31.8, 25.0, 40.0, 27.9, 29.6, 33.3, 33.9, 37.0, 36.5, 41.2, 31.3, 37.7, 33.9], \"mode\": \"markers\", \"hovertemplate\": \"<b>%{hovertext}</b><br><br>TEAM=MIN<br>2-point Field Goal Percentage=%{x}<br>3-point Filed Goal Percentage=%{y}<br>2FGA_x=%{marker.size}<extra></extra>\", \"uid\": \"422c1ae4-c115-42c4-890b-341acc62d554\"}, {\"marker\": {\"sizemode\": \"area\", \"size\": [68, 167, 457, 100, 133, 309, 271, 79, 76, 983, 522, 174], \"color\": \"#ffa15a\", \"symbol\": \"circle\", \"sizeref\": 3.1925}, \"type\": \"scatter\", \"legendgroup\": \"TEAM=UTA\", \"hovertext\": [\"Thabo Sefolosha\", \"Royce O'Neale\", \"Ricky Rubio\", \"Raul Neto\", \"Kyle Korver\", \"Joe Ingles\", \"Jae Crowder\", \"Grayson Allen\", \"Georges Niang\", \"Donovan Mitchell\", \"Derrick Favors\", \"Dante Exum\"], \"name\": \"TEAM=UTA\", \"x\": [51.5, 56.9, 45.3, 53.0, 47.4, 54.0, 52.0, 44.3, 56.6, 46.8, 64.2, 47.1], \"yaxis\": \"y\", \"xaxis\": \"x\", \"showlegend\": true, \"y\": [43.6, 38.2, 32.0, 33.3, 40.2, 39.3, 32.8, 32.3, 41.0, 35.8, 21.8, 29.0], \"mode\": \"markers\", \"hovertemplate\": \"<b>%{hovertext}</b><br><br>TEAM=UTA<br>2-point Field Goal Percentage=%{x}<br>3-point Filed Goal Percentage=%{y}<br>2FGA_x=%{marker.size}<extra></extra>\", \"uid\": \"06431fdf-42cf-4b7a-a5fb-24e499554289\"}, {\"marker\": {\"sizemode\": \"area\", \"size\": [85, 115, 50, 576, 251, 206, 34, 63, 102, 355, 114, 222, 819, 1012], \"color\": \"#ff6692\", \"symbol\": \"circle\", \"sizeref\": 3.1925}, \"type\": \"scatter\", \"legendgroup\": \"TEAM=DET\", \"hovertext\": [\"Wayne Ellington\", \"Thon Maker\", \"Svi Mykhailiuk\", \"Reggie Jackson\", \"Luke Kennard\", \"Langston Galloway\", \"Khyri Thomas\", \"Jose Calderon\", \"Jon Leuer\", \"Ish Smith\", \"Glenn Robinson III\", \"Bruce Brown\", \"Blake Griffin\", \"Andre Drummond\"], \"name\": \"TEAM=DET\", \"x\": [54.1, 52.2, 34.0, 46.4, 48.6, 45.1, 35.3, 49.2, 63.7, 45.4, 49.1, 45.5, 52.5, 54.8], \"yaxis\": \"y\", \"xaxis\": \"x\", \"showlegend\": true, \"y\": [37.1, 32.0, 32.6, 36.9, 39.4, 35.4, 28.6, 24.6, 8.3, 32.6, 29.5, 25.8, 36.2, 13.2], \"mode\": \"markers\", \"hovertemplate\": \"<b>%{hovertext}</b><br><br>TEAM=DET<br>2-point Field Goal Percentage=%{x}<br>3-point Filed Goal Percentage=%{y}<br>2FGA_x=%{marker.size}<extra></extra>\", \"uid\": \"0e7eb226-c2b6-4a80-a20a-94e4a3e28121\"}, {\"marker\": {\"sizemode\": \"area\", \"size\": [266, 81, 431, 250, 503, 615, 236, 158, 96, 840, 161], \"color\": \"#b6e880\", \"symbol\": \"circle\", \"sizeref\": 3.1925}, \"type\": \"scatter\", \"legendgroup\": \"TEAM=PHX\", \"hovertext\": [\"Tyler Johnson\", \"Troy Daniels\", \"T.J. Warren\", \"Mikal Bridges\", \"Kelly Oubre Jr.\", \"Josh Jackson\", \"Jamal Crawford\", \"Elie Okobo\", \"Dragan Bender\", \"Devin Booker\", \"De'Anthony Melton\"], \"name\": \"TEAM=PHX\", \"x\": [47.7, 48.1, 51.0, 54.8, 53.1, 44.6, 45.3, 47.5, 68.8, 53.6, 44.1], \"yaxis\": \"y\", \"xaxis\": \"x\", \"showlegend\": true, \"y\": [34.6, 38.1, 42.8, 33.5, 32.0, 32.4, 33.2, 29.5, 21.8, 32.6, 30.5], \"mode\": \"markers\", \"hovertemplate\": \"<b>%{hovertext}</b><br><br>TEAM=PHX<br>2-point Field Goal Percentage=%{x}<br>3-point Filed Goal Percentage=%{y}<br>2FGA_x=%{marker.size}<extra></extra>\", \"uid\": \"a657b81f-280e-40df-aba3-d997c1f7143e\"}, {\"marker\": {\"sizemode\": \"area\", \"size\": [562, 40, 259, 295, 33, 1277, 401, 1268, 115, 93, 378], \"color\": \"#636efa\", \"symbol\": \"circle\", \"sizeref\": 3.1925}, \"type\": \"scatter\", \"legendgroup\": \"TEAM=SAS\", \"hovertext\": [\"Rudy Gay\", \"Quincy Pondexter\", \"Patty Mills\", \"Marco Belinelli\", \"Lonnie Walker IV\", \"LaMarcus Aldridge\", \"Derrick White\", \"DeMar DeRozan\", \"Davis Bertans\", \"Dante Cunningham\", \"Bryn Forbes\"], \"name\": \"TEAM=SAS\", \"x\": [53.7, 57.5, 47.5, 46.8, 33.3, 52.8, 52.9, 49.2, 51.3, 48.4, 48.9], \"yaxis\": \"y\", \"xaxis\": \"x\", \"showlegend\": true, \"y\": [40.2, 33.3, 39.4, 37.2, 38.5, 23.8, 33.8, 15.6, 42.9, 46.2, 42.6], \"mode\": \"markers\", \"hovertemplate\": \"<b>%{hovertext}</b><br><br>TEAM=SAS<br>2-point Field Goal Percentage=%{x}<br>3-point Filed Goal Percentage=%{y}<br>2FGA_x=%{marker.size}<extra></extra>\", \"uid\": \"3cdf5b1b-caa4-46e8-a6ad-16ee1e0cba58\"}, {\"marker\": {\"sizemode\": \"area\", \"size\": [115, 198, 34, 577, 236, 194, 871, 845, 161, 53, 300, 228, 511], \"color\": \"#EF553B\", \"symbol\": \"circle\", \"sizeref\": 3.1925}, \"type\": \"scatter\", \"legendgroup\": \"TEAM=LAC\", \"hovertext\": [\"Wilson Chandler\", \"Tyrone Wallace\", \"Sindarius Thornwell\", \"Shai Gilgeous-Alexander\", \"Rodney McGruder\", \"Patrick Beverley\", \"Montrezl Harrell\", \"Lou Williams\", \"Landry Shamet\", \"Jerome Robinson\", \"JaMychal Green\", \"Garrett Temple\", \"Danilo Gallinari\"], \"name\": \"TEAM=LAC\", \"x\": [47.8, 44.4, 41.2, 50.3, 45.3, 42.3, 62.3, 44.9, 45.3, 49.1, 53.0, 51.8, 48.5], \"yaxis\": \"y\", \"xaxis\": \"x\", \"showlegend\": true, \"y\": [37.7, 21.1, 20.0, 36.7, 34.8, 39.9, 17.6, 36.0, 41.7, 31.6, 40.3, 34.1, 43.3], \"mode\": \"markers\", \"hovertemplate\": \"<b>%{hovertext}</b><br><br>TEAM=LAC<br>2-point Field Goal Percentage=%{x}<br>3-point Filed Goal Percentage=%{y}<br>2FGA_x=%{marker.size}<extra></extra>\", \"uid\": \"641d75bc-c6a7-497a-820b-6f5567c8be54\"}, {\"marker\": {\"sizemode\": \"area\", \"size\": [259, 412, 273, 263, 312, 286, 271, 256, 952, 648, 159, 170, 95, 323], \"color\": \"#00cc96\", \"symbol\": \"circle\", \"sizeref\": 3.1925}, \"type\": \"scatter\", \"legendgroup\": \"TEAM=CHA\", \"hovertext\": [\"Willy Hernangomez\", \"Tony Parker\", \"Shelvin Mack\", \"Nicolas Batum\", \"Miles Bridges\", \"Michael Kidd-Gilchrist\", \"Marvin Williams\", \"Malik Monk\", \"Kemba Walker\", \"Jeremy Lamb\", \"Frank Kaminsky\", \"Dwayne Bacon\", \"Devonte' Graham\", \"Cody Zeller\"], \"name\": \"TEAM=CHA\", \"x\": [53.3, 48.5, 42.9, 52.1, 55.1, 49.7, 49.8, 46.1, 49.4, 48.6, 55.3, 49.4, 42.1, 57.0], \"yaxis\": \"y\", \"xaxis\": \"x\", \"showlegend\": true, \"y\": [38.5, 25.5, 35.4, 39.1, 32.5, 33.3, 36.6, 33.0, 35.6, 34.8, 36.0, 43.7, 28.1, 27.3], \"mode\": \"markers\", \"hovertemplate\": \"<b>%{hovertext}</b><br><br>TEAM=CHA<br>2-point Field Goal Percentage=%{x}<br>3-point Filed Goal Percentage=%{y}<br>2FGA_x=%{marker.size}<extra></extra>\", \"uid\": \"c3b48370-db5a-4b15-a274-2a88899b1caf\"}, {\"marker\": {\"sizemode\": \"area\", \"size\": [707, 35, 729, 200, 230, 597, 42, 286, 827, 21, 354, 302, 195, 39], \"color\": \"#ab63fa\", \"symbol\": \"circle\", \"sizeref\": 3.1925}, \"type\": \"scatter\", \"legendgroup\": \"TEAM=TOR\", \"hovertext\": [\"Serge Ibaka\", \"Patrick McCaw\", \"Pascal Siakam\", \"OG Anunoby\", \"Norman Powell\", \"Marc Gasol\", \"Lorenzo Brown\", \"Kyle Lowry\", \"Kawhi Leonard\", \"Jodie Meeks\", \"Jeremy Lin\", \"Fred VanVleet\", \"Danny Green\", \"Chris Boucher\"], \"name\": \"TEAM=TOR\", \"x\": [58.7, 48.6, 60.2, 57.0, 54.3, 48.7, 38.1, 51.4, 54.2, 61.9, 51.7, 44.0, 48.7, 56.4], \"yaxis\": \"y\", \"xaxis\": \"x\", \"showlegend\": true, \"y\": [29.0, 32.1, 36.9, 33.2, 40.0, 36.3, 22.2, 34.7, 37.1, 44.4, 29.4, 37.8, 45.5, 32.4], \"mode\": \"markers\", \"hovertemplate\": \"<b>%{hovertext}</b><br><br>TEAM=TOR<br>2-point Field Goal Percentage=%{x}<br>3-point Filed Goal Percentage=%{y}<br>2FGA_x=%{marker.size}<extra></extra>\", \"uid\": \"695b2751-0599-49a6-af7e-f16244c515f1\"}, {\"marker\": {\"sizemode\": \"area\", \"size\": [29, 245, 493, 567, 230, 664, 269, 698, 190, 234, 471], \"color\": \"#19d3f3\", \"symbol\": \"circle\", \"sizeref\": 3.1925}, \"type\": \"scatter\", \"legendgroup\": \"TEAM=MIA\", \"hovertext\": [\"Ryan Anderson\", \"Kelly Olynyk\", \"Justise Winslow\", \"Josh Richardson\", \"James Johnson\", \"Hassan Whiteside\", \"Goran Dragic\", \"Dwyane Wade\", \"Dion Waiters\", \"Derrick Jones Jr.\", \"Bam Adebayo\"], \"name\": \"TEAM=MIA\", \"x\": [41.4, 60.4, 46.2, 45.7, 49.6, 58.1, 45.4, 47.3, 46.8, 56.4, 58.8], \"yaxis\": \"y\", \"xaxis\": \"x\", \"showlegend\": true, \"y\": [22.5, 35.4, 37.5, 35.7, 33.6, 12.5, 35.0, 33.1, 37.7, 30.8, 20.0], \"mode\": \"markers\", \"hovertemplate\": \"<b>%{hovertext}</b><br><br>TEAM=MIA<br>2-point Field Goal Percentage=%{x}<br>3-point Filed Goal Percentage=%{y}<br>2FGA_x=%{marker.size}<extra></extra>\", \"uid\": \"82c0ffdf-43d2-413a-9a71-567dca7cdf50\"}, {\"marker\": {\"sizemode\": \"area\", \"size\": [149, 112, 106, 372, 136, 723, 36, 68, 34, 185, 899, 37, 462, 139, 127], \"color\": \"#e763fa\", \"symbol\": \"circle\", \"sizeref\": 3.1925}, \"type\": \"scatter\", \"legendgroup\": \"TEAM=CLE\", \"hovertext\": [\"Nik Stauskas\", \"Matthew Dellavedova\", \"Marquese Chriss\", \"Larry Nance Jr.\", \"Kevin Love\", \"Jordan Clarkson\", \"John Henson\", \"Jaron Blossomgame\", \"Jalen Jones\", \"David Nwaba\", \"Collin Sexton\", \"Channing Frye\", \"Cedi Osman\", \"Cameron Payne\", \"Brandon Knight\"], \"name\": \"TEAM=CLE\", \"x\": [43.6, 48.2, 48.1, 56.5, 41.2, 52.8, 55.6, 54.4, 47.1, 53.5, 43.9, 29.7, 48.7, 51.1, 43.3], \"yaxis\": \"y\", \"xaxis\": \"x\", \"showlegend\": true, \"y\": [37.2, 33.8, 22.5, 34.4, 36.1, 32.4, 35.5, 25.6, 35.7, 32.4, 40.3, 40.5, 34.7, 29.8, 32.5], \"mode\": \"markers\", \"hovertemplate\": \"<b>%{hovertext}</b><br><br>TEAM=CLE<br>2-point Field Goal Percentage=%{x}<br>3-point Filed Goal Percentage=%{y}<br>2FGA_x=%{marker.size}<extra></extra>\", \"uid\": \"b69d6820-eb63-449a-ad50-8f6d792319a4\"}, {\"marker\": {\"sizemode\": \"area\", \"size\": [289, 305, 85, 118, 543, 104, 57, 160, 508, 442, 351, 378], \"color\": \"#fecb52\", \"symbol\": \"circle\", \"sizeref\": 3.1925}, \"type\": \"scatter\", \"legendgroup\": \"TEAM=NYK\", \"hovertext\": [\"Noah Vonleh\", \"Mario Hezonja\", \"Luke Kornet\", \"Lance Thomas\", \"Kevin Knox\", \"Kadeem Allen\", \"Henry Ellenson\", \"Frank Ntilikina\", \"Emmanuel Mudiay\", \"Dennis Smith Jr.\", \"Damyean Dotson\", \"Allonzo Trier\"], \"name\": \"TEAM=NYK\", \"x\": [52.6, 48.2, 42.4, 47.5, 38.9, 46.2, 38.6, 38.8, 48.4, 47.7, 45.9, 46.6], \"yaxis\": \"y\", \"xaxis\": \"x\", \"showlegend\": true, \"y\": [33.8, 27.8, 35.3, 27.8, 35.1, 47.2, 44.7, 28.6, 32.7, 32.2, 36.4, 39.2], \"mode\": \"markers\", \"hovertemplate\": \"<b>%{hovertext}</b><br><br>TEAM=NYK<br>2-point Field Goal Percentage=%{x}<br>3-point Filed Goal Percentage=%{y}<br>2FGA_x=%{marker.size}<extra></extra>\", \"uid\": \"aeea5fb3-5b7e-4ba4-bc6f-2f0fae3652ac\"}, {\"marker\": {\"sizemode\": \"area\", \"size\": [63, 27, 458, 207, 438, 265, 362, 522, 88, 263, 882, 329, 114], \"color\": \"#ffa15a\", \"symbol\": \"circle\", \"sizeref\": 3.1925}, \"type\": \"scatter\", \"legendgroup\": \"TEAM=BKN\", \"hovertext\": [\"Treveon Graham\", \"Theo Pinson\", \"Spencer Dinwiddie\", \"Shabazz Napier\", \"Rondae Hollis-Jefferson\", \"Rodions Kurucs\", \"Joe Harris\", \"Jarrett Allen\", \"Jared Dudley\", \"DeMarre Carroll\", \"D'Angelo Russell\", \"Caris LeVert\", \"Allen Crabbe\"], \"name\": \"TEAM=BKN\", \"x\": [41.3, 48.1, 52.8, 44.9, 43.6, 54.3, 52.8, 62.8, 54.5, 45.6, 48.2, 48.3, 34.2], \"yaxis\": \"y\", \"xaxis\": \"x\", \"showlegend\": true, \"y\": [29.7, 26.1, 33.5, 33.3, 18.4, 31.5, 47.4, 13.3, 35.1, 33.9, 36.9, 31.2, 37.8], \"mode\": \"markers\", \"hovertemplate\": \"<b>%{hovertext}</b><br><br>TEAM=BKN<br>2-point Field Goal Percentage=%{x}<br>3-point Filed Goal Percentage=%{y}<br>2FGA_x=%{marker.size}<extra></extra>\", \"uid\": \"00e1e885-eb7d-43cb-b5fc-f111ea592992\"}, {\"marker\": {\"sizemode\": \"area\", \"size\": [258, 292, 173, 497, 934, 471, 330, 132, 753, 52, 386], \"color\": \"#ff6692\", \"symbol\": \"circle\", \"sizeref\": 3.1925}, \"type\": \"scatter\", \"legendgroup\": \"TEAM=DEN\", \"hovertext\": [\"Will Barton\", \"Trey Lyles\", \"Torrey Craig\", \"Paul Millsap\", \"Nikola Jokic\", \"Monte Morris\", \"Malik Beasley\", \"Juancho Hernangomez\", \"Jamal Murray\", \"Isaiah Thomas\", \"Gary Harris\"], \"name\": \"TEAM=DEN\", \"x\": [44.6, 52.7, 57.2, 51.9, 56.9, 53.3, 56.1, 54.5, 47.5, 38.5, 47.2], \"yaxis\": \"y\", \"xaxis\": \"x\", \"showlegend\": true, \"y\": [33.5, 24.9, 32.8, 36.9, 30.9, 41.5, 40.3, 36.5, 36.9, 30.0, 33.9], \"mode\": \"markers\", \"hovertemplate\": \"<b>%{hovertext}</b><br><br>TEAM=DEN<br>2-point Field Goal Percentage=%{x}<br>3-point Filed Goal Percentage=%{y}<br>2FGA_x=%{marker.size}<extra></extra>\", \"uid\": \"76caf00f-eb66-490e-9b94-bff94cdffb50\"}, {\"marker\": {\"sizemode\": \"area\", \"size\": [199, 286, 88, 101, 136, 228, 757, 234, 665, 320, 188, 616, 633, 117], \"color\": \"#b6e880\", \"symbol\": \"circle\", \"sizeref\": 3.1925}, \"type\": \"scatter\", \"legendgroup\": \"TEAM=LAL\", \"hovertext\": [\"Reggie Bullock\", \"Rajon Rondo\", \"Moritz Wagner\", \"Mike Muscala\", \"Michael Beasley\", \"Lonzo Ball\", \"LeBron James\", \"Lance Stephenson\", \"Kyle Kuzma\", \"Kentavious Caldwell-Pope\", \"Josh Hart\", \"JaVale McGee\", \"Brandon Ingram\", \"Alex Caruso\"], \"name\": \"TEAM=LAL\", \"x\": [48.2, 42.7, 52.3, 53.5, 52.9, 48.2, 58.1, 47.4, 55.3, 54.4, 51.1, 63.1, 52.3, 41.9], \"yaxis\": \"y\", \"xaxis\": \"x\", \"showlegend\": true, \"y\": [37.9, 36.7, 27.4, 35.3, 17.6, 32.9, 34.0, 37.3, 30.3, 34.7, 33.5, 8.3, 33.0, 50.0], \"mode\": \"markers\", \"hovertemplate\": \"<b>%{hovertext}</b><br><br>TEAM=LAL<br>2-point Field Goal Percentage=%{x}<br>3-point Filed Goal Percentage=%{y}<br>2FGA_x=%{marker.size}<extra></extra>\", \"uid\": \"fcba9457-9114-462d-8a2e-f90b9565e69b\"}], {\"legend\": {\"tracegroupgap\": 0}, \"xaxis\": {\"title\": {\"text\": \"2-point Field Goal Percentage\"}, \"range\": [20, 80]}, \"height\": 600, \"yaxis\": {\"title\": {\"text\": \"3-point Filed Goal Percentage\"}, \"range\": [20, 80]}, \"margin\": {\"t\": 60}, \"grid\": {\"xgap\": 0.1, \"yside\": \"left\", \"xaxes\": [\"x\"], \"yaxes\": [\"y\"], \"xside\": \"bottom\", \"ygap\": 0.1}, \"template\": {\"data\": {\"scattercarpet\": [{\"marker\": {\"colorbar\": {\"ticks\": \"\", \"outlinewidth\": 0}}, \"type\": \"scattercarpet\"}], \"scattergl\": [{\"marker\": {\"colorbar\": {\"ticks\": \"\", \"outlinewidth\": 0}}, \"type\": \"scattergl\"}], \"heatmap\": [{\"type\": \"heatmap\", \"colorbar\": {\"outlinewidth\": 0, \"ticks\": \"\"}, \"autocolorscale\": true}], \"contourcarpet\": [{\"type\": \"contourcarpet\", \"colorbar\": {\"outlinewidth\": 0, \"ticks\": \"\"}}], \"heatmapgl\": [{\"type\": \"heatmapgl\", \"colorbar\": {\"outlinewidth\": 0, \"ticks\": \"\"}}], \"histogram\": [{\"marker\": {\"colorbar\": {\"ticks\": \"\", \"outlinewidth\": 0}}, \"type\": \"histogram\"}], \"scattergeo\": [{\"marker\": {\"colorbar\": {\"ticks\": \"\", \"outlinewidth\": 0}}, \"type\": \"scattergeo\"}], \"carpet\": [{\"aaxis\": {\"endlinecolor\": \"#2a3f5f\", \"gridcolor\": \"white\", \"minorgridcolor\": \"white\", \"linecolor\": \"white\", \"startlinecolor\": \"#2a3f5f\"}, \"baxis\": {\"endlinecolor\": \"#2a3f5f\", \"gridcolor\": \"white\", \"minorgridcolor\": \"white\", \"linecolor\": \"white\", \"startlinecolor\": \"#2a3f5f\"}, \"type\": \"carpet\"}], \"choropleth\": [{\"type\": \"choropleth\", \"colorbar\": {\"outlinewidth\": 0, \"ticks\": \"\"}}], \"scatterpolargl\": [{\"marker\": {\"colorbar\": {\"ticks\": \"\", \"outlinewidth\": 0}}, \"type\": \"scatterpolargl\"}], \"histogram2dcontour\": [{\"type\": \"histogram2dcontour\", \"colorbar\": {\"outlinewidth\": 0, \"ticks\": \"\"}, \"autocolorscale\": true}], \"scatter3d\": [{\"marker\": {\"colorbar\": {\"ticks\": \"\", \"outlinewidth\": 0}}, \"type\": \"scatter3d\"}], \"contour\": [{\"type\": \"contour\", \"colorbar\": {\"outlinewidth\": 0, \"ticks\": \"\"}, \"autocolorscale\": true}], \"barpolar\": [{\"marker\": {\"line\": {\"width\": 0.5, \"color\": \"#E5ECF6\"}}, \"type\": \"barpolar\"}], \"surface\": [{\"type\": \"surface\", \"colorbar\": {\"outlinewidth\": 0, \"ticks\": \"\"}}], \"mesh3d\": [{\"type\": \"mesh3d\", \"colorbar\": {\"outlinewidth\": 0, \"ticks\": \"\"}}], \"scatter\": [{\"marker\": {\"colorbar\": {\"ticks\": \"\", \"outlinewidth\": 0}}, \"type\": \"scatter\"}], \"parcoords\": [{\"type\": \"parcoords\", \"line\": {\"colorbar\": {\"ticks\": \"\", \"outlinewidth\": 0}}}], \"scatterternary\": [{\"marker\": {\"colorbar\": {\"ticks\": \"\", \"outlinewidth\": 0}}, \"type\": \"scatterternary\"}], \"scattermapbox\": [{\"marker\": {\"colorbar\": {\"ticks\": \"\", \"outlinewidth\": 0}}, \"type\": \"scattermapbox\"}], \"table\": [{\"type\": \"table\", \"header\": {\"fill\": {\"color\": \"#C8D4E3\"}, \"line\": {\"color\": \"white\"}}, \"cells\": {\"fill\": {\"color\": \"#EBF0F8\"}, \"line\": {\"color\": \"white\"}}}], \"scatterpolar\": [{\"marker\": {\"colorbar\": {\"ticks\": \"\", \"outlinewidth\": 0}}, \"type\": \"scatterpolar\"}], \"histogram2d\": [{\"type\": \"histogram2d\", \"colorbar\": {\"outlinewidth\": 0, \"ticks\": \"\"}, \"autocolorscale\": true}], \"bar\": [{\"marker\": {\"line\": {\"width\": 0.5, \"color\": \"#E5ECF6\"}}, \"type\": \"bar\"}]}, \"layout\": {\"geo\": {\"lakecolor\": \"white\", \"bgcolor\": \"white\", \"showland\": true, \"landcolor\": \"#E5ECF6\", \"subunitcolor\": \"white\", \"showlakes\": true}, \"hovermode\": \"closest\", \"colorscale\": {\"sequentialminus\": [[0.0, \"#0508b8\"], [0.0893854748603352, \"#1910d8\"], [0.1787709497206704, \"#3c19f0\"], [0.2681564245810056, \"#6b1cfb\"], [0.3575418994413408, \"#981cfd\"], [0.44692737430167595, \"#bf1cfd\"], [0.5363128491620112, \"#dd2bfd\"], [0.6256983240223464, \"#f246fe\"], [0.7150837988826816, \"#fc67fd\"], [0.8044692737430168, \"#fe88fc\"], [0.8938547486033519, \"#fea5fd\"], [0.9832402234636871, \"#febefe\"], [1.0, \"#fec3fe\"]], \"sequential\": [[0.0, \"#0508b8\"], [0.0893854748603352, \"#1910d8\"], [0.1787709497206704, \"#3c19f0\"], [0.2681564245810056, \"#6b1cfb\"], [0.3575418994413408, \"#981cfd\"], [0.44692737430167595, \"#bf1cfd\"], [0.5363128491620112, \"#dd2bfd\"], [0.6256983240223464, \"#f246fe\"], [0.7150837988826816, \"#fc67fd\"], [0.8044692737430168, \"#fe88fc\"], [0.8938547486033519, \"#fea5fd\"], [0.9832402234636871, \"#febefe\"], [1.0, \"#fec3fe\"]], \"diverging\": [[0, \"#8e0152\"], [0.1, \"#c51b7d\"], [0.2, \"#de77ae\"], [0.3, \"#f1b6da\"], [0.4, \"#fde0ef\"], [0.5, \"#f7f7f7\"], [0.6, \"#e6f5d0\"], [0.7, \"#b8e186\"], [0.8, \"#7fbc41\"], [0.9, \"#4d9221\"], [1, \"#276419\"]]}, \"title\": {\"x\": 0.05}, \"shapedefaults\": {\"line\": {\"width\": 0}, \"opacity\": 0.4, \"fillcolor\": \"#506784\"}, \"ternary\": {\"aaxis\": {\"gridcolor\": \"white\", \"linecolor\": \"white\", \"ticks\": \"\"}, \"baxis\": {\"gridcolor\": \"white\", \"linecolor\": \"white\", \"ticks\": \"\"}, \"bgcolor\": \"#E5ECF6\", \"caxis\": {\"gridcolor\": \"white\", \"linecolor\": \"white\", \"ticks\": \"\"}}, \"paper_bgcolor\": \"white\", \"colorway\": [\"#636efa\", \"#EF553B\", \"#00cc96\", \"#ab63fa\", \"#19d3f3\", \"#e763fa\", \"#FECB52\", \"#FFA15A\", \"#FF6692\", \"#B6E880\"], \"font\": {\"color\": \"#2a3f5f\"}, \"polar\": {\"angularaxis\": {\"gridcolor\": \"white\", \"linecolor\": \"white\", \"ticks\": \"\"}, \"bgcolor\": \"#E5ECF6\", \"radialaxis\": {\"gridcolor\": \"white\", \"linecolor\": \"white\", \"ticks\": \"\"}}, \"annotationdefaults\": {\"arrowcolor\": \"#506784\", \"arrowwidth\": 1, \"arrowhead\": 0}, \"plot_bgcolor\": \"#E5ECF6\", \"mapbox\": {\"style\": \"light\"}, \"xaxis\": {\"zerolinewidth\": 2, \"zerolinecolor\": \"white\", \"gridcolor\": \"white\", \"linecolor\": \"white\", \"automargin\": true, \"ticks\": \"\"}, \"yaxis\": {\"zerolinewidth\": 2, \"zerolinecolor\": \"white\", \"gridcolor\": \"white\", \"linecolor\": \"white\", \"automargin\": true, \"ticks\": \"\"}, \"scene\": {\"yaxis\": {\"showbackground\": true, \"gridwidth\": 2, \"zerolinecolor\": \"white\", \"gridcolor\": \"white\", \"linecolor\": \"white\", \"backgroundcolor\": \"#E5ECF6\", \"ticks\": \"\"}, \"zaxis\": {\"showbackground\": true, \"gridwidth\": 2, \"zerolinecolor\": \"white\", \"gridcolor\": \"white\", \"linecolor\": \"white\", \"backgroundcolor\": \"#E5ECF6\", \"ticks\": \"\"}, \"xaxis\": {\"showbackground\": true, \"gridwidth\": 2, \"zerolinecolor\": \"white\", \"gridcolor\": \"white\", \"linecolor\": \"white\", \"backgroundcolor\": \"#E5ECF6\", \"ticks\": \"\"}}}}}, {\"plotlyServerURL\": \"https://plot.ly\", \"showLink\": false, \"linkText\": \"Export to plot.ly\"}); \n",
       "}\n",
       "});</script><script type=\"text/javascript\">window.addEventListener(\"resize\", function(){if (document.getElementById(\"823a30bb-3dca-4a4f-84b9-00f04bb593ce\")) {window._Plotly.Plots.resize(document.getElementById(\"823a30bb-3dca-4a4f-84b9-00f04bb593ce\"));};})</script>"
      ]
     },
     "metadata": {},
     "output_type": "display_data"
    }
   ],
   "source": [
    "px.scatter(data,x = '2FG%_x', y= '3P%_x',labels={'2FG%_x':'2-point Field Goal Percentage','3P%_x':'3-point Filed Goal Percentage'},\n",
    "           hover_name='PLAYER',size='2FGA_x',color='TEAM',range_x=[20,80],range_y=[20,80])\n",
    "# plt.plot(np.arange(160),np.arange(160),'r')\n",
    "# plt.xlabel('2-point Field Goal Percentage')\n",
    "# plt.ylabel('3-point Filed Goal Percentage')"
   ]
  },
  {
   "cell_type": "code",
   "execution_count": 45,
   "metadata": {
    "slideshow": {
     "slide_type": "slide"
    }
   },
   "outputs": [
    {
     "data": {
      "application/vnd.plotly.v1+json": {
       "config": {
        "linkText": "Export to plot.ly",
        "plotlyServerURL": "https://plot.ly",
        "showLink": false
       },
       "data": [
        {
         "hovertemplate": "<b>%{hovertext}</b><br><br>TEAM=SAC<br>2-point Field Goal Percentage=%{x}<br>3-point Filed Goal Percentage=%{y}<br>2FGA_x=%{marker.size}<extra></extra>",
         "hovertext": [
          "Yogi Ferrell",
          "Troy Williams",
          "Nemanja Bjelica",
          "Marvin Bagley III",
          "Harrison Barnes",
          "Frank Mason",
          "De'Aaron Fox",
          "Corey Brewer",
          "Buddy Hield",
          "Bogdan Bogdanovic",
          "Alec Burks"
         ],
         "legendgroup": "TEAM=SAC",
         "marker": {
          "color": "#636efa",
          "size": [
           202,
           54,
           333,
           609,
           585,
           105,
           867,
           79,
           710,
           491,
           306
          ],
          "sizemode": "area",
          "sizeref": 3.1925,
          "symbol": "circle"
         },
         "mode": "markers",
         "name": "TEAM=SAC",
         "showlegend": true,
         "type": "scatter",
         "uid": "110ededb-afef-4b38-8763-32087d5112a7",
         "x": [
          47.16981132075472,
          16.666666666666664,
          38.23529411764706,
          40.44117647058824,
          31.86813186813186,
          42.105263157894726,
          36.36363636363637,
          18.181818181818183,
          41.88034188034188,
          41.12149532710279,
          27.27272727272727
         ],
         "xaxis": "x",
         "y": [
          36.2,
          31.8,
          40.1,
          31.3,
          39.5,
          21.9,
          37.1,
          31.8,
          42.7,
          36,
          36.3
         ],
         "yaxis": "y"
        },
        {
         "hovertemplate": "<b>%{hovertext}</b><br><br>TEAM=NOP<br>2-point Field Goal Percentage=%{x}<br>3-point Filed Goal Percentage=%{y}<br>2FGA_x=%{marker.size}<extra></extra>",
         "hovertext": [
          "Stanley Johnson",
          "Solomon Hill",
          "Kenrich Williams",
          "Julius Randle",
          "Jrue Holiday",
          "Jason Smith",
          "Ian Clark",
          "Frank Jackson",
          "Elfrid Payton",
          "E'Twaun Moore",
          "Darius Miller",
          "Christian Wood",
          "Anthony Davis",
          "Andrew Harrison"
         ],
         "legendgroup": "TEAM=NOP",
         "marker": {
          "color": "#EF553B",
          "size": [
           225,
           77,
           121,
           893,
           796,
           33,
           181,
           278,
           307,
           356,
           120,
           91,
           881,
           28
          ],
          "sizemode": "area",
          "sizeref": 3.1925,
          "symbol": "circle"
         },
         "mode": "markers",
         "name": "TEAM=NOP",
         "showlegend": true,
         "type": "scatter",
         "uid": "d5fa50ba-4495-478f-98ee-9b09d26b2325",
         "x": [
          36.95652173913043,
          35.29411764705883,
          26.08695652173913,
          38.613861386138616,
          41.474654377880185,
          25,
          39.325842696629216,
          33.33333333333333,
          43.75,
          42.735042735042725,
          40.90909090909091,
          53.33333333333334,
          37.676056338028175,
          20
         ],
         "xaxis": "x",
         "y": [
          28.8,
          31.7,
          33.3,
          34.4,
          32.5,
          34.6,
          32.7,
          31.2,
          31.7,
          43.2,
          36.5,
          34.6,
          33.1,
          20
         ],
         "yaxis": "y"
        },
        {
         "hovertemplate": "<b>%{hovertext}</b><br><br>TEAM=HOU<br>2-point Field Goal Percentage=%{x}<br>3-point Filed Goal Percentage=%{y}<br>2FGA_x=%{marker.size}<extra></extra>",
         "hovertext": [
          "PJ Tucker",
          "Kenneth Faried",
          "James Harden",
          "Iman Shumpert",
          "Gerald Green",
          "Gary Clark",
          "Eric Gordon",
          "Danuel House Jr.",
          "Chris Paul",
          "Carmelo Anthony",
          "Austin Rivers"
         ],
         "legendgroup": "TEAM=HOU",
         "marker": {
          "color": "#00cc96",
          "size": [
           136,
           240,
           881,
           173,
           136,
           13,
           338,
           74,
           363,
           57,
           245
          ],
          "sizemode": "area",
          "sizeref": 3.1925,
          "symbol": "circle"
         },
         "mode": "markers",
         "name": "TEAM=HOU",
         "showlegend": true,
         "type": "scatter",
         "uid": "c22d6094-5d58-4796-9e6a-2ea8a83a1009",
         "x": [
          21.428571428571427,
          100,
          42.22222222222222,
          32.710280373831765,
          40.42553191489361,
          null,
          28.125,
          33.33333333333333,
          47.76785714285714,
          44.11764705882353,
          36
         ],
         "xaxis": "x",
         "y": [
          37.7,
          32,
          36.8,
          34.8,
          35.5,
          29.7,
          36.1,
          41.6,
          35.9,
          32.8,
          31.8
         ],
         "yaxis": "y"
        },
        {
         "hovertemplate": "<b>%{hovertext}</b><br><br>TEAM=WAS<br>2-point Field Goal Percentage=%{x}<br>3-point Filed Goal Percentage=%{y}<br>2FGA_x=%{marker.size}<extra></extra>",
         "hovertext": [
          "Wesley Johnson",
          "Troy Brown Jr.",
          "Trevor Ariza",
          "Tomas Satoransky",
          "Thomas Bryant",
          "Sam Dekker",
          "Jordan McRae",
          "John Wall",
          "Jeff Green",
          "Jabari Parker",
          "Ian Mahinmi",
          "Chasson Randle",
          "Bradley Beal",
          "Bobby Portis"
         ],
         "legendgroup": "TEAM=WAS",
         "marker": {
          "color": "#ab63fa",
          "size": [
           52,
           161,
           299,
           359,
           389,
           183,
           92,
           383,
           365,
           544,
           89,
           96,
           977,
           419
          ],
          "sizemode": "area",
          "sizeref": 3.1925,
          "symbol": "circle"
         },
         "mode": "markers",
         "name": "TEAM=WAS",
         "showlegend": true,
         "type": "scatter",
         "uid": "5c098269-36b5-4a01-8b4f-15e7ee07620a",
         "x": [
          27.02702702702703,
          30.612244897959183,
          38.63636363636363,
          37.38317757009346,
          45.83333333333333,
          32,
          47.91666666666667,
          38.970588235294116,
          42.06349206349206,
          38.69047619047619,
          0,
          16.666666666666664,
          43.103448275862064,
          36.206896551724135
         ],
         "xaxis": "x",
         "y": [
          32.9,
          30.8,
          33.6,
          38.1,
          34.7,
          30.6,
          29.4,
          30.2,
          35,
          31.4,
          18.8,
          40.7,
          35.3,
          38.5
         ],
         "yaxis": "y"
        },
        {
         "hovertemplate": "<b>%{hovertext}</b><br><br>TEAM=ATL<br>2-point Field Goal Percentage=%{x}<br>3-point Filed Goal Percentage=%{y}<br>2FGA_x=%{marker.size}<extra></extra>",
         "hovertext": [
          "Vince Carter",
          "Trae Young",
          "Taurean Prince",
          "Omari Spellman",
          "Kevin Huerter",
          "Kent Bazemore",
          "Justin Anderson",
          "John Collins",
          "Jaylen Adams",
          "Dewayne Dedmon",
          "DeAndre' Bembry",
          "Daniel Hamilton",
          "Alex Poythress",
          "Alex Len"
         ],
         "legendgroup": "TEAM=ATL",
         "marker": {
          "color": "#19d3f3",
          "size": [
           152,
           775,
           279,
           116,
           304,
           391,
           80,
           673,
           36,
           309,
           444,
           37,
           58,
           444
          ],
          "sizemode": "area",
          "sizeref": 3.1925,
          "symbol": "circle"
         },
         "mode": "markers",
         "name": "TEAM=ATL",
         "showlegend": true,
         "type": "scatter",
         "uid": "82e1e21f-fb62-48a3-abcf-4b337ade01b5",
         "x": [
          36.17021276595745,
          41.24513618677042,
          41.17647058823529,
          37.5,
          33.33333333333333,
          36,
          15.384615384615385,
          31.147540983606557,
          35.714285714285715,
          32.6530612244898,
          23.529411764705877,
          16.666666666666664,
          0,
          29.032258064516128
         ],
         "xaxis": "x",
         "y": [
          38.9,
          32.4,
          39,
          34.4,
          38.4,
          32,
          31.2,
          34.8,
          33.8,
          38.2,
          28.9,
          34.8,
          39.1,
          36.3
         ],
         "yaxis": "y"
        },
        {
         "hovertemplate": "<b>%{hovertext}</b><br><br>TEAM=MIL<br>2-point Field Goal Percentage=%{x}<br>3-point Filed Goal Percentage=%{y}<br>2FGA_x=%{marker.size}<extra></extra>",
         "hovertext": [
          "Tony Snell",
          "Tim Frazier",
          "Sterling Brown",
          "Pau Gasol",
          "Pat Connaughton",
          "Nikola Mirotic",
          "Malcolm Brogdon",
          "Khris Middleton",
          "Isaiah Canaan",
          "Giannis Antetokounmpo",
          "George Hill",
          "Ersan Ilyasova",
          "Eric Bledsoe",
          "Donte DiVincenzo",
          "D.J. Wilson",
          "Brook Lopez",
          "Bonzie Colson"
         ],
         "legendgroup": "TEAM=MIL",
         "marker": {
          "color": "#e763fa",
          "size": [
           157,
           160,
           165,
           81,
           149,
           224,
           503,
           674,
           68,
           1045,
           223,
           222,
           595,
           41,
           122,
           273,
           18
          ],
          "sizemode": "area",
          "sizeref": 3.1925,
          "symbol": "circle"
         },
         "mode": "markers",
         "name": "TEAM=MIL",
         "showlegend": true,
         "type": "scatter",
         "uid": "4f095b32-4e00-44aa-8f48-749318b44127",
         "x": [
          28.57142857142857,
          43.103448275862064,
          42.105263157894726,
          37.93103448275862,
          43.75,
          37.03703703703704,
          33.87096774193548,
          44.303797468354425,
          58.82352941176471,
          34.93975903614458,
          47.435897435897424,
          31.48148148148148,
          37.373737373737384,
          33.33333333333333,
          35.135135135135144,
          42.857142857142854,
          33.33333333333333
         ],
         "xaxis": "x",
         "y": [
          39.7,
          36.6,
          36.1,
          46.2,
          33,
          36.5,
          42.6,
          37.8,
          35.4,
          25.6,
          31.4,
          36.3,
          32.9,
          26.5,
          36.2,
          36.4,
          23.8
         ],
         "yaxis": "y"
        },
        {
         "hovertemplate": "<b>%{hovertext}</b><br><br>TEAM=ORL<br>2-point Field Goal Percentage=%{x}<br>3-point Filed Goal Percentage=%{y}<br>2FGA_x=%{marker.size}<extra></extra>",
         "hovertext": [
          "Wes Iwundu",
          "Terrence Ross",
          "Nikola Vucevic",
          "Mo Bamba",
          "Michael Carter-Williams",
          "Markelle Fultz",
          "Jonathan Isaac",
          "Jerian Grant",
          "Jarell Martin",
          "Isaiah Briscoe",
          "Evan Fournier",
          "D.J. Augustin",
          "Aaron Gordon"
         ],
         "legendgroup": "TEAM=ORL",
         "marker": {
          "color": "#fecb52",
          "size": [
           195,
           451,
           1094,
           164,
           85,
           141,
           336,
           106,
           47,
           104,
           601,
           358,
           682
          ],
          "sizemode": "area",
          "sizeref": 3.1925,
          "symbol": "circle"
         },
         "mode": "markers",
         "name": "TEAM=ORL",
         "showlegend": true,
         "type": "scatter",
         "uid": "20040f3b-5294-40c0-982f-30b51bc91a34",
         "x": [
          36.231884057971016,
          45.23809523809525,
          43.07228915662651,
          39.215686274509814,
          20,
          29.230769230769234,
          34.57943925233645,
          44.444444444444436,
          30.434782608695656,
          27.90697674418605,
          42.213114754098356,
          44.31818181818182,
          37.333333333333336
         ],
         "xaxis": "x",
         "y": [
          36.7,
          38.2,
          36,
          29.2,
          26.3,
          28.6,
          32.3,
          36.7,
          35.1,
          32.4,
          34.3,
          41.6,
          34.8
         ],
         "yaxis": "y"
        },
        {
         "hovertemplate": "<b>%{hovertext}</b><br><br>TEAM=OKC<br>2-point Field Goal Percentage=%{x}<br>3-point Filed Goal Percentage=%{y}<br>2FGA_x=%{marker.size}<extra></extra>",
         "hovertext": [
          "Terrance Ferguson",
          "Russell Westbrook",
          "Raymond Felton",
          "Paul George",
          "Patrick Patterson",
          "Markieff Morris",
          "Jerami Grant",
          "Hamidou Diallo",
          "Deonte Burton",
          "Dennis Schroder",
          "Alex Abrines",
          "Abdel Nader"
         ],
         "legendgroup": "TEAM=OKC",
         "marker": {
          "color": "#ffa15a",
          "size": [
           139,
           1045,
           74,
           845,
           81,
           278,
           525,
           140,
           55,
           727,
           30,
           114
          ],
          "sizemode": "area",
          "sizeref": 3.1925,
          "symbol": "circle"
         },
         "mode": "markers",
         "name": "TEAM=OKC",
         "showlegend": true,
         "type": "scatter",
         "uid": "b76187ec-44b2-43e4-bfa2-0f3d0c12acbe",
         "x": [
          25.71428571428571,
          33.564814814814824,
          45.65217391304348,
          39.480519480519476,
          36,
          33.72093023255814,
          38.23529411764706,
          36.36363636363637,
          41.66666666666667,
          42.815249266862175,
          50,
          22.222222222222218
         ],
         "xaxis": "x",
         "y": [
          36.3,
          29.1,
          32.8,
          38.5,
          33.8,
          33.5,
          39.9,
          16.7,
          29.6,
          33.8,
          32.3,
          31.3
         ],
         "yaxis": "y"
        },
        {
         "hovertemplate": "<b>%{hovertext}</b><br><br>TEAM=DAL<br>2-point Field Goal Percentage=%{x}<br>3-point Filed Goal Percentage=%{y}<br>2FGA_x=%{marker.size}<extra></extra>",
         "hovertext": [
          "Trey Burke",
          "Tim Hardaway Jr.",
          "Salah Mejri",
          "Ryan Broekhoff",
          "Maxi Kleber",
          "Luka Doncic",
          "Justin Jackson",
          "Jalen Brunson",
          "J.J. Barea",
          "Dwight Powell",
          "Dorian Finney-Smith",
          "Dirk Nowitzki",
          "Devin Harris",
          "Courtney Lee"
         ],
         "legendgroup": "TEAM=DAL",
         "marker": {
          "color": "#ff6692",
          "size": [
           388,
           511,
           78,
           33,
           168,
           672,
           239,
           383,
           257,
           358,
           274,
           171,
           147,
           74
          ],
          "sizemode": "area",
          "sizeref": 3.1925,
          "symbol": "circle"
         },
         "mode": "markers",
         "name": "TEAM=DAL",
         "showlegend": true,
         "type": "scatter",
         "uid": "bca54e79-c7ce-4942-a10a-7c9921ee8662",
         "x": [
          41.43646408839779,
          39.76377952755906,
          0,
          50,
          47.61904761904761,
          38.82978723404255,
          36.263736263736256,
          40.29850746268657,
          48.5981308411215,
          11.764705882352938,
          28.2051282051282,
          41.66666666666667,
          26.66666666666667,
          44.680851063829785
         ],
         "xaxis": "x",
         "y": [
          35,
          33.8,
          32.4,
          40.4,
          35.3,
          32.6,
          35.5,
          34.8,
          29.7,
          30.7,
          31.1,
          31.2,
          31,
          29.1
         ],
         "yaxis": "y"
        },
        {
         "hovertemplate": "<b>%{hovertext}</b><br><br>TEAM=GSW<br>2-point Field Goal Percentage=%{x}<br>3-point Filed Goal Percentage=%{y}<br>2FGA_x=%{marker.size}<extra></extra>",
         "hovertext": [
          "Stephen Curry",
          "Quinn Cook",
          "Klay Thompson",
          "Kevin Durant",
          "Jonas Jerebko",
          "Jacob Evans",
          "Draymond Green",
          "DeMarcus Cousins",
          "Damion Lee",
          "Andre Iguodala",
          "Alfonzo McKinnie"
         ],
         "legendgroup": "TEAM=GSW",
         "marker": {
          "color": "#b6e880",
          "size": [
           518,
           238,
           794,
           988,
           166,
           37,
           251,
           269,
           59,
           158,
           158
          ],
          "sizemode": "area",
          "sizeref": 3.1925,
          "symbol": "circle"
         },
         "mode": "markers",
         "name": "TEAM=GSW",
         "showlegend": true,
         "type": "scatter",
         "uid": "30e75dba-489c-4762-ab8c-28231e431778",
         "x": [
          44.600938967136145,
          50.37593984962406,
          45.45454545454545,
          53.223140495867774,
          51.06382978723404,
          37.5,
          36.53846153846153,
          35.714285714285715,
          47.058823529411754,
          27.500000000000004,
          38.095238095238095
         ],
         "xaxis": "x",
         "y": [
          43.2,
          39.8,
          40.5,
          35.2,
          36.4,
          26.7,
          27.7,
          27.7,
          39.7,
          33.3,
          35.9
         ],
         "yaxis": "y"
        },
        {
         "hovertemplate": "<b>%{hovertext}</b><br><br>TEAM=PHI<br>2-point Field Goal Percentage=%{x}<br>3-point Filed Goal Percentage=%{y}<br>2FGA_x=%{marker.size}<extra></extra>",
         "hovertext": [
          "Zhaire Smith",
          "Tobias Harris",
          "T.J. McConnell",
          "Shake Milton",
          "Mike Scott",
          "Jonathon Simmons",
          "Jonah Bolden",
          "Joel Embiid",
          "Jimmy Butler",
          "James Ennis III",
          "JJ Redick",
          "Furkan Korkmaz",
          "Amir Johnson"
         ],
         "legendgroup": "TEAM=PHI",
         "marker": {
          "color": "#636efa",
          "size": [
           18,
           860,
           372,
           43,
           168,
           238,
           66,
           922,
           700,
           138,
           419,
           101,
           117
          ],
          "sizemode": "area",
          "sizeref": 3.1925,
          "symbol": "circle"
         },
         "mode": "markers",
         "name": "TEAM=PHI",
         "showlegend": true,
         "type": "scatter",
         "uid": "86e04a96-86b1-4ca4-92a8-1d7647097215",
         "x": [
          20,
          45.121951219512205,
          49.308755760368655,
          50,
          41.07142857142857,
          30.26315789473684,
          44.444444444444436,
          37.074829931972786,
          35.273972602739725,
          33.33333333333333,
          48.48484848484848,
          34.21052631578947,
          60
         ],
         "xaxis": "x",
         "y": [
          37.5,
          39.5,
          32.6,
          31.8,
          40.1,
          26.7,
          35.1,
          30.4,
          35.5,
          35.3,
          39.7,
          32.6,
          30
         ],
         "yaxis": "y"
        },
        {
         "hovertemplate": "<b>%{hovertext}</b><br><br>TEAM=BOS<br>2-point Field Goal Percentage=%{x}<br>3-point Filed Goal Percentage=%{y}<br>2FGA_x=%{marker.size}<extra></extra>",
         "hovertext": [
          "Terry Rozier",
          "Semi Ojeleye",
          "Marcus Smart",
          "Marcus Morris",
          "Kyrie Irving",
          "Jayson Tatum",
          "Jaylen Brown",
          "Guerschon Yabusele",
          "Gordon Hayward",
          "Daniel Theis",
          "Brad Wanamaker",
          "Aron Baynes",
          "Al Horford"
         ],
         "legendgroup": "TEAM=BOS",
         "marker": {
          "color": "#EF553B",
          "size": [
           328,
           69,
           221,
           455,
           807,
           725,
           516,
           49,
           406,
           200,
           66,
           162,
           520
          ],
          "sizemode": "area",
          "sizeref": 3.1925,
          "symbol": "circle"
         },
         "mode": "markers",
         "name": "TEAM=BOS",
         "showlegend": true,
         "type": "scatter",
         "uid": "2994aff9-7935-404c-b83a-0a55d4ccf53a",
         "x": [
          34.58646616541353,
          31.25,
          36.36363636363637,
          40.45454545454545,
          49.43820224719101,
          36.79525222551929,
          42.94871794871795,
          33.33333333333333,
          42.934782608695656,
          33.33333333333333,
          37.03703703703704,
          39.130434782608695,
          53.201970443349765
         ],
         "xaxis": "x",
         "y": [
          35.3,
          31.5,
          36.4,
          37.5,
          40.1,
          37.3,
          34.4,
          32.1,
          33.3,
          38.8,
          41,
          34.4,
          36
         ],
         "yaxis": "y"
        },
        {
         "hovertemplate": "<b>%{hovertext}</b><br><br>TEAM=CHI<br>2-point Field Goal Percentage=%{x}<br>3-point Filed Goal Percentage=%{y}<br>2FGA_x=%{marker.size}<extra></extra>",
         "hovertext": [
          "Zach LaVine",
          "Wendell Carter Jr.",
          "Wayne Selden",
          "Timothe Luwawu-Cabarrot",
          "Shaquille Harrison",
          "Ryan Arcidiacono",
          "Robin Lopez",
          "Rawle Alkins",
          "Otto Porter Jr.",
          "Lauri Markkanen",
          "Kris Dunn",
          "JaKarr Sampson",
          "Chandler Hutchison",
          "Brandon Sampson",
          "Antonio Blakeney"
         ],
         "legendgroup": "TEAM=CHI",
         "marker": {
          "color": "#00cc96",
          "size": [
           796,
           333,
           306,
           101,
           335,
           196,
           497,
           27,
           374,
           459,
           406,
           39,
           159,
           31,
           304
          ],
          "sizemode": "area",
          "sizeref": 3.1925,
          "symbol": "circle"
         },
         "mode": "markers",
         "name": "TEAM=CHI",
         "showlegend": true,
         "type": "scatter",
         "uid": "8943f288-9c94-4993-8e7b-fe48872d132c",
         "x": [
          34.801762114537446,
          40.17857142857143,
          42.735042735042725,
          32,
          18.421052631578945,
          50.617283950617285,
          34.693877551020414,
          0,
          40.72398190045249,
          38.25503355704698,
          38.285714285714285,
          66.66666666666666,
          31.25,
          40,
          34.054054054054056
         ],
         "xaxis": "x",
         "y": [
          37.2,
          18.8,
          31.4,
          31,
          27,
          37.5,
          22.6,
          25,
          40.7,
          36.2,
          34.7,
          35.7,
          28,
          37.9,
          39.1
         ],
         "yaxis": "y"
        },
        {
         "hovertemplate": "<b>%{hovertext}</b><br><br>TEAM=MEM<br>2-point Field Goal Percentage=%{x}<br>3-point Filed Goal Percentage=%{y}<br>2FGA_x=%{marker.size}<extra></extra>",
         "hovertext": [
          "Yuta Watanabe",
          "Tyler Dorsey",
          "Omri Casspi",
          "Mike Conley",
          "MarShon Brooks",
          "Kyle Anderson",
          "Justin Holiday",
          "Jonas Valanciunas",
          "Jevon Carter",
          "Jaren Jackson Jr.",
          "Ivan Rabb",
          "Dillon Brooks",
          "Delon Wright",
          "Chandler Parsons",
          "CJ Miles",
          "Bruno Caboclo",
          "Avery Bradley"
         ],
         "legendgroup": "TEAM=MEM",
         "marker": {
          "color": "#ab63fa",
          "size": [
           35,
           132,
           118,
           694,
           115,
           242,
           305,
           489,
           83,
           448,
           197,
           82,
           389,
           88,
           106,
           95,
           363
          ],
          "sizemode": "area",
          "sizeref": 3.1925,
          "symbol": "circle"
         },
         "mode": "markers",
         "name": "TEAM=MEM",
         "showlegend": true,
         "type": "scatter",
         "uid": "b7e1a8f6-7159-4419-bf5b-4c0a8a12ef8b",
         "x": [
          26.315789473684212,
          37.5,
          50,
          42.40506329113924,
          41.860465116279066,
          43.90243902439025,
          37.06293706293707,
          40.54054054054054,
          25.53191489361702,
          33.33333333333333,
          33.9622641509434,
          29.16666666666667,
          24.52830188679245,
          36.111111111111114,
          43.47826086956522,
          75,
          45.97156398104265
         ],
         "xaxis": "x",
         "y": [
          12.5,
          33.3,
          34.9,
          36.4,
          27.8,
          26.5,
          34.3,
          29.2,
          33.3,
          35.9,
          20,
          37.5,
          29.9,
          30.1,
          33,
          36.9,
          35.1
         ],
         "yaxis": "y"
        },
        {
         "hovertemplate": "<b>%{hovertext}</b><br><br>TEAM=POR<br>2-point Field Goal Percentage=%{x}<br>3-point Filed Goal Percentage=%{y}<br>2FGA_x=%{marker.size}<extra></extra>",
         "hovertext": [
          "Zach Collins",
          "Skal Labissiere",
          "Seth Curry",
          "Rodney Hood",
          "Meyers Leonard",
          "Maurice Harkless",
          "Jusuf Nurkic",
          "Jake Layman",
          "Gary Trent Jr.",
          "Evan Turner",
          "Enes Kanter",
          "Damian Lillard",
          "CJ McCollum",
          "Anfernee Simons",
          "Al-Farouq Aminu"
         ],
         "legendgroup": "TEAM=POR",
         "marker": {
          "color": "#19d3f3",
          "size": [
           275,
           36,
           214,
           435,
           130,
           267,
           797,
           243,
           29,
           390,
           642,
           889,
           795,
           34,
           310
          ],
          "sizemode": "area",
          "sizeref": 3.1925,
          "symbol": "circle"
         },
         "mode": "markers",
         "name": "TEAM=POR",
         "showlegend": true,
         "type": "scatter",
         "uid": "651e3dd5-b3fa-4128-80db-2b4dc57aad5d",
         "x": [
          23.529411764705877,
          57.14285714285714,
          40.90909090909091,
          44.897959183673464,
          37.93103448275862,
          28.57142857142857,
          36.885245901639344,
          40.90909090909091,
          44.444444444444436,
          43.47826086956522,
          29.310344827586203,
          45.251396648044704,
          50.23148148148147,
          46.66666666666666,
          21.951219512195124
         ],
         "xaxis": "x",
         "y": [
          33.1,
          46.2,
          45,
          35.6,
          45,
          27.5,
          10.3,
          32.6,
          23.8,
          21.2,
          29.4,
          36.9,
          37.5,
          34.5,
          34.5
         ],
         "yaxis": "y"
        },
        {
         "hovertemplate": "<b>%{hovertext}</b><br><br>TEAM=IND<br>2-point Field Goal Percentage=%{x}<br>3-point Filed Goal Percentage=%{y}<br>2FGA_x=%{marker.size}<extra></extra>",
         "hovertext": [
          "Wesley Matthews",
          "Victor Oladipo",
          "Tyreke Evans",
          "Thaddeus Young",
          "TJ Leaf",
          "Myles Turner",
          "Kyle O'Quinn",
          "Edmond Sumner",
          "Doug McDermott",
          "Domantas Sabonis",
          "Darren Collison",
          "Cory Joseph",
          "Bojan Bogdanovic",
          "Aaron Holiday"
         ],
         "legendgroup": "TEAM=IND",
         "marker": {
          "color": "#e763fa",
          "size": [
           296,
           372,
           444,
           695,
           152,
           584,
           123,
           37,
           217,
           685,
           465,
           377,
           664,
           135
          ],
          "sizemode": "area",
          "sizeref": 3.1925,
          "symbol": "circle"
         },
         "mode": "markers",
         "name": "TEAM=IND",
         "showlegend": true,
         "type": "scatter",
         "uid": "c32f995b-010a-4e89-9675-d539cc23bcb5",
         "x": [
          36.231884057971016,
          44.22110552763819,
          31.683168316831683,
          22.41379310344828,
          27.777777777777782,
          43.11594202898551,
          50,
          50,
          39.72602739726028,
          37.671232876712324,
          45.24714828897338,
          41.17647058823529,
          42.15686274509804,
          37.68115942028986
         ],
         "xaxis": "x",
         "y": [
          37.2,
          34.3,
          35.6,
          34.9,
          25.8,
          38.8,
          8.3,
          25.9,
          40.8,
          52.9,
          40.7,
          32.2,
          42.5,
          33.9
         ],
         "yaxis": "y"
        },
        {
         "hovertemplate": "<b>%{hovertext}</b><br><br>TEAM=MIN<br>2-point Field Goal Percentage=%{x}<br>3-point Filed Goal Percentage=%{y}<br>2FGA_x=%{marker.size}<extra></extra>",
         "hovertext": [
          "Tyus Jones",
          "Taj Gibson",
          "Robert Covington",
          "Luol Deng",
          "Keita Bates-Diop",
          "Karl-Anthony Towns",
          "Josh Okogie",
          "Jerryd Bayless",
          "Jeff Teague",
          "Gorgui Dieng",
          "Derrick Rose",
          "Dario Saric",
          "Cameron Reynolds",
          "C.J. Williams",
          "Anthony Tolliver",
          "Andrew Wiggins"
         ],
         "legendgroup": "TEAM=MIN",
         "marker": {
          "color": "#fecb52",
          "size": [
           320,
           504,
           137,
           74,
           90,
           960,
           293,
           132,
           311,
           321,
           607,
           373,
           27,
           19,
           44,
           861
          ],
          "sizemode": "area",
          "sizeref": 3.1925,
          "symbol": "circle"
         },
         "mode": "markers",
         "name": "TEAM=MIN",
         "showlegend": true,
         "type": "scatter",
         "uid": "ea4b4442-f971-40a1-b44a-fb5bd10013f5",
         "x": [
          38.51351351351352,
          45.45454545454545,
          35,
          31.578947368421048,
          25,
          39.77900552486189,
          32.87671232876712,
          37.333333333333336,
          41.30434782608695,
          47.25274725274725,
          46.21212121212121,
          29.347826086956523,
          40,
          85.71428571428571,
          36.36363636363637,
          32.887700534759354
         ],
         "xaxis": "x",
         "y": [
          31.7,
          32.4,
          37.8,
          31.8,
          25,
          40,
          27.9,
          29.6,
          33.3,
          33.9,
          37,
          36.5,
          41.2,
          31.3,
          37.7,
          33.9
         ],
         "yaxis": "y"
        },
        {
         "hovertemplate": "<b>%{hovertext}</b><br><br>TEAM=UTA<br>2-point Field Goal Percentage=%{x}<br>3-point Filed Goal Percentage=%{y}<br>2FGA_x=%{marker.size}<extra></extra>",
         "hovertext": [
          "Thabo Sefolosha",
          "Royce O'Neale",
          "Ricky Rubio",
          "Raul Neto",
          "Kyle Korver",
          "Joe Ingles",
          "Jae Crowder",
          "Grayson Allen",
          "Georges Niang",
          "Donovan Mitchell",
          "Derrick Favors",
          "Dante Exum"
         ],
         "legendgroup": "TEAM=UTA",
         "marker": {
          "color": "#ffa15a",
          "size": [
           68,
           167,
           457,
           100,
           133,
           309,
           271,
           79,
           76,
           983,
           522,
           174
          ],
          "sizemode": "area",
          "sizeref": 3.1925,
          "symbol": "circle"
         },
         "mode": "markers",
         "name": "TEAM=UTA",
         "showlegend": true,
         "type": "scatter",
         "uid": "7d805d05-a9d7-4558-bc4f-6b166748f201",
         "x": [
          38.888888888888886,
          26.66666666666667,
          37.60683760683761,
          37.5,
          42.056074766355145,
          35,
          39.39393939393939,
          35.714285714285715,
          57.14285714285714,
          43.04635761589404,
          40.74074074074074,
          33.33333333333333
         ],
         "xaxis": "x",
         "y": [
          43.6,
          38.2,
          32,
          33.3,
          40.2,
          39.3,
          32.8,
          32.3,
          41,
          35.8,
          21.8,
          29
         ],
         "yaxis": "y"
        },
        {
         "hovertemplate": "<b>%{hovertext}</b><br><br>TEAM=DET<br>2-point Field Goal Percentage=%{x}<br>3-point Filed Goal Percentage=%{y}<br>2FGA_x=%{marker.size}<extra></extra>",
         "hovertext": [
          "Wayne Ellington",
          "Thon Maker",
          "Svi Mykhailiuk",
          "Reggie Jackson",
          "Luke Kennard",
          "Langston Galloway",
          "Khyri Thomas",
          "Jose Calderon",
          "Jon Leuer",
          "Ish Smith",
          "Glenn Robinson III",
          "Bruce Brown",
          "Blake Griffin",
          "Andre Drummond"
         ],
         "legendgroup": "TEAM=DET",
         "marker": {
          "color": "#ff6692",
          "size": [
           85,
           115,
           50,
           576,
           251,
           206,
           34,
           63,
           102,
           355,
           114,
           222,
           819,
           1012
          ],
          "sizemode": "area",
          "sizeref": 3.1925,
          "symbol": "circle"
         },
         "mode": "markers",
         "name": "TEAM=DET",
         "showlegend": true,
         "type": "scatter",
         "uid": "7e79ae86-cb06-48b3-9534-da70661159d4",
         "x": [
          42.105263157894726,
          30,
          27.27272727272727,
          46.47302904564315,
          42.857142857142854,
          42.22222222222222,
          23.529411764705877,
          48.88888888888889,
          48.387096774193544,
          39.16083916083916,
          48.64864864864865,
          37.5,
          26.548672566371685,
          30.90909090909091
         ],
         "xaxis": "x",
         "y": [
          37.1,
          32,
          32.6,
          36.9,
          39.4,
          35.4,
          28.6,
          24.6,
          8.3,
          32.6,
          29.5,
          25.8,
          36.2,
          13.2
         ],
         "yaxis": "y"
        },
        {
         "hovertemplate": "<b>%{hovertext}</b><br><br>TEAM=PHX<br>2-point Field Goal Percentage=%{x}<br>3-point Filed Goal Percentage=%{y}<br>2FGA_x=%{marker.size}<extra></extra>",
         "hovertext": [
          "Tyler Johnson",
          "Troy Daniels",
          "T.J. Warren",
          "Mikal Bridges",
          "Kelly Oubre Jr.",
          "Josh Jackson",
          "Jamal Crawford",
          "Elie Okobo",
          "Dragan Bender",
          "Devin Booker",
          "De'Anthony Melton"
         ],
         "legendgroup": "TEAM=PHX",
         "marker": {
          "color": "#b6e880",
          "size": [
           266,
           81,
           431,
           250,
           503,
           615,
           236,
           158,
           96,
           840,
           161
          ],
          "sizemode": "area",
          "sizeref": 3.1925,
          "symbol": "circle"
         },
         "mode": "markers",
         "name": "TEAM=PHX",
         "showlegend": true,
         "type": "scatter",
         "uid": "5f3945c3-3e0c-45c2-909f-466b7e2cdcfb",
         "x": [
          27.058823529411764,
          48.88888888888889,
          37.142857142857146,
          36.36363636363637,
          49.29577464788733,
          38,
          45.3125,
          29.09090909090909,
          33.33333333333333,
          47.8908188585608,
          25.490196078431374
         ],
         "xaxis": "x",
         "y": [
          34.6,
          38.1,
          42.8,
          33.5,
          32,
          32.4,
          33.2,
          29.5,
          21.8,
          32.6,
          30.5
         ],
         "yaxis": "y"
        },
        {
         "hovertemplate": "<b>%{hovertext}</b><br><br>TEAM=SAS<br>2-point Field Goal Percentage=%{x}<br>3-point Filed Goal Percentage=%{y}<br>2FGA_x=%{marker.size}<extra></extra>",
         "hovertext": [
          "Rudy Gay",
          "Quincy Pondexter",
          "Patty Mills",
          "Marco Belinelli",
          "Lonnie Walker IV",
          "LaMarcus Aldridge",
          "Derrick White",
          "DeMar DeRozan",
          "Davis Bertans",
          "Dante Cunningham",
          "Bryn Forbes"
         ],
         "legendgroup": "TEAM=SAS",
         "marker": {
          "color": "#636efa",
          "size": [
           562,
           40,
           259,
           295,
           33,
           1277,
           401,
           1268,
           115,
           93,
           378
          ],
          "sizemode": "area",
          "sizeref": 3.1925,
          "symbol": "circle"
         },
         "mode": "markers",
         "name": "TEAM=SAS",
         "showlegend": true,
         "type": "scatter",
         "uid": "20c50ad8-e7b3-44bc-8a3d-f20ad5497d4d",
         "x": [
          52.208835341365464,
          33.33333333333333,
          35.97122302158273,
          41.80790960451977,
          20,
          43.61370716510904,
          47.58620689655172,
          42.5925925925926,
          42.307692307692314,
          27.27272727272727,
          46.11650485436893
         ],
         "xaxis": "x",
         "y": [
          40.2,
          33.3,
          39.4,
          37.2,
          38.5,
          23.8,
          33.8,
          15.6,
          42.9,
          46.2,
          42.6
         ],
         "yaxis": "y"
        },
        {
         "hovertemplate": "<b>%{hovertext}</b><br><br>TEAM=LAC<br>2-point Field Goal Percentage=%{x}<br>3-point Filed Goal Percentage=%{y}<br>2FGA_x=%{marker.size}<extra></extra>",
         "hovertext": [
          "Wilson Chandler",
          "Tyrone Wallace",
          "Sindarius Thornwell",
          "Shai Gilgeous-Alexander",
          "Rodney McGruder",
          "Patrick Beverley",
          "Montrezl Harrell",
          "Lou Williams",
          "Landry Shamet",
          "Jerome Robinson",
          "JaMychal Green",
          "Garrett Temple",
          "Danilo Gallinari"
         ],
         "legendgroup": "TEAM=LAC",
         "marker": {
          "color": "#EF553B",
          "size": [
           115,
           198,
           34,
           577,
           236,
           194,
           871,
           845,
           161,
           53,
           300,
           228,
           511
          ],
          "sizemode": "area",
          "sizeref": 3.1925,
          "symbol": "circle"
         },
         "mode": "markers",
         "name": "TEAM=LAC",
         "showlegend": true,
         "type": "scatter",
         "uid": "00132aac-b026-47cd-8bbc-fe830e403577",
         "x": [
          32.432432432432435,
          45.94594594594595,
          0,
          43.62934362934364,
          41.17647058823529,
          34.375,
          35.29411764705883,
          42.25352112676056,
          37.142857142857146,
          50,
          43.47826086956522,
          36.25,
          41.02564102564102
         ],
         "xaxis": "x",
         "y": [
          37.7,
          21.1,
          20,
          36.7,
          34.8,
          39.9,
          17.6,
          36,
          41.7,
          31.6,
          40.3,
          34.1,
          43.3
         ],
         "yaxis": "y"
        },
        {
         "hovertemplate": "<b>%{hovertext}</b><br><br>TEAM=CHA<br>2-point Field Goal Percentage=%{x}<br>3-point Filed Goal Percentage=%{y}<br>2FGA_x=%{marker.size}<extra></extra>",
         "hovertext": [
          "Willy Hernangomez",
          "Tony Parker",
          "Shelvin Mack",
          "Nicolas Batum",
          "Miles Bridges",
          "Michael Kidd-Gilchrist",
          "Marvin Williams",
          "Malik Monk",
          "Kemba Walker",
          "Jeremy Lamb",
          "Frank Kaminsky",
          "Dwayne Bacon",
          "Devonte' Graham",
          "Cody Zeller"
         ],
         "legendgroup": "TEAM=CHA",
         "marker": {
          "color": "#00cc96",
          "size": [
           259,
           412,
           273,
           263,
           312,
           286,
           271,
           256,
           952,
           648,
           159,
           170,
           95,
           323
          ],
          "sizemode": "area",
          "sizeref": 3.1925,
          "symbol": "circle"
         },
         "mode": "markers",
         "name": "TEAM=CHA",
         "showlegend": true,
         "type": "scatter",
         "uid": "e5cd1fcf-4718-40e2-8ede-ef38a7769144",
         "x": [
          31.578947368421048,
          44.38502673796791,
          29.896907216494853,
          42.105263157894726,
          26.190476190476193,
          39.39393939393939,
          43.75,
          31.521739130434785,
          47.2,
          49.13793103448275,
          14.285714285714285,
          33.33333333333333,
          33.33333333333333,
          42.307692307692314
         ],
         "xaxis": "x",
         "y": [
          38.5,
          25.5,
          35.4,
          39.1,
          32.5,
          33.3,
          36.6,
          33,
          35.6,
          34.8,
          36,
          43.7,
          28.1,
          27.3
         ],
         "yaxis": "y"
        },
        {
         "hovertemplate": "<b>%{hovertext}</b><br><br>TEAM=TOR<br>2-point Field Goal Percentage=%{x}<br>3-point Filed Goal Percentage=%{y}<br>2FGA_x=%{marker.size}<extra></extra>",
         "hovertext": [
          "Serge Ibaka",
          "Patrick McCaw",
          "Pascal Siakam",
          "OG Anunoby",
          "Norman Powell",
          "Marc Gasol",
          "Lorenzo Brown",
          "Kyle Lowry",
          "Kawhi Leonard",
          "Jodie Meeks",
          "Jeremy Lin",
          "Fred VanVleet",
          "Danny Green",
          "Chris Boucher"
         ],
         "legendgroup": "TEAM=TOR",
         "marker": {
          "color": "#ab63fa",
          "size": [
           707,
           35,
           729,
           200,
           230,
           597,
           42,
           286,
           827,
           21,
           354,
           302,
           195,
           39
          ],
          "sizemode": "area",
          "sizeref": 3.1925,
          "symbol": "circle"
         },
         "mode": "markers",
         "name": "TEAM=TOR",
         "showlegend": true,
         "type": "scatter",
         "uid": "eb3da453-ceff-4745-aee9-a080d020daee",
         "x": [
          51.50501672240803,
          16.666666666666664,
          39.43661971830985,
          41.17647058823529,
          29.78723404255319,
          41.155234657039706,
          45.45454545454545,
          39.63963963963964,
          46.19047619047619,
          44.444444444444436,
          45.68965517241379,
          38.31775700934579,
          44.15584415584416,
          0
         ],
         "xaxis": "x",
         "y": [
          29,
          32.1,
          36.9,
          33.2,
          40,
          36.3,
          22.2,
          34.7,
          37.1,
          44.4,
          29.4,
          37.8,
          45.5,
          32.4
         ],
         "yaxis": "y"
        },
        {
         "hovertemplate": "<b>%{hovertext}</b><br><br>TEAM=MIA<br>2-point Field Goal Percentage=%{x}<br>3-point Filed Goal Percentage=%{y}<br>2FGA_x=%{marker.size}<extra></extra>",
         "hovertext": [
          "Ryan Anderson",
          "Kelly Olynyk",
          "Justise Winslow",
          "Josh Richardson",
          "James Johnson",
          "Hassan Whiteside",
          "Goran Dragic",
          "Dwyane Wade",
          "Dion Waiters",
          "Derrick Jones Jr.",
          "Bam Adebayo"
         ],
         "legendgroup": "TEAM=MIA",
         "marker": {
          "color": "#19d3f3",
          "size": [
           29,
           245,
           493,
           567,
           230,
           664,
           269,
           698,
           190,
           234,
           471
          ],
          "sizemode": "area",
          "sizeref": 3.1925,
          "symbol": "circle"
         },
         "mode": "markers",
         "name": "TEAM=MIA",
         "showlegend": true,
         "type": "scatter",
         "uid": "f38b08a6-fcb5-4d82-bddc-8eab5ee6c9d4",
         "x": [
          33.33333333333333,
          35.714285714285715,
          40.31007751937985,
          45.353159851301115,
          30.232558139534877,
          35.443037974683534,
          35.483870967741936,
          37.95379537953795,
          36.53846153846153,
          28.57142857142857,
          37.837837837837846
         ],
         "xaxis": "x",
         "y": [
          22.5,
          35.4,
          37.5,
          35.7,
          33.6,
          12.5,
          35,
          33.1,
          37.7,
          30.8,
          20
         ],
         "yaxis": "y"
        },
        {
         "hovertemplate": "<b>%{hovertext}</b><br><br>TEAM=CLE<br>2-point Field Goal Percentage=%{x}<br>3-point Filed Goal Percentage=%{y}<br>2FGA_x=%{marker.size}<extra></extra>",
         "hovertext": [
          "Nik Stauskas",
          "Matthew Dellavedova",
          "Marquese Chriss",
          "Larry Nance Jr.",
          "Kevin Love",
          "Jordan Clarkson",
          "John Henson",
          "Jaron Blossomgame",
          "Jalen Jones",
          "David Nwaba",
          "Collin Sexton",
          "Channing Frye",
          "Cedi Osman",
          "Cameron Payne",
          "Brandon Knight"
         ],
         "legendgroup": "TEAM=CLE",
         "marker": {
          "color": "#e763fa",
          "size": [
           149,
           112,
           106,
           372,
           136,
           723,
           36,
           68,
           34,
           185,
           899,
           37,
           462,
           139,
           127
          ],
          "sizemode": "area",
          "sizeref": 3.1925,
          "symbol": "circle"
         },
         "mode": "markers",
         "name": "TEAM=CLE",
         "showlegend": true,
         "type": "scatter",
         "uid": "654f2cdd-5a0b-4031-a185-f6a1937440e6",
         "x": [
          42.647058823529406,
          40,
          33.33333333333333,
          31.50684931506849,
          30.232558139534877,
          49.236641221374036,
          null,
          30,
          0,
          46.66666666666666,
          38.97911832946635,
          19.047619047619047,
          37.06293706293707,
          40.384615384615394,
          41.66666666666667
         ],
         "xaxis": "x",
         "y": [
          37.2,
          33.8,
          22.5,
          34.4,
          36.1,
          32.4,
          35.5,
          25.6,
          35.7,
          32.4,
          40.3,
          40.5,
          34.7,
          29.8,
          32.5
         ],
         "yaxis": "y"
        },
        {
         "hovertemplate": "<b>%{hovertext}</b><br><br>TEAM=NYK<br>2-point Field Goal Percentage=%{x}<br>3-point Filed Goal Percentage=%{y}<br>2FGA_x=%{marker.size}<extra></extra>",
         "hovertext": [
          "Noah Vonleh",
          "Mario Hezonja",
          "Luke Kornet",
          "Lance Thomas",
          "Kevin Knox",
          "Kadeem Allen",
          "Henry Ellenson",
          "Frank Ntilikina",
          "Emmanuel Mudiay",
          "Dennis Smith Jr.",
          "Damyean Dotson",
          "Allonzo Trier"
         ],
         "legendgroup": "TEAM=NYK",
         "marker": {
          "color": "#fecb52",
          "size": [
           289,
           305,
           85,
           118,
           543,
           104,
           57,
           160,
           508,
           442,
           351,
           378
          ],
          "sizemode": "area",
          "sizeref": 3.1925,
          "symbol": "circle"
         },
         "mode": "markers",
         "name": "TEAM=NYK",
         "showlegend": true,
         "type": "scatter",
         "uid": "e3c309a8-21f3-4870-a8f1-e33658c49725",
         "x": [
          31.03448275862069,
          46.59090909090909,
          30.76923076923077,
          42.5925925925926,
          32.27272727272727,
          33.33333333333333,
          33.33333333333333,
          37.078651685393254,
          47.16157205240175,
          35.25179856115108,
          42.71844660194174,
          37.41935483870968
         ],
         "xaxis": "x",
         "y": [
          33.8,
          27.8,
          35.3,
          27.8,
          35.1,
          47.2,
          44.7,
          28.6,
          32.7,
          32.2,
          36.4,
          39.2
         ],
         "yaxis": "y"
        },
        {
         "hovertemplate": "<b>%{hovertext}</b><br><br>TEAM=BKN<br>2-point Field Goal Percentage=%{x}<br>3-point Filed Goal Percentage=%{y}<br>2FGA_x=%{marker.size}<extra></extra>",
         "hovertext": [
          "Treveon Graham",
          "Theo Pinson",
          "Spencer Dinwiddie",
          "Shabazz Napier",
          "Rondae Hollis-Jefferson",
          "Rodions Kurucs",
          "Joe Harris",
          "Jarrett Allen",
          "Jared Dudley",
          "DeMarre Carroll",
          "D'Angelo Russell",
          "Caris LeVert",
          "Allen Crabbe"
         ],
         "legendgroup": "TEAM=BKN",
         "marker": {
          "color": "#ffa15a",
          "size": [
           63,
           27,
           458,
           207,
           438,
           265,
           362,
           522,
           88,
           263,
           882,
           329,
           114
          ],
          "sizemode": "area",
          "sizeref": 3.1925,
          "symbol": "circle"
         },
         "mode": "markers",
         "name": "TEAM=BKN",
         "showlegend": true,
         "type": "scatter",
         "uid": "3b651e25-d591-4a9b-97c2-b634b7092e0a",
         "x": [
          35,
          20,
          41.02564102564102,
          39.02439024390244,
          27.631578947368425,
          27.777777777777782,
          40.81632653061224,
          0,
          59.09090909090909,
          33.33333333333333,
          45.515695067264566,
          31.944444444444446,
          26.66666666666667
         ],
         "xaxis": "x",
         "y": [
          29.7,
          26.1,
          33.5,
          33.3,
          18.4,
          31.5,
          47.4,
          13.3,
          35.1,
          33.9,
          36.9,
          31.2,
          37.8
         ],
         "yaxis": "y"
        },
        {
         "hovertemplate": "<b>%{hovertext}</b><br><br>TEAM=DEN<br>2-point Field Goal Percentage=%{x}<br>3-point Filed Goal Percentage=%{y}<br>2FGA_x=%{marker.size}<extra></extra>",
         "hovertext": [
          "Will Barton",
          "Trey Lyles",
          "Torrey Craig",
          "Paul Millsap",
          "Nikola Jokic",
          "Monte Morris",
          "Malik Beasley",
          "Juancho Hernangomez",
          "Jamal Murray",
          "Isaiah Thomas",
          "Gary Harris"
         ],
         "legendgroup": "TEAM=DEN",
         "marker": {
          "color": "#ff6692",
          "size": [
           258,
           292,
           173,
           497,
           934,
           471,
           330,
           132,
           753,
           52,
           386
          ],
          "sizemode": "area",
          "sizeref": 3.1925,
          "symbol": "circle"
         },
         "mode": "markers",
         "name": "TEAM=DEN",
         "showlegend": true,
         "type": "scatter",
         "uid": "7d6ea1c8-b0c8-43be-8c86-41cd35bfb445",
         "x": [
          36.36363636363637,
          37.662337662337656,
          25,
          38.532110091743114,
          43.5897435897436,
          49.785407725321896,
          43.47826086956522,
          66.66666666666666,
          44.21593830334189,
          38.46153846153847,
          37.903225806451616
         ],
         "xaxis": "x",
         "y": [
          33.5,
          24.9,
          32.8,
          36.9,
          30.9,
          41.5,
          40.3,
          36.5,
          36.9,
          30,
          33.9
         ],
         "yaxis": "y"
        },
        {
         "hovertemplate": "<b>%{hovertext}</b><br><br>TEAM=LAL<br>2-point Field Goal Percentage=%{x}<br>3-point Filed Goal Percentage=%{y}<br>2FGA_x=%{marker.size}<extra></extra>",
         "hovertext": [
          "Reggie Bullock",
          "Rajon Rondo",
          "Moritz Wagner",
          "Mike Muscala",
          "Michael Beasley",
          "Lonzo Ball",
          "LeBron James",
          "Lance Stephenson",
          "Kyle Kuzma",
          "Kentavious Caldwell-Pope",
          "Josh Hart",
          "JaVale McGee",
          "Brandon Ingram",
          "Alex Caruso"
         ],
         "legendgroup": "TEAM=LAL",
         "marker": {
          "color": "#b6e880",
          "size": [
           199,
           286,
           88,
           101,
           136,
           228,
           757,
           234,
           665,
           320,
           188,
           616,
           633,
           117
          ],
          "sizemode": "area",
          "sizeref": 3.1925,
          "symbol": "circle"
         },
         "mode": "markers",
         "name": "TEAM=LAL",
         "showlegend": true,
         "type": "scatter",
         "uid": "8f51eb10-13bb-418f-b204-1d1b50023d8d",
         "x": [
          46.31578947368421,
          32.87671232876712,
          33.33333333333333,
          46.66666666666666,
          39.285714285714285,
          28.846153846153847,
          41.592920353982294,
          38.46153846153847,
          40.27777777777778,
          46.103896103896105,
          22.222222222222218,
          32.75862068965517,
          43.01075268817203,
          24.13793103448276
         ],
         "xaxis": "x",
         "y": [
          37.9,
          36.7,
          27.4,
          35.3,
          17.6,
          32.9,
          34,
          37.3,
          30.3,
          34.7,
          33.5,
          8.3,
          33,
          50
         ],
         "yaxis": "y"
        }
       ],
       "layout": {
        "grid": {
         "xaxes": [
          "x"
         ],
         "xgap": 0.1,
         "xside": "bottom",
         "yaxes": [
          "y"
         ],
         "ygap": 0.1,
         "yside": "left"
        },
        "height": 600,
        "legend": {
         "tracegroupgap": 0
        },
        "margin": {
         "t": 60
        },
        "template": {
         "data": {
          "bar": [
           {
            "marker": {
             "line": {
              "color": "#E5ECF6",
              "width": 0.5
             }
            },
            "type": "bar"
           }
          ],
          "barpolar": [
           {
            "marker": {
             "line": {
              "color": "#E5ECF6",
              "width": 0.5
             }
            },
            "type": "barpolar"
           }
          ],
          "carpet": [
           {
            "aaxis": {
             "endlinecolor": "#2a3f5f",
             "gridcolor": "white",
             "linecolor": "white",
             "minorgridcolor": "white",
             "startlinecolor": "#2a3f5f"
            },
            "baxis": {
             "endlinecolor": "#2a3f5f",
             "gridcolor": "white",
             "linecolor": "white",
             "minorgridcolor": "white",
             "startlinecolor": "#2a3f5f"
            },
            "type": "carpet"
           }
          ],
          "choropleth": [
           {
            "colorbar": {
             "outlinewidth": 0,
             "ticks": ""
            },
            "type": "choropleth"
           }
          ],
          "contour": [
           {
            "autocolorscale": true,
            "colorbar": {
             "outlinewidth": 0,
             "ticks": ""
            },
            "type": "contour"
           }
          ],
          "contourcarpet": [
           {
            "colorbar": {
             "outlinewidth": 0,
             "ticks": ""
            },
            "type": "contourcarpet"
           }
          ],
          "heatmap": [
           {
            "autocolorscale": true,
            "colorbar": {
             "outlinewidth": 0,
             "ticks": ""
            },
            "type": "heatmap"
           }
          ],
          "heatmapgl": [
           {
            "colorbar": {
             "outlinewidth": 0,
             "ticks": ""
            },
            "type": "heatmapgl"
           }
          ],
          "histogram": [
           {
            "marker": {
             "colorbar": {
              "outlinewidth": 0,
              "ticks": ""
             }
            },
            "type": "histogram"
           }
          ],
          "histogram2d": [
           {
            "autocolorscale": true,
            "colorbar": {
             "outlinewidth": 0,
             "ticks": ""
            },
            "type": "histogram2d"
           }
          ],
          "histogram2dcontour": [
           {
            "autocolorscale": true,
            "colorbar": {
             "outlinewidth": 0,
             "ticks": ""
            },
            "type": "histogram2dcontour"
           }
          ],
          "mesh3d": [
           {
            "colorbar": {
             "outlinewidth": 0,
             "ticks": ""
            },
            "type": "mesh3d"
           }
          ],
          "parcoords": [
           {
            "line": {
             "colorbar": {
              "outlinewidth": 0,
              "ticks": ""
             }
            },
            "type": "parcoords"
           }
          ],
          "scatter": [
           {
            "marker": {
             "colorbar": {
              "outlinewidth": 0,
              "ticks": ""
             }
            },
            "type": "scatter"
           }
          ],
          "scatter3d": [
           {
            "marker": {
             "colorbar": {
              "outlinewidth": 0,
              "ticks": ""
             }
            },
            "type": "scatter3d"
           }
          ],
          "scattercarpet": [
           {
            "marker": {
             "colorbar": {
              "outlinewidth": 0,
              "ticks": ""
             }
            },
            "type": "scattercarpet"
           }
          ],
          "scattergeo": [
           {
            "marker": {
             "colorbar": {
              "outlinewidth": 0,
              "ticks": ""
             }
            },
            "type": "scattergeo"
           }
          ],
          "scattergl": [
           {
            "marker": {
             "colorbar": {
              "outlinewidth": 0,
              "ticks": ""
             }
            },
            "type": "scattergl"
           }
          ],
          "scattermapbox": [
           {
            "marker": {
             "colorbar": {
              "outlinewidth": 0,
              "ticks": ""
             }
            },
            "type": "scattermapbox"
           }
          ],
          "scatterpolar": [
           {
            "marker": {
             "colorbar": {
              "outlinewidth": 0,
              "ticks": ""
             }
            },
            "type": "scatterpolar"
           }
          ],
          "scatterpolargl": [
           {
            "marker": {
             "colorbar": {
              "outlinewidth": 0,
              "ticks": ""
             }
            },
            "type": "scatterpolargl"
           }
          ],
          "scatterternary": [
           {
            "marker": {
             "colorbar": {
              "outlinewidth": 0,
              "ticks": ""
             }
            },
            "type": "scatterternary"
           }
          ],
          "surface": [
           {
            "colorbar": {
             "outlinewidth": 0,
             "ticks": ""
            },
            "type": "surface"
           }
          ],
          "table": [
           {
            "cells": {
             "fill": {
              "color": "#EBF0F8"
             },
             "line": {
              "color": "white"
             }
            },
            "header": {
             "fill": {
              "color": "#C8D4E3"
             },
             "line": {
              "color": "white"
             }
            },
            "type": "table"
           }
          ]
         },
         "layout": {
          "annotationdefaults": {
           "arrowcolor": "#506784",
           "arrowhead": 0,
           "arrowwidth": 1
          },
          "colorscale": {
           "diverging": [
            [
             0,
             "#8e0152"
            ],
            [
             0.1,
             "#c51b7d"
            ],
            [
             0.2,
             "#de77ae"
            ],
            [
             0.3,
             "#f1b6da"
            ],
            [
             0.4,
             "#fde0ef"
            ],
            [
             0.5,
             "#f7f7f7"
            ],
            [
             0.6,
             "#e6f5d0"
            ],
            [
             0.7,
             "#b8e186"
            ],
            [
             0.8,
             "#7fbc41"
            ],
            [
             0.9,
             "#4d9221"
            ],
            [
             1,
             "#276419"
            ]
           ],
           "sequential": [
            [
             0,
             "#0508b8"
            ],
            [
             0.0893854748603352,
             "#1910d8"
            ],
            [
             0.1787709497206704,
             "#3c19f0"
            ],
            [
             0.2681564245810056,
             "#6b1cfb"
            ],
            [
             0.3575418994413408,
             "#981cfd"
            ],
            [
             0.44692737430167595,
             "#bf1cfd"
            ],
            [
             0.5363128491620112,
             "#dd2bfd"
            ],
            [
             0.6256983240223464,
             "#f246fe"
            ],
            [
             0.7150837988826816,
             "#fc67fd"
            ],
            [
             0.8044692737430168,
             "#fe88fc"
            ],
            [
             0.8938547486033519,
             "#fea5fd"
            ],
            [
             0.9832402234636871,
             "#febefe"
            ],
            [
             1,
             "#fec3fe"
            ]
           ],
           "sequentialminus": [
            [
             0,
             "#0508b8"
            ],
            [
             0.0893854748603352,
             "#1910d8"
            ],
            [
             0.1787709497206704,
             "#3c19f0"
            ],
            [
             0.2681564245810056,
             "#6b1cfb"
            ],
            [
             0.3575418994413408,
             "#981cfd"
            ],
            [
             0.44692737430167595,
             "#bf1cfd"
            ],
            [
             0.5363128491620112,
             "#dd2bfd"
            ],
            [
             0.6256983240223464,
             "#f246fe"
            ],
            [
             0.7150837988826816,
             "#fc67fd"
            ],
            [
             0.8044692737430168,
             "#fe88fc"
            ],
            [
             0.8938547486033519,
             "#fea5fd"
            ],
            [
             0.9832402234636871,
             "#febefe"
            ],
            [
             1,
             "#fec3fe"
            ]
           ]
          },
          "colorway": [
           "#636efa",
           "#EF553B",
           "#00cc96",
           "#ab63fa",
           "#19d3f3",
           "#e763fa",
           "#FECB52",
           "#FFA15A",
           "#FF6692",
           "#B6E880"
          ],
          "font": {
           "color": "#2a3f5f"
          },
          "geo": {
           "bgcolor": "white",
           "lakecolor": "white",
           "landcolor": "#E5ECF6",
           "showlakes": true,
           "showland": true,
           "subunitcolor": "white"
          },
          "hovermode": "closest",
          "mapbox": {
           "style": "light"
          },
          "paper_bgcolor": "white",
          "plot_bgcolor": "#E5ECF6",
          "polar": {
           "angularaxis": {
            "gridcolor": "white",
            "linecolor": "white",
            "ticks": ""
           },
           "bgcolor": "#E5ECF6",
           "radialaxis": {
            "gridcolor": "white",
            "linecolor": "white",
            "ticks": ""
           }
          },
          "scene": {
           "xaxis": {
            "backgroundcolor": "#E5ECF6",
            "gridcolor": "white",
            "gridwidth": 2,
            "linecolor": "white",
            "showbackground": true,
            "ticks": "",
            "zerolinecolor": "white"
           },
           "yaxis": {
            "backgroundcolor": "#E5ECF6",
            "gridcolor": "white",
            "gridwidth": 2,
            "linecolor": "white",
            "showbackground": true,
            "ticks": "",
            "zerolinecolor": "white"
           },
           "zaxis": {
            "backgroundcolor": "#E5ECF6",
            "gridcolor": "white",
            "gridwidth": 2,
            "linecolor": "white",
            "showbackground": true,
            "ticks": "",
            "zerolinecolor": "white"
           }
          },
          "shapedefaults": {
           "fillcolor": "#506784",
           "line": {
            "width": 0
           },
           "opacity": 0.4
          },
          "ternary": {
           "aaxis": {
            "gridcolor": "white",
            "linecolor": "white",
            "ticks": ""
           },
           "baxis": {
            "gridcolor": "white",
            "linecolor": "white",
            "ticks": ""
           },
           "bgcolor": "#E5ECF6",
           "caxis": {
            "gridcolor": "white",
            "linecolor": "white",
            "ticks": ""
           }
          },
          "title": {
           "x": 0.05
          },
          "xaxis": {
           "automargin": true,
           "gridcolor": "white",
           "linecolor": "white",
           "ticks": "",
           "zerolinecolor": "white",
           "zerolinewidth": 2
          },
          "yaxis": {
           "automargin": true,
           "gridcolor": "white",
           "linecolor": "white",
           "ticks": "",
           "zerolinecolor": "white",
           "zerolinewidth": 2
          }
         }
        },
        "xaxis": {
         "range": [
          20,
          60
         ],
         "title": {
          "text": "2-point Field Goal Percentage"
         }
        },
        "yaxis": {
         "range": [
          20,
          60
         ],
         "title": {
          "text": "3-point Filed Goal Percentage"
         }
        }
       }
      },
      "text/html": [
       "<div id=\"7f36bd7d-f774-49da-aa8d-9cf847e1a98b\" style=\"height: 600px; width: 100%;\" class=\"plotly-graph-div\"></div><script type=\"text/javascript\">require([\"plotly\"], function(Plotly) { window.PLOTLYENV=window.PLOTLYENV || {};window.PLOTLYENV.BASE_URL=\"https://plot.ly\";\n",
       "if (document.getElementById(\"7f36bd7d-f774-49da-aa8d-9cf847e1a98b\")) {\n",
       "    Plotly.newPlot(\"7f36bd7d-f774-49da-aa8d-9cf847e1a98b\", [{\"marker\": {\"sizemode\": \"area\", \"size\": [202, 54, 333, 609, 585, 105, 867, 79, 710, 491, 306], \"color\": \"#636efa\", \"symbol\": \"circle\", \"sizeref\": 3.1925}, \"type\": \"scatter\", \"legendgroup\": \"TEAM=SAC\", \"hovertext\": [\"Yogi Ferrell\", \"Troy Williams\", \"Nemanja Bjelica\", \"Marvin Bagley III\", \"Harrison Barnes\", \"Frank Mason\", \"De'Aaron Fox\", \"Corey Brewer\", \"Buddy Hield\", \"Bogdan Bogdanovic\", \"Alec Burks\"], \"name\": \"TEAM=SAC\", \"x\": [47.16981132075472, 16.666666666666664, 38.23529411764706, 40.44117647058824, 31.86813186813186, 42.105263157894726, 36.36363636363637, 18.181818181818183, 41.88034188034188, 41.12149532710279, 27.27272727272727], \"yaxis\": \"y\", \"xaxis\": \"x\", \"showlegend\": true, \"y\": [36.2, 31.8, 40.1, 31.3, 39.5, 21.9, 37.1, 31.8, 42.7, 36.0, 36.3], \"mode\": \"markers\", \"hovertemplate\": \"<b>%{hovertext}</b><br><br>TEAM=SAC<br>2-point Field Goal Percentage=%{x}<br>3-point Filed Goal Percentage=%{y}<br>2FGA_x=%{marker.size}<extra></extra>\", \"uid\": \"110ededb-afef-4b38-8763-32087d5112a7\"}, {\"marker\": {\"sizemode\": \"area\", \"size\": [225, 77, 121, 893, 796, 33, 181, 278, 307, 356, 120, 91, 881, 28], \"color\": \"#EF553B\", \"symbol\": \"circle\", \"sizeref\": 3.1925}, \"type\": \"scatter\", \"legendgroup\": \"TEAM=NOP\", \"hovertext\": [\"Stanley Johnson\", \"Solomon Hill\", \"Kenrich Williams\", \"Julius Randle\", \"Jrue Holiday\", \"Jason Smith\", \"Ian Clark\", \"Frank Jackson\", \"Elfrid Payton\", \"E'Twaun Moore\", \"Darius Miller\", \"Christian Wood\", \"Anthony Davis\", \"Andrew Harrison\"], \"name\": \"TEAM=NOP\", \"x\": [36.95652173913043, 35.29411764705883, 26.08695652173913, 38.613861386138616, 41.474654377880185, 25.0, 39.325842696629216, 33.33333333333333, 43.75, 42.735042735042725, 40.90909090909091, 53.33333333333334, 37.676056338028175, 20.0], \"yaxis\": \"y\", \"xaxis\": \"x\", \"showlegend\": true, \"y\": [28.8, 31.7, 33.3, 34.4, 32.5, 34.6, 32.7, 31.2, 31.7, 43.2, 36.5, 34.6, 33.1, 20.0], \"mode\": \"markers\", \"hovertemplate\": \"<b>%{hovertext}</b><br><br>TEAM=NOP<br>2-point Field Goal Percentage=%{x}<br>3-point Filed Goal Percentage=%{y}<br>2FGA_x=%{marker.size}<extra></extra>\", \"uid\": \"d5fa50ba-4495-478f-98ee-9b09d26b2325\"}, {\"marker\": {\"sizemode\": \"area\", \"size\": [136, 240, 881, 173, 136, 13, 338, 74, 363, 57, 245], \"color\": \"#00cc96\", \"symbol\": \"circle\", \"sizeref\": 3.1925}, \"type\": \"scatter\", \"legendgroup\": \"TEAM=HOU\", \"hovertext\": [\"PJ Tucker\", \"Kenneth Faried\", \"James Harden\", \"Iman Shumpert\", \"Gerald Green\", \"Gary Clark\", \"Eric Gordon\", \"Danuel House Jr.\", \"Chris Paul\", \"Carmelo Anthony\", \"Austin Rivers\"], \"name\": \"TEAM=HOU\", \"x\": [21.428571428571427, 100.0, 42.22222222222222, 32.710280373831765, 40.42553191489361, null, 28.125, 33.33333333333333, 47.76785714285714, 44.11764705882353, 36.0], \"yaxis\": \"y\", \"xaxis\": \"x\", \"showlegend\": true, \"y\": [37.7, 32.0, 36.8, 34.8, 35.5, 29.7, 36.1, 41.6, 35.9, 32.8, 31.8], \"mode\": \"markers\", \"hovertemplate\": \"<b>%{hovertext}</b><br><br>TEAM=HOU<br>2-point Field Goal Percentage=%{x}<br>3-point Filed Goal Percentage=%{y}<br>2FGA_x=%{marker.size}<extra></extra>\", \"uid\": \"c22d6094-5d58-4796-9e6a-2ea8a83a1009\"}, {\"marker\": {\"sizemode\": \"area\", \"size\": [52, 161, 299, 359, 389, 183, 92, 383, 365, 544, 89, 96, 977, 419], \"color\": \"#ab63fa\", \"symbol\": \"circle\", \"sizeref\": 3.1925}, \"type\": \"scatter\", \"legendgroup\": \"TEAM=WAS\", \"hovertext\": [\"Wesley Johnson\", \"Troy Brown Jr.\", \"Trevor Ariza\", \"Tomas Satoransky\", \"Thomas Bryant\", \"Sam Dekker\", \"Jordan McRae\", \"John Wall\", \"Jeff Green\", \"Jabari Parker\", \"Ian Mahinmi\", \"Chasson Randle\", \"Bradley Beal\", \"Bobby Portis\"], \"name\": \"TEAM=WAS\", \"x\": [27.02702702702703, 30.612244897959183, 38.63636363636363, 37.38317757009346, 45.83333333333333, 32.0, 47.91666666666667, 38.970588235294116, 42.06349206349206, 38.69047619047619, 0.0, 16.666666666666664, 43.103448275862064, 36.206896551724135], \"yaxis\": \"y\", \"xaxis\": \"x\", \"showlegend\": true, \"y\": [32.9, 30.8, 33.6, 38.1, 34.7, 30.6, 29.4, 30.2, 35.0, 31.4, 18.8, 40.7, 35.3, 38.5], \"mode\": \"markers\", \"hovertemplate\": \"<b>%{hovertext}</b><br><br>TEAM=WAS<br>2-point Field Goal Percentage=%{x}<br>3-point Filed Goal Percentage=%{y}<br>2FGA_x=%{marker.size}<extra></extra>\", \"uid\": \"5c098269-36b5-4a01-8b4f-15e7ee07620a\"}, {\"marker\": {\"sizemode\": \"area\", \"size\": [152, 775, 279, 116, 304, 391, 80, 673, 36, 309, 444, 37, 58, 444], \"color\": \"#19d3f3\", \"symbol\": \"circle\", \"sizeref\": 3.1925}, \"type\": \"scatter\", \"legendgroup\": \"TEAM=ATL\", \"hovertext\": [\"Vince Carter\", \"Trae Young\", \"Taurean Prince\", \"Omari Spellman\", \"Kevin Huerter\", \"Kent Bazemore\", \"Justin Anderson\", \"John Collins\", \"Jaylen Adams\", \"Dewayne Dedmon\", \"DeAndre' Bembry\", \"Daniel Hamilton\", \"Alex Poythress\", \"Alex Len\"], \"name\": \"TEAM=ATL\", \"x\": [36.17021276595745, 41.24513618677042, 41.17647058823529, 37.5, 33.33333333333333, 36.0, 15.384615384615385, 31.147540983606557, 35.714285714285715, 32.6530612244898, 23.529411764705877, 16.666666666666664, 0.0, 29.032258064516128], \"yaxis\": \"y\", \"xaxis\": \"x\", \"showlegend\": true, \"y\": [38.9, 32.4, 39.0, 34.4, 38.4, 32.0, 31.2, 34.8, 33.8, 38.2, 28.9, 34.8, 39.1, 36.3], \"mode\": \"markers\", \"hovertemplate\": \"<b>%{hovertext}</b><br><br>TEAM=ATL<br>2-point Field Goal Percentage=%{x}<br>3-point Filed Goal Percentage=%{y}<br>2FGA_x=%{marker.size}<extra></extra>\", \"uid\": \"82e1e21f-fb62-48a3-abcf-4b337ade01b5\"}, {\"marker\": {\"sizemode\": \"area\", \"size\": [157, 160, 165, 81, 149, 224, 503, 674, 68, 1045, 223, 222, 595, 41, 122, 273, 18], \"color\": \"#e763fa\", \"symbol\": \"circle\", \"sizeref\": 3.1925}, \"type\": \"scatter\", \"legendgroup\": \"TEAM=MIL\", \"hovertext\": [\"Tony Snell\", \"Tim Frazier\", \"Sterling Brown\", \"Pau Gasol\", \"Pat Connaughton\", \"Nikola Mirotic\", \"Malcolm Brogdon\", \"Khris Middleton\", \"Isaiah Canaan\", \"Giannis Antetokounmpo\", \"George Hill\", \"Ersan Ilyasova\", \"Eric Bledsoe\", \"Donte DiVincenzo\", \"D.J. Wilson\", \"Brook Lopez\", \"Bonzie Colson\"], \"name\": \"TEAM=MIL\", \"x\": [28.57142857142857, 43.103448275862064, 42.105263157894726, 37.93103448275862, 43.75, 37.03703703703704, 33.87096774193548, 44.303797468354425, 58.82352941176471, 34.93975903614458, 47.435897435897424, 31.48148148148148, 37.373737373737384, 33.33333333333333, 35.135135135135144, 42.857142857142854, 33.33333333333333], \"yaxis\": \"y\", \"xaxis\": \"x\", \"showlegend\": true, \"y\": [39.7, 36.6, 36.1, 46.2, 33.0, 36.5, 42.6, 37.8, 35.4, 25.6, 31.4, 36.3, 32.9, 26.5, 36.2, 36.4, 23.8], \"mode\": \"markers\", \"hovertemplate\": \"<b>%{hovertext}</b><br><br>TEAM=MIL<br>2-point Field Goal Percentage=%{x}<br>3-point Filed Goal Percentage=%{y}<br>2FGA_x=%{marker.size}<extra></extra>\", \"uid\": \"4f095b32-4e00-44aa-8f48-749318b44127\"}, {\"marker\": {\"sizemode\": \"area\", \"size\": [195, 451, 1094, 164, 85, 141, 336, 106, 47, 104, 601, 358, 682], \"color\": \"#fecb52\", \"symbol\": \"circle\", \"sizeref\": 3.1925}, \"type\": \"scatter\", \"legendgroup\": \"TEAM=ORL\", \"hovertext\": [\"Wes Iwundu\", \"Terrence Ross\", \"Nikola Vucevic\", \"Mo Bamba\", \"Michael Carter-Williams\", \"Markelle Fultz\", \"Jonathan Isaac\", \"Jerian Grant\", \"Jarell Martin\", \"Isaiah Briscoe\", \"Evan Fournier\", \"D.J. Augustin\", \"Aaron Gordon\"], \"name\": \"TEAM=ORL\", \"x\": [36.231884057971016, 45.23809523809525, 43.07228915662651, 39.215686274509814, 20.0, 29.230769230769234, 34.57943925233645, 44.444444444444436, 30.434782608695656, 27.90697674418605, 42.213114754098356, 44.31818181818182, 37.333333333333336], \"yaxis\": \"y\", \"xaxis\": \"x\", \"showlegend\": true, \"y\": [36.7, 38.2, 36.0, 29.2, 26.3, 28.6, 32.3, 36.7, 35.1, 32.4, 34.3, 41.6, 34.8], \"mode\": \"markers\", \"hovertemplate\": \"<b>%{hovertext}</b><br><br>TEAM=ORL<br>2-point Field Goal Percentage=%{x}<br>3-point Filed Goal Percentage=%{y}<br>2FGA_x=%{marker.size}<extra></extra>\", \"uid\": \"20040f3b-5294-40c0-982f-30b51bc91a34\"}, {\"marker\": {\"sizemode\": \"area\", \"size\": [139, 1045, 74, 845, 81, 278, 525, 140, 55, 727, 30, 114], \"color\": \"#ffa15a\", \"symbol\": \"circle\", \"sizeref\": 3.1925}, \"type\": \"scatter\", \"legendgroup\": \"TEAM=OKC\", \"hovertext\": [\"Terrance Ferguson\", \"Russell Westbrook\", \"Raymond Felton\", \"Paul George\", \"Patrick Patterson\", \"Markieff Morris\", \"Jerami Grant\", \"Hamidou Diallo\", \"Deonte Burton\", \"Dennis Schroder\", \"Alex Abrines\", \"Abdel Nader\"], \"name\": \"TEAM=OKC\", \"x\": [25.71428571428571, 33.564814814814824, 45.65217391304348, 39.480519480519476, 36.0, 33.72093023255814, 38.23529411764706, 36.36363636363637, 41.66666666666667, 42.815249266862175, 50.0, 22.222222222222218], \"yaxis\": \"y\", \"xaxis\": \"x\", \"showlegend\": true, \"y\": [36.3, 29.1, 32.8, 38.5, 33.8, 33.5, 39.9, 16.7, 29.6, 33.8, 32.3, 31.3], \"mode\": \"markers\", \"hovertemplate\": \"<b>%{hovertext}</b><br><br>TEAM=OKC<br>2-point Field Goal Percentage=%{x}<br>3-point Filed Goal Percentage=%{y}<br>2FGA_x=%{marker.size}<extra></extra>\", \"uid\": \"b76187ec-44b2-43e4-bfa2-0f3d0c12acbe\"}, {\"marker\": {\"sizemode\": \"area\", \"size\": [388, 511, 78, 33, 168, 672, 239, 383, 257, 358, 274, 171, 147, 74], \"color\": \"#ff6692\", \"symbol\": \"circle\", \"sizeref\": 3.1925}, \"type\": \"scatter\", \"legendgroup\": \"TEAM=DAL\", \"hovertext\": [\"Trey Burke\", \"Tim Hardaway Jr.\", \"Salah Mejri\", \"Ryan Broekhoff\", \"Maxi Kleber\", \"Luka Doncic\", \"Justin Jackson\", \"Jalen Brunson\", \"J.J. Barea\", \"Dwight Powell\", \"Dorian Finney-Smith\", \"Dirk Nowitzki\", \"Devin Harris\", \"Courtney Lee\"], \"name\": \"TEAM=DAL\", \"x\": [41.43646408839779, 39.76377952755906, 0.0, 50.0, 47.61904761904761, 38.82978723404255, 36.263736263736256, 40.29850746268657, 48.5981308411215, 11.764705882352938, 28.2051282051282, 41.66666666666667, 26.66666666666667, 44.680851063829785], \"yaxis\": \"y\", \"xaxis\": \"x\", \"showlegend\": true, \"y\": [35.0, 33.8, 32.4, 40.4, 35.3, 32.6, 35.5, 34.8, 29.7, 30.7, 31.1, 31.2, 31.0, 29.1], \"mode\": \"markers\", \"hovertemplate\": \"<b>%{hovertext}</b><br><br>TEAM=DAL<br>2-point Field Goal Percentage=%{x}<br>3-point Filed Goal Percentage=%{y}<br>2FGA_x=%{marker.size}<extra></extra>\", \"uid\": \"bca54e79-c7ce-4942-a10a-7c9921ee8662\"}, {\"marker\": {\"sizemode\": \"area\", \"size\": [518, 238, 794, 988, 166, 37, 251, 269, 59, 158, 158], \"color\": \"#b6e880\", \"symbol\": \"circle\", \"sizeref\": 3.1925}, \"type\": \"scatter\", \"legendgroup\": \"TEAM=GSW\", \"hovertext\": [\"Stephen Curry\", \"Quinn Cook\", \"Klay Thompson\", \"Kevin Durant\", \"Jonas Jerebko\", \"Jacob Evans\", \"Draymond Green\", \"DeMarcus Cousins\", \"Damion Lee\", \"Andre Iguodala\", \"Alfonzo McKinnie\"], \"name\": \"TEAM=GSW\", \"x\": [44.600938967136145, 50.37593984962406, 45.45454545454545, 53.223140495867774, 51.06382978723404, 37.5, 36.53846153846153, 35.714285714285715, 47.058823529411754, 27.500000000000004, 38.095238095238095], \"yaxis\": \"y\", \"xaxis\": \"x\", \"showlegend\": true, \"y\": [43.2, 39.8, 40.5, 35.2, 36.4, 26.7, 27.7, 27.7, 39.7, 33.3, 35.9], \"mode\": \"markers\", \"hovertemplate\": \"<b>%{hovertext}</b><br><br>TEAM=GSW<br>2-point Field Goal Percentage=%{x}<br>3-point Filed Goal Percentage=%{y}<br>2FGA_x=%{marker.size}<extra></extra>\", \"uid\": \"30e75dba-489c-4762-ab8c-28231e431778\"}, {\"marker\": {\"sizemode\": \"area\", \"size\": [18, 860, 372, 43, 168, 238, 66, 922, 700, 138, 419, 101, 117], \"color\": \"#636efa\", \"symbol\": \"circle\", \"sizeref\": 3.1925}, \"type\": \"scatter\", \"legendgroup\": \"TEAM=PHI\", \"hovertext\": [\"Zhaire Smith\", \"Tobias Harris\", \"T.J. McConnell\", \"Shake Milton\", \"Mike Scott\", \"Jonathon Simmons\", \"Jonah Bolden\", \"Joel Embiid\", \"Jimmy Butler\", \"James Ennis III\", \"JJ Redick\", \"Furkan Korkmaz\", \"Amir Johnson\"], \"name\": \"TEAM=PHI\", \"x\": [20.0, 45.121951219512205, 49.308755760368655, 50.0, 41.07142857142857, 30.26315789473684, 44.444444444444436, 37.074829931972786, 35.273972602739725, 33.33333333333333, 48.48484848484848, 34.21052631578947, 60.0], \"yaxis\": \"y\", \"xaxis\": \"x\", \"showlegend\": true, \"y\": [37.5, 39.5, 32.6, 31.8, 40.1, 26.7, 35.1, 30.4, 35.5, 35.3, 39.7, 32.6, 30.0], \"mode\": \"markers\", \"hovertemplate\": \"<b>%{hovertext}</b><br><br>TEAM=PHI<br>2-point Field Goal Percentage=%{x}<br>3-point Filed Goal Percentage=%{y}<br>2FGA_x=%{marker.size}<extra></extra>\", \"uid\": \"86e04a96-86b1-4ca4-92a8-1d7647097215\"}, {\"marker\": {\"sizemode\": \"area\", \"size\": [328, 69, 221, 455, 807, 725, 516, 49, 406, 200, 66, 162, 520], \"color\": \"#EF553B\", \"symbol\": \"circle\", \"sizeref\": 3.1925}, \"type\": \"scatter\", \"legendgroup\": \"TEAM=BOS\", \"hovertext\": [\"Terry Rozier\", \"Semi Ojeleye\", \"Marcus Smart\", \"Marcus Morris\", \"Kyrie Irving\", \"Jayson Tatum\", \"Jaylen Brown\", \"Guerschon Yabusele\", \"Gordon Hayward\", \"Daniel Theis\", \"Brad Wanamaker\", \"Aron Baynes\", \"Al Horford\"], \"name\": \"TEAM=BOS\", \"x\": [34.58646616541353, 31.25, 36.36363636363637, 40.45454545454545, 49.43820224719101, 36.79525222551929, 42.94871794871795, 33.33333333333333, 42.934782608695656, 33.33333333333333, 37.03703703703704, 39.130434782608695, 53.201970443349765], \"yaxis\": \"y\", \"xaxis\": \"x\", \"showlegend\": true, \"y\": [35.3, 31.5, 36.4, 37.5, 40.1, 37.3, 34.4, 32.1, 33.3, 38.8, 41.0, 34.4, 36.0], \"mode\": \"markers\", \"hovertemplate\": \"<b>%{hovertext}</b><br><br>TEAM=BOS<br>2-point Field Goal Percentage=%{x}<br>3-point Filed Goal Percentage=%{y}<br>2FGA_x=%{marker.size}<extra></extra>\", \"uid\": \"2994aff9-7935-404c-b83a-0a55d4ccf53a\"}, {\"marker\": {\"sizemode\": \"area\", \"size\": [796, 333, 306, 101, 335, 196, 497, 27, 374, 459, 406, 39, 159, 31, 304], \"color\": \"#00cc96\", \"symbol\": \"circle\", \"sizeref\": 3.1925}, \"type\": \"scatter\", \"legendgroup\": \"TEAM=CHI\", \"hovertext\": [\"Zach LaVine\", \"Wendell Carter Jr.\", \"Wayne Selden\", \"Timothe Luwawu-Cabarrot\", \"Shaquille Harrison\", \"Ryan Arcidiacono\", \"Robin Lopez\", \"Rawle Alkins\", \"Otto Porter Jr.\", \"Lauri Markkanen\", \"Kris Dunn\", \"JaKarr Sampson\", \"Chandler Hutchison\", \"Brandon Sampson\", \"Antonio Blakeney\"], \"name\": \"TEAM=CHI\", \"x\": [34.801762114537446, 40.17857142857143, 42.735042735042725, 32.0, 18.421052631578945, 50.617283950617285, 34.693877551020414, 0.0, 40.72398190045249, 38.25503355704698, 38.285714285714285, 66.66666666666666, 31.25, 40.0, 34.054054054054056], \"yaxis\": \"y\", \"xaxis\": \"x\", \"showlegend\": true, \"y\": [37.2, 18.8, 31.4, 31.0, 27.0, 37.5, 22.6, 25.0, 40.7, 36.2, 34.7, 35.7, 28.0, 37.9, 39.1], \"mode\": \"markers\", \"hovertemplate\": \"<b>%{hovertext}</b><br><br>TEAM=CHI<br>2-point Field Goal Percentage=%{x}<br>3-point Filed Goal Percentage=%{y}<br>2FGA_x=%{marker.size}<extra></extra>\", \"uid\": \"8943f288-9c94-4993-8e7b-fe48872d132c\"}, {\"marker\": {\"sizemode\": \"area\", \"size\": [35, 132, 118, 694, 115, 242, 305, 489, 83, 448, 197, 82, 389, 88, 106, 95, 363], \"color\": \"#ab63fa\", \"symbol\": \"circle\", \"sizeref\": 3.1925}, \"type\": \"scatter\", \"legendgroup\": \"TEAM=MEM\", \"hovertext\": [\"Yuta Watanabe\", \"Tyler Dorsey\", \"Omri Casspi\", \"Mike Conley\", \"MarShon Brooks\", \"Kyle Anderson\", \"Justin Holiday\", \"Jonas Valanciunas\", \"Jevon Carter\", \"Jaren Jackson Jr.\", \"Ivan Rabb\", \"Dillon Brooks\", \"Delon Wright\", \"Chandler Parsons\", \"CJ Miles\", \"Bruno Caboclo\", \"Avery Bradley\"], \"name\": \"TEAM=MEM\", \"x\": [26.315789473684212, 37.5, 50.0, 42.40506329113924, 41.860465116279066, 43.90243902439025, 37.06293706293707, 40.54054054054054, 25.53191489361702, 33.33333333333333, 33.9622641509434, 29.16666666666667, 24.52830188679245, 36.111111111111114, 43.47826086956522, 75.0, 45.97156398104265], \"yaxis\": \"y\", \"xaxis\": \"x\", \"showlegend\": true, \"y\": [12.5, 33.3, 34.9, 36.4, 27.8, 26.5, 34.3, 29.2, 33.3, 35.9, 20.0, 37.5, 29.9, 30.1, 33.0, 36.9, 35.1], \"mode\": \"markers\", \"hovertemplate\": \"<b>%{hovertext}</b><br><br>TEAM=MEM<br>2-point Field Goal Percentage=%{x}<br>3-point Filed Goal Percentage=%{y}<br>2FGA_x=%{marker.size}<extra></extra>\", \"uid\": \"b7e1a8f6-7159-4419-bf5b-4c0a8a12ef8b\"}, {\"marker\": {\"sizemode\": \"area\", \"size\": [275, 36, 214, 435, 130, 267, 797, 243, 29, 390, 642, 889, 795, 34, 310], \"color\": \"#19d3f3\", \"symbol\": \"circle\", \"sizeref\": 3.1925}, \"type\": \"scatter\", \"legendgroup\": \"TEAM=POR\", \"hovertext\": [\"Zach Collins\", \"Skal Labissiere\", \"Seth Curry\", \"Rodney Hood\", \"Meyers Leonard\", \"Maurice Harkless\", \"Jusuf Nurkic\", \"Jake Layman\", \"Gary Trent Jr.\", \"Evan Turner\", \"Enes Kanter\", \"Damian Lillard\", \"CJ McCollum\", \"Anfernee Simons\", \"Al-Farouq Aminu\"], \"name\": \"TEAM=POR\", \"x\": [23.529411764705877, 57.14285714285714, 40.90909090909091, 44.897959183673464, 37.93103448275862, 28.57142857142857, 36.885245901639344, 40.90909090909091, 44.444444444444436, 43.47826086956522, 29.310344827586203, 45.251396648044704, 50.23148148148147, 46.66666666666666, 21.951219512195124], \"yaxis\": \"y\", \"xaxis\": \"x\", \"showlegend\": true, \"y\": [33.1, 46.2, 45.0, 35.6, 45.0, 27.5, 10.3, 32.6, 23.8, 21.2, 29.4, 36.9, 37.5, 34.5, 34.5], \"mode\": \"markers\", \"hovertemplate\": \"<b>%{hovertext}</b><br><br>TEAM=POR<br>2-point Field Goal Percentage=%{x}<br>3-point Filed Goal Percentage=%{y}<br>2FGA_x=%{marker.size}<extra></extra>\", \"uid\": \"651e3dd5-b3fa-4128-80db-2b4dc57aad5d\"}, {\"marker\": {\"sizemode\": \"area\", \"size\": [296, 372, 444, 695, 152, 584, 123, 37, 217, 685, 465, 377, 664, 135], \"color\": \"#e763fa\", \"symbol\": \"circle\", \"sizeref\": 3.1925}, \"type\": \"scatter\", \"legendgroup\": \"TEAM=IND\", \"hovertext\": [\"Wesley Matthews\", \"Victor Oladipo\", \"Tyreke Evans\", \"Thaddeus Young\", \"TJ Leaf\", \"Myles Turner\", \"Kyle O'Quinn\", \"Edmond Sumner\", \"Doug McDermott\", \"Domantas Sabonis\", \"Darren Collison\", \"Cory Joseph\", \"Bojan Bogdanovic\", \"Aaron Holiday\"], \"name\": \"TEAM=IND\", \"x\": [36.231884057971016, 44.22110552763819, 31.683168316831683, 22.41379310344828, 27.777777777777782, 43.11594202898551, 50.0, 50.0, 39.72602739726028, 37.671232876712324, 45.24714828897338, 41.17647058823529, 42.15686274509804, 37.68115942028986], \"yaxis\": \"y\", \"xaxis\": \"x\", \"showlegend\": true, \"y\": [37.2, 34.3, 35.6, 34.9, 25.8, 38.8, 8.3, 25.9, 40.8, 52.9, 40.7, 32.2, 42.5, 33.9], \"mode\": \"markers\", \"hovertemplate\": \"<b>%{hovertext}</b><br><br>TEAM=IND<br>2-point Field Goal Percentage=%{x}<br>3-point Filed Goal Percentage=%{y}<br>2FGA_x=%{marker.size}<extra></extra>\", \"uid\": \"c32f995b-010a-4e89-9675-d539cc23bcb5\"}, {\"marker\": {\"sizemode\": \"area\", \"size\": [320, 504, 137, 74, 90, 960, 293, 132, 311, 321, 607, 373, 27, 19, 44, 861], \"color\": \"#fecb52\", \"symbol\": \"circle\", \"sizeref\": 3.1925}, \"type\": \"scatter\", \"legendgroup\": \"TEAM=MIN\", \"hovertext\": [\"Tyus Jones\", \"Taj Gibson\", \"Robert Covington\", \"Luol Deng\", \"Keita Bates-Diop\", \"Karl-Anthony Towns\", \"Josh Okogie\", \"Jerryd Bayless\", \"Jeff Teague\", \"Gorgui Dieng\", \"Derrick Rose\", \"Dario Saric\", \"Cameron Reynolds\", \"C.J. Williams\", \"Anthony Tolliver\", \"Andrew Wiggins\"], \"name\": \"TEAM=MIN\", \"x\": [38.51351351351352, 45.45454545454545, 35.0, 31.578947368421048, 25.0, 39.77900552486189, 32.87671232876712, 37.333333333333336, 41.30434782608695, 47.25274725274725, 46.21212121212121, 29.347826086956523, 40.0, 85.71428571428571, 36.36363636363637, 32.887700534759354], \"yaxis\": \"y\", \"xaxis\": \"x\", \"showlegend\": true, \"y\": [31.7, 32.4, 37.8, 31.8, 25.0, 40.0, 27.9, 29.6, 33.3, 33.9, 37.0, 36.5, 41.2, 31.3, 37.7, 33.9], \"mode\": \"markers\", \"hovertemplate\": \"<b>%{hovertext}</b><br><br>TEAM=MIN<br>2-point Field Goal Percentage=%{x}<br>3-point Filed Goal Percentage=%{y}<br>2FGA_x=%{marker.size}<extra></extra>\", \"uid\": \"ea4b4442-f971-40a1-b44a-fb5bd10013f5\"}, {\"marker\": {\"sizemode\": \"area\", \"size\": [68, 167, 457, 100, 133, 309, 271, 79, 76, 983, 522, 174], \"color\": \"#ffa15a\", \"symbol\": \"circle\", \"sizeref\": 3.1925}, \"type\": \"scatter\", \"legendgroup\": \"TEAM=UTA\", \"hovertext\": [\"Thabo Sefolosha\", \"Royce O'Neale\", \"Ricky Rubio\", \"Raul Neto\", \"Kyle Korver\", \"Joe Ingles\", \"Jae Crowder\", \"Grayson Allen\", \"Georges Niang\", \"Donovan Mitchell\", \"Derrick Favors\", \"Dante Exum\"], \"name\": \"TEAM=UTA\", \"x\": [38.888888888888886, 26.66666666666667, 37.60683760683761, 37.5, 42.056074766355145, 35.0, 39.39393939393939, 35.714285714285715, 57.14285714285714, 43.04635761589404, 40.74074074074074, 33.33333333333333], \"yaxis\": \"y\", \"xaxis\": \"x\", \"showlegend\": true, \"y\": [43.6, 38.2, 32.0, 33.3, 40.2, 39.3, 32.8, 32.3, 41.0, 35.8, 21.8, 29.0], \"mode\": \"markers\", \"hovertemplate\": \"<b>%{hovertext}</b><br><br>TEAM=UTA<br>2-point Field Goal Percentage=%{x}<br>3-point Filed Goal Percentage=%{y}<br>2FGA_x=%{marker.size}<extra></extra>\", \"uid\": \"7d805d05-a9d7-4558-bc4f-6b166748f201\"}, {\"marker\": {\"sizemode\": \"area\", \"size\": [85, 115, 50, 576, 251, 206, 34, 63, 102, 355, 114, 222, 819, 1012], \"color\": \"#ff6692\", \"symbol\": \"circle\", \"sizeref\": 3.1925}, \"type\": \"scatter\", \"legendgroup\": \"TEAM=DET\", \"hovertext\": [\"Wayne Ellington\", \"Thon Maker\", \"Svi Mykhailiuk\", \"Reggie Jackson\", \"Luke Kennard\", \"Langston Galloway\", \"Khyri Thomas\", \"Jose Calderon\", \"Jon Leuer\", \"Ish Smith\", \"Glenn Robinson III\", \"Bruce Brown\", \"Blake Griffin\", \"Andre Drummond\"], \"name\": \"TEAM=DET\", \"x\": [42.105263157894726, 30.0, 27.27272727272727, 46.47302904564315, 42.857142857142854, 42.22222222222222, 23.529411764705877, 48.88888888888889, 48.387096774193544, 39.16083916083916, 48.64864864864865, 37.5, 26.548672566371685, 30.90909090909091], \"yaxis\": \"y\", \"xaxis\": \"x\", \"showlegend\": true, \"y\": [37.1, 32.0, 32.6, 36.9, 39.4, 35.4, 28.6, 24.6, 8.3, 32.6, 29.5, 25.8, 36.2, 13.2], \"mode\": \"markers\", \"hovertemplate\": \"<b>%{hovertext}</b><br><br>TEAM=DET<br>2-point Field Goal Percentage=%{x}<br>3-point Filed Goal Percentage=%{y}<br>2FGA_x=%{marker.size}<extra></extra>\", \"uid\": \"7e79ae86-cb06-48b3-9534-da70661159d4\"}, {\"marker\": {\"sizemode\": \"area\", \"size\": [266, 81, 431, 250, 503, 615, 236, 158, 96, 840, 161], \"color\": \"#b6e880\", \"symbol\": \"circle\", \"sizeref\": 3.1925}, \"type\": \"scatter\", \"legendgroup\": \"TEAM=PHX\", \"hovertext\": [\"Tyler Johnson\", \"Troy Daniels\", \"T.J. Warren\", \"Mikal Bridges\", \"Kelly Oubre Jr.\", \"Josh Jackson\", \"Jamal Crawford\", \"Elie Okobo\", \"Dragan Bender\", \"Devin Booker\", \"De'Anthony Melton\"], \"name\": \"TEAM=PHX\", \"x\": [27.058823529411764, 48.88888888888889, 37.142857142857146, 36.36363636363637, 49.29577464788733, 38.0, 45.3125, 29.09090909090909, 33.33333333333333, 47.8908188585608, 25.490196078431374], \"yaxis\": \"y\", \"xaxis\": \"x\", \"showlegend\": true, \"y\": [34.6, 38.1, 42.8, 33.5, 32.0, 32.4, 33.2, 29.5, 21.8, 32.6, 30.5], \"mode\": \"markers\", \"hovertemplate\": \"<b>%{hovertext}</b><br><br>TEAM=PHX<br>2-point Field Goal Percentage=%{x}<br>3-point Filed Goal Percentage=%{y}<br>2FGA_x=%{marker.size}<extra></extra>\", \"uid\": \"5f3945c3-3e0c-45c2-909f-466b7e2cdcfb\"}, {\"marker\": {\"sizemode\": \"area\", \"size\": [562, 40, 259, 295, 33, 1277, 401, 1268, 115, 93, 378], \"color\": \"#636efa\", \"symbol\": \"circle\", \"sizeref\": 3.1925}, \"type\": \"scatter\", \"legendgroup\": \"TEAM=SAS\", \"hovertext\": [\"Rudy Gay\", \"Quincy Pondexter\", \"Patty Mills\", \"Marco Belinelli\", \"Lonnie Walker IV\", \"LaMarcus Aldridge\", \"Derrick White\", \"DeMar DeRozan\", \"Davis Bertans\", \"Dante Cunningham\", \"Bryn Forbes\"], \"name\": \"TEAM=SAS\", \"x\": [52.208835341365464, 33.33333333333333, 35.97122302158273, 41.80790960451977, 20.0, 43.61370716510904, 47.58620689655172, 42.5925925925926, 42.307692307692314, 27.27272727272727, 46.11650485436893], \"yaxis\": \"y\", \"xaxis\": \"x\", \"showlegend\": true, \"y\": [40.2, 33.3, 39.4, 37.2, 38.5, 23.8, 33.8, 15.6, 42.9, 46.2, 42.6], \"mode\": \"markers\", \"hovertemplate\": \"<b>%{hovertext}</b><br><br>TEAM=SAS<br>2-point Field Goal Percentage=%{x}<br>3-point Filed Goal Percentage=%{y}<br>2FGA_x=%{marker.size}<extra></extra>\", \"uid\": \"20c50ad8-e7b3-44bc-8a3d-f20ad5497d4d\"}, {\"marker\": {\"sizemode\": \"area\", \"size\": [115, 198, 34, 577, 236, 194, 871, 845, 161, 53, 300, 228, 511], \"color\": \"#EF553B\", \"symbol\": \"circle\", \"sizeref\": 3.1925}, \"type\": \"scatter\", \"legendgroup\": \"TEAM=LAC\", \"hovertext\": [\"Wilson Chandler\", \"Tyrone Wallace\", \"Sindarius Thornwell\", \"Shai Gilgeous-Alexander\", \"Rodney McGruder\", \"Patrick Beverley\", \"Montrezl Harrell\", \"Lou Williams\", \"Landry Shamet\", \"Jerome Robinson\", \"JaMychal Green\", \"Garrett Temple\", \"Danilo Gallinari\"], \"name\": \"TEAM=LAC\", \"x\": [32.432432432432435, 45.94594594594595, 0.0, 43.62934362934364, 41.17647058823529, 34.375, 35.29411764705883, 42.25352112676056, 37.142857142857146, 50.0, 43.47826086956522, 36.25, 41.02564102564102], \"yaxis\": \"y\", \"xaxis\": \"x\", \"showlegend\": true, \"y\": [37.7, 21.1, 20.0, 36.7, 34.8, 39.9, 17.6, 36.0, 41.7, 31.6, 40.3, 34.1, 43.3], \"mode\": \"markers\", \"hovertemplate\": \"<b>%{hovertext}</b><br><br>TEAM=LAC<br>2-point Field Goal Percentage=%{x}<br>3-point Filed Goal Percentage=%{y}<br>2FGA_x=%{marker.size}<extra></extra>\", \"uid\": \"00132aac-b026-47cd-8bbc-fe830e403577\"}, {\"marker\": {\"sizemode\": \"area\", \"size\": [259, 412, 273, 263, 312, 286, 271, 256, 952, 648, 159, 170, 95, 323], \"color\": \"#00cc96\", \"symbol\": \"circle\", \"sizeref\": 3.1925}, \"type\": \"scatter\", \"legendgroup\": \"TEAM=CHA\", \"hovertext\": [\"Willy Hernangomez\", \"Tony Parker\", \"Shelvin Mack\", \"Nicolas Batum\", \"Miles Bridges\", \"Michael Kidd-Gilchrist\", \"Marvin Williams\", \"Malik Monk\", \"Kemba Walker\", \"Jeremy Lamb\", \"Frank Kaminsky\", \"Dwayne Bacon\", \"Devonte' Graham\", \"Cody Zeller\"], \"name\": \"TEAM=CHA\", \"x\": [31.578947368421048, 44.38502673796791, 29.896907216494853, 42.105263157894726, 26.190476190476193, 39.39393939393939, 43.75, 31.521739130434785, 47.2, 49.13793103448275, 14.285714285714285, 33.33333333333333, 33.33333333333333, 42.307692307692314], \"yaxis\": \"y\", \"xaxis\": \"x\", \"showlegend\": true, \"y\": [38.5, 25.5, 35.4, 39.1, 32.5, 33.3, 36.6, 33.0, 35.6, 34.8, 36.0, 43.7, 28.1, 27.3], \"mode\": \"markers\", \"hovertemplate\": \"<b>%{hovertext}</b><br><br>TEAM=CHA<br>2-point Field Goal Percentage=%{x}<br>3-point Filed Goal Percentage=%{y}<br>2FGA_x=%{marker.size}<extra></extra>\", \"uid\": \"e5cd1fcf-4718-40e2-8ede-ef38a7769144\"}, {\"marker\": {\"sizemode\": \"area\", \"size\": [707, 35, 729, 200, 230, 597, 42, 286, 827, 21, 354, 302, 195, 39], \"color\": \"#ab63fa\", \"symbol\": \"circle\", \"sizeref\": 3.1925}, \"type\": \"scatter\", \"legendgroup\": \"TEAM=TOR\", \"hovertext\": [\"Serge Ibaka\", \"Patrick McCaw\", \"Pascal Siakam\", \"OG Anunoby\", \"Norman Powell\", \"Marc Gasol\", \"Lorenzo Brown\", \"Kyle Lowry\", \"Kawhi Leonard\", \"Jodie Meeks\", \"Jeremy Lin\", \"Fred VanVleet\", \"Danny Green\", \"Chris Boucher\"], \"name\": \"TEAM=TOR\", \"x\": [51.50501672240803, 16.666666666666664, 39.43661971830985, 41.17647058823529, 29.78723404255319, 41.155234657039706, 45.45454545454545, 39.63963963963964, 46.19047619047619, 44.444444444444436, 45.68965517241379, 38.31775700934579, 44.15584415584416, 0.0], \"yaxis\": \"y\", \"xaxis\": \"x\", \"showlegend\": true, \"y\": [29.0, 32.1, 36.9, 33.2, 40.0, 36.3, 22.2, 34.7, 37.1, 44.4, 29.4, 37.8, 45.5, 32.4], \"mode\": \"markers\", \"hovertemplate\": \"<b>%{hovertext}</b><br><br>TEAM=TOR<br>2-point Field Goal Percentage=%{x}<br>3-point Filed Goal Percentage=%{y}<br>2FGA_x=%{marker.size}<extra></extra>\", \"uid\": \"eb3da453-ceff-4745-aee9-a080d020daee\"}, {\"marker\": {\"sizemode\": \"area\", \"size\": [29, 245, 493, 567, 230, 664, 269, 698, 190, 234, 471], \"color\": \"#19d3f3\", \"symbol\": \"circle\", \"sizeref\": 3.1925}, \"type\": \"scatter\", \"legendgroup\": \"TEAM=MIA\", \"hovertext\": [\"Ryan Anderson\", \"Kelly Olynyk\", \"Justise Winslow\", \"Josh Richardson\", \"James Johnson\", \"Hassan Whiteside\", \"Goran Dragic\", \"Dwyane Wade\", \"Dion Waiters\", \"Derrick Jones Jr.\", \"Bam Adebayo\"], \"name\": \"TEAM=MIA\", \"x\": [33.33333333333333, 35.714285714285715, 40.31007751937985, 45.353159851301115, 30.232558139534877, 35.443037974683534, 35.483870967741936, 37.95379537953795, 36.53846153846153, 28.57142857142857, 37.837837837837846], \"yaxis\": \"y\", \"xaxis\": \"x\", \"showlegend\": true, \"y\": [22.5, 35.4, 37.5, 35.7, 33.6, 12.5, 35.0, 33.1, 37.7, 30.8, 20.0], \"mode\": \"markers\", \"hovertemplate\": \"<b>%{hovertext}</b><br><br>TEAM=MIA<br>2-point Field Goal Percentage=%{x}<br>3-point Filed Goal Percentage=%{y}<br>2FGA_x=%{marker.size}<extra></extra>\", \"uid\": \"f38b08a6-fcb5-4d82-bddc-8eab5ee6c9d4\"}, {\"marker\": {\"sizemode\": \"area\", \"size\": [149, 112, 106, 372, 136, 723, 36, 68, 34, 185, 899, 37, 462, 139, 127], \"color\": \"#e763fa\", \"symbol\": \"circle\", \"sizeref\": 3.1925}, \"type\": \"scatter\", \"legendgroup\": \"TEAM=CLE\", \"hovertext\": [\"Nik Stauskas\", \"Matthew Dellavedova\", \"Marquese Chriss\", \"Larry Nance Jr.\", \"Kevin Love\", \"Jordan Clarkson\", \"John Henson\", \"Jaron Blossomgame\", \"Jalen Jones\", \"David Nwaba\", \"Collin Sexton\", \"Channing Frye\", \"Cedi Osman\", \"Cameron Payne\", \"Brandon Knight\"], \"name\": \"TEAM=CLE\", \"x\": [42.647058823529406, 40.0, 33.33333333333333, 31.50684931506849, 30.232558139534877, 49.236641221374036, null, 30.0, 0.0, 46.66666666666666, 38.97911832946635, 19.047619047619047, 37.06293706293707, 40.384615384615394, 41.66666666666667], \"yaxis\": \"y\", \"xaxis\": \"x\", \"showlegend\": true, \"y\": [37.2, 33.8, 22.5, 34.4, 36.1, 32.4, 35.5, 25.6, 35.7, 32.4, 40.3, 40.5, 34.7, 29.8, 32.5], \"mode\": \"markers\", \"hovertemplate\": \"<b>%{hovertext}</b><br><br>TEAM=CLE<br>2-point Field Goal Percentage=%{x}<br>3-point Filed Goal Percentage=%{y}<br>2FGA_x=%{marker.size}<extra></extra>\", \"uid\": \"654f2cdd-5a0b-4031-a185-f6a1937440e6\"}, {\"marker\": {\"sizemode\": \"area\", \"size\": [289, 305, 85, 118, 543, 104, 57, 160, 508, 442, 351, 378], \"color\": \"#fecb52\", \"symbol\": \"circle\", \"sizeref\": 3.1925}, \"type\": \"scatter\", \"legendgroup\": \"TEAM=NYK\", \"hovertext\": [\"Noah Vonleh\", \"Mario Hezonja\", \"Luke Kornet\", \"Lance Thomas\", \"Kevin Knox\", \"Kadeem Allen\", \"Henry Ellenson\", \"Frank Ntilikina\", \"Emmanuel Mudiay\", \"Dennis Smith Jr.\", \"Damyean Dotson\", \"Allonzo Trier\"], \"name\": \"TEAM=NYK\", \"x\": [31.03448275862069, 46.59090909090909, 30.76923076923077, 42.5925925925926, 32.27272727272727, 33.33333333333333, 33.33333333333333, 37.078651685393254, 47.16157205240175, 35.25179856115108, 42.71844660194174, 37.41935483870968], \"yaxis\": \"y\", \"xaxis\": \"x\", \"showlegend\": true, \"y\": [33.8, 27.8, 35.3, 27.8, 35.1, 47.2, 44.7, 28.6, 32.7, 32.2, 36.4, 39.2], \"mode\": \"markers\", \"hovertemplate\": \"<b>%{hovertext}</b><br><br>TEAM=NYK<br>2-point Field Goal Percentage=%{x}<br>3-point Filed Goal Percentage=%{y}<br>2FGA_x=%{marker.size}<extra></extra>\", \"uid\": \"e3c309a8-21f3-4870-a8f1-e33658c49725\"}, {\"marker\": {\"sizemode\": \"area\", \"size\": [63, 27, 458, 207, 438, 265, 362, 522, 88, 263, 882, 329, 114], \"color\": \"#ffa15a\", \"symbol\": \"circle\", \"sizeref\": 3.1925}, \"type\": \"scatter\", \"legendgroup\": \"TEAM=BKN\", \"hovertext\": [\"Treveon Graham\", \"Theo Pinson\", \"Spencer Dinwiddie\", \"Shabazz Napier\", \"Rondae Hollis-Jefferson\", \"Rodions Kurucs\", \"Joe Harris\", \"Jarrett Allen\", \"Jared Dudley\", \"DeMarre Carroll\", \"D'Angelo Russell\", \"Caris LeVert\", \"Allen Crabbe\"], \"name\": \"TEAM=BKN\", \"x\": [35.0, 20.0, 41.02564102564102, 39.02439024390244, 27.631578947368425, 27.777777777777782, 40.81632653061224, 0.0, 59.09090909090909, 33.33333333333333, 45.515695067264566, 31.944444444444446, 26.66666666666667], \"yaxis\": \"y\", \"xaxis\": \"x\", \"showlegend\": true, \"y\": [29.7, 26.1, 33.5, 33.3, 18.4, 31.5, 47.4, 13.3, 35.1, 33.9, 36.9, 31.2, 37.8], \"mode\": \"markers\", \"hovertemplate\": \"<b>%{hovertext}</b><br><br>TEAM=BKN<br>2-point Field Goal Percentage=%{x}<br>3-point Filed Goal Percentage=%{y}<br>2FGA_x=%{marker.size}<extra></extra>\", \"uid\": \"3b651e25-d591-4a9b-97c2-b634b7092e0a\"}, {\"marker\": {\"sizemode\": \"area\", \"size\": [258, 292, 173, 497, 934, 471, 330, 132, 753, 52, 386], \"color\": \"#ff6692\", \"symbol\": \"circle\", \"sizeref\": 3.1925}, \"type\": \"scatter\", \"legendgroup\": \"TEAM=DEN\", \"hovertext\": [\"Will Barton\", \"Trey Lyles\", \"Torrey Craig\", \"Paul Millsap\", \"Nikola Jokic\", \"Monte Morris\", \"Malik Beasley\", \"Juancho Hernangomez\", \"Jamal Murray\", \"Isaiah Thomas\", \"Gary Harris\"], \"name\": \"TEAM=DEN\", \"x\": [36.36363636363637, 37.662337662337656, 25.0, 38.532110091743114, 43.5897435897436, 49.785407725321896, 43.47826086956522, 66.66666666666666, 44.21593830334189, 38.46153846153847, 37.903225806451616], \"yaxis\": \"y\", \"xaxis\": \"x\", \"showlegend\": true, \"y\": [33.5, 24.9, 32.8, 36.9, 30.9, 41.5, 40.3, 36.5, 36.9, 30.0, 33.9], \"mode\": \"markers\", \"hovertemplate\": \"<b>%{hovertext}</b><br><br>TEAM=DEN<br>2-point Field Goal Percentage=%{x}<br>3-point Filed Goal Percentage=%{y}<br>2FGA_x=%{marker.size}<extra></extra>\", \"uid\": \"7d6ea1c8-b0c8-43be-8c86-41cd35bfb445\"}, {\"marker\": {\"sizemode\": \"area\", \"size\": [199, 286, 88, 101, 136, 228, 757, 234, 665, 320, 188, 616, 633, 117], \"color\": \"#b6e880\", \"symbol\": \"circle\", \"sizeref\": 3.1925}, \"type\": \"scatter\", \"legendgroup\": \"TEAM=LAL\", \"hovertext\": [\"Reggie Bullock\", \"Rajon Rondo\", \"Moritz Wagner\", \"Mike Muscala\", \"Michael Beasley\", \"Lonzo Ball\", \"LeBron James\", \"Lance Stephenson\", \"Kyle Kuzma\", \"Kentavious Caldwell-Pope\", \"Josh Hart\", \"JaVale McGee\", \"Brandon Ingram\", \"Alex Caruso\"], \"name\": \"TEAM=LAL\", \"x\": [46.31578947368421, 32.87671232876712, 33.33333333333333, 46.66666666666666, 39.285714285714285, 28.846153846153847, 41.592920353982294, 38.46153846153847, 40.27777777777778, 46.103896103896105, 22.222222222222218, 32.75862068965517, 43.01075268817203, 24.13793103448276], \"yaxis\": \"y\", \"xaxis\": \"x\", \"showlegend\": true, \"y\": [37.9, 36.7, 27.4, 35.3, 17.6, 32.9, 34.0, 37.3, 30.3, 34.7, 33.5, 8.3, 33.0, 50.0], \"mode\": \"markers\", \"hovertemplate\": \"<b>%{hovertext}</b><br><br>TEAM=LAL<br>2-point Field Goal Percentage=%{x}<br>3-point Filed Goal Percentage=%{y}<br>2FGA_x=%{marker.size}<extra></extra>\", \"uid\": \"8f51eb10-13bb-418f-b204-1d1b50023d8d\"}], {\"legend\": {\"tracegroupgap\": 0}, \"xaxis\": {\"title\": {\"text\": \"2-point Field Goal Percentage\"}, \"range\": [20, 60]}, \"height\": 600, \"yaxis\": {\"title\": {\"text\": \"3-point Filed Goal Percentage\"}, \"range\": [20, 60]}, \"margin\": {\"t\": 60}, \"grid\": {\"xgap\": 0.1, \"yside\": \"left\", \"xaxes\": [\"x\"], \"yaxes\": [\"y\"], \"xside\": \"bottom\", \"ygap\": 0.1}, \"template\": {\"data\": {\"scattercarpet\": [{\"marker\": {\"colorbar\": {\"ticks\": \"\", \"outlinewidth\": 0}}, \"type\": \"scattercarpet\"}], \"scattergl\": [{\"marker\": {\"colorbar\": {\"ticks\": \"\", \"outlinewidth\": 0}}, \"type\": \"scattergl\"}], \"heatmap\": [{\"type\": \"heatmap\", \"colorbar\": {\"outlinewidth\": 0, \"ticks\": \"\"}, \"autocolorscale\": true}], \"contourcarpet\": [{\"type\": \"contourcarpet\", \"colorbar\": {\"outlinewidth\": 0, \"ticks\": \"\"}}], \"heatmapgl\": [{\"type\": \"heatmapgl\", \"colorbar\": {\"outlinewidth\": 0, \"ticks\": \"\"}}], \"histogram\": [{\"marker\": {\"colorbar\": {\"ticks\": \"\", \"outlinewidth\": 0}}, \"type\": \"histogram\"}], \"scattergeo\": [{\"marker\": {\"colorbar\": {\"ticks\": \"\", \"outlinewidth\": 0}}, \"type\": \"scattergeo\"}], \"carpet\": [{\"aaxis\": {\"endlinecolor\": \"#2a3f5f\", \"gridcolor\": \"white\", \"minorgridcolor\": \"white\", \"linecolor\": \"white\", \"startlinecolor\": \"#2a3f5f\"}, \"baxis\": {\"endlinecolor\": \"#2a3f5f\", \"gridcolor\": \"white\", \"minorgridcolor\": \"white\", \"linecolor\": \"white\", \"startlinecolor\": \"#2a3f5f\"}, \"type\": \"carpet\"}], \"choropleth\": [{\"type\": \"choropleth\", \"colorbar\": {\"outlinewidth\": 0, \"ticks\": \"\"}}], \"scatterpolargl\": [{\"marker\": {\"colorbar\": {\"ticks\": \"\", \"outlinewidth\": 0}}, \"type\": \"scatterpolargl\"}], \"histogram2dcontour\": [{\"type\": \"histogram2dcontour\", \"colorbar\": {\"outlinewidth\": 0, \"ticks\": \"\"}, \"autocolorscale\": true}], \"scatter3d\": [{\"marker\": {\"colorbar\": {\"ticks\": \"\", \"outlinewidth\": 0}}, \"type\": \"scatter3d\"}], \"contour\": [{\"type\": \"contour\", \"colorbar\": {\"outlinewidth\": 0, \"ticks\": \"\"}, \"autocolorscale\": true}], \"barpolar\": [{\"marker\": {\"line\": {\"width\": 0.5, \"color\": \"#E5ECF6\"}}, \"type\": \"barpolar\"}], \"surface\": [{\"type\": \"surface\", \"colorbar\": {\"outlinewidth\": 0, \"ticks\": \"\"}}], \"mesh3d\": [{\"type\": \"mesh3d\", \"colorbar\": {\"outlinewidth\": 0, \"ticks\": \"\"}}], \"scatter\": [{\"marker\": {\"colorbar\": {\"ticks\": \"\", \"outlinewidth\": 0}}, \"type\": \"scatter\"}], \"parcoords\": [{\"type\": \"parcoords\", \"line\": {\"colorbar\": {\"ticks\": \"\", \"outlinewidth\": 0}}}], \"scatterternary\": [{\"marker\": {\"colorbar\": {\"ticks\": \"\", \"outlinewidth\": 0}}, \"type\": \"scatterternary\"}], \"scattermapbox\": [{\"marker\": {\"colorbar\": {\"ticks\": \"\", \"outlinewidth\": 0}}, \"type\": \"scattermapbox\"}], \"table\": [{\"type\": \"table\", \"header\": {\"fill\": {\"color\": \"#C8D4E3\"}, \"line\": {\"color\": \"white\"}}, \"cells\": {\"fill\": {\"color\": \"#EBF0F8\"}, \"line\": {\"color\": \"white\"}}}], \"scatterpolar\": [{\"marker\": {\"colorbar\": {\"ticks\": \"\", \"outlinewidth\": 0}}, \"type\": \"scatterpolar\"}], \"histogram2d\": [{\"type\": \"histogram2d\", \"colorbar\": {\"outlinewidth\": 0, \"ticks\": \"\"}, \"autocolorscale\": true}], \"bar\": [{\"marker\": {\"line\": {\"width\": 0.5, \"color\": \"#E5ECF6\"}}, \"type\": \"bar\"}]}, \"layout\": {\"geo\": {\"lakecolor\": \"white\", \"bgcolor\": \"white\", \"showland\": true, \"landcolor\": \"#E5ECF6\", \"subunitcolor\": \"white\", \"showlakes\": true}, \"hovermode\": \"closest\", \"colorscale\": {\"sequentialminus\": [[0.0, \"#0508b8\"], [0.0893854748603352, \"#1910d8\"], [0.1787709497206704, \"#3c19f0\"], [0.2681564245810056, \"#6b1cfb\"], [0.3575418994413408, \"#981cfd\"], [0.44692737430167595, \"#bf1cfd\"], [0.5363128491620112, \"#dd2bfd\"], [0.6256983240223464, \"#f246fe\"], [0.7150837988826816, \"#fc67fd\"], [0.8044692737430168, \"#fe88fc\"], [0.8938547486033519, \"#fea5fd\"], [0.9832402234636871, \"#febefe\"], [1.0, \"#fec3fe\"]], \"sequential\": [[0.0, \"#0508b8\"], [0.0893854748603352, \"#1910d8\"], [0.1787709497206704, \"#3c19f0\"], [0.2681564245810056, \"#6b1cfb\"], [0.3575418994413408, \"#981cfd\"], [0.44692737430167595, \"#bf1cfd\"], [0.5363128491620112, \"#dd2bfd\"], [0.6256983240223464, \"#f246fe\"], [0.7150837988826816, \"#fc67fd\"], [0.8044692737430168, \"#fe88fc\"], [0.8938547486033519, \"#fea5fd\"], [0.9832402234636871, \"#febefe\"], [1.0, \"#fec3fe\"]], \"diverging\": [[0, \"#8e0152\"], [0.1, \"#c51b7d\"], [0.2, \"#de77ae\"], [0.3, \"#f1b6da\"], [0.4, \"#fde0ef\"], [0.5, \"#f7f7f7\"], [0.6, \"#e6f5d0\"], [0.7, \"#b8e186\"], [0.8, \"#7fbc41\"], [0.9, \"#4d9221\"], [1, \"#276419\"]]}, \"title\": {\"x\": 0.05}, \"shapedefaults\": {\"line\": {\"width\": 0}, \"opacity\": 0.4, \"fillcolor\": \"#506784\"}, \"ternary\": {\"aaxis\": {\"gridcolor\": \"white\", \"linecolor\": \"white\", \"ticks\": \"\"}, \"baxis\": {\"gridcolor\": \"white\", \"linecolor\": \"white\", \"ticks\": \"\"}, \"bgcolor\": \"#E5ECF6\", \"caxis\": {\"gridcolor\": \"white\", \"linecolor\": \"white\", \"ticks\": \"\"}}, \"paper_bgcolor\": \"white\", \"colorway\": [\"#636efa\", \"#EF553B\", \"#00cc96\", \"#ab63fa\", \"#19d3f3\", \"#e763fa\", \"#FECB52\", \"#FFA15A\", \"#FF6692\", \"#B6E880\"], \"font\": {\"color\": \"#2a3f5f\"}, \"polar\": {\"angularaxis\": {\"gridcolor\": \"white\", \"linecolor\": \"white\", \"ticks\": \"\"}, \"bgcolor\": \"#E5ECF6\", \"radialaxis\": {\"gridcolor\": \"white\", \"linecolor\": \"white\", \"ticks\": \"\"}}, \"annotationdefaults\": {\"arrowcolor\": \"#506784\", \"arrowwidth\": 1, \"arrowhead\": 0}, \"plot_bgcolor\": \"#E5ECF6\", \"mapbox\": {\"style\": \"light\"}, \"xaxis\": {\"zerolinewidth\": 2, \"zerolinecolor\": \"white\", \"gridcolor\": \"white\", \"linecolor\": \"white\", \"automargin\": true, \"ticks\": \"\"}, \"yaxis\": {\"zerolinewidth\": 2, \"zerolinecolor\": \"white\", \"gridcolor\": \"white\", \"linecolor\": \"white\", \"automargin\": true, \"ticks\": \"\"}, \"scene\": {\"yaxis\": {\"showbackground\": true, \"gridwidth\": 2, \"zerolinecolor\": \"white\", \"gridcolor\": \"white\", \"linecolor\": \"white\", \"backgroundcolor\": \"#E5ECF6\", \"ticks\": \"\"}, \"zaxis\": {\"showbackground\": true, \"gridwidth\": 2, \"zerolinecolor\": \"white\", \"gridcolor\": \"white\", \"linecolor\": \"white\", \"backgroundcolor\": \"#E5ECF6\", \"ticks\": \"\"}, \"xaxis\": {\"showbackground\": true, \"gridwidth\": 2, \"zerolinecolor\": \"white\", \"gridcolor\": \"white\", \"linecolor\": \"white\", \"backgroundcolor\": \"#E5ECF6\", \"ticks\": \"\"}}}}}, {\"plotlyServerURL\": \"https://plot.ly\", \"showLink\": false, \"linkText\": \"Export to plot.ly\"}); \n",
       "}\n",
       "});</script><script type=\"text/javascript\">window.addEventListener(\"resize\", function(){if (document.getElementById(\"7f36bd7d-f774-49da-aa8d-9cf847e1a98b\")) {window._Plotly.Plots.resize(document.getElementById(\"7f36bd7d-f774-49da-aa8d-9cf847e1a98b\"));};})</script>"
      ],
      "text/vnd.plotly.v1+html": [
       "<div id=\"7f36bd7d-f774-49da-aa8d-9cf847e1a98b\" style=\"height: 600px; width: 100%;\" class=\"plotly-graph-div\"></div><script type=\"text/javascript\">require([\"plotly\"], function(Plotly) { window.PLOTLYENV=window.PLOTLYENV || {};window.PLOTLYENV.BASE_URL=\"https://plot.ly\";\n",
       "if (document.getElementById(\"7f36bd7d-f774-49da-aa8d-9cf847e1a98b\")) {\n",
       "    Plotly.newPlot(\"7f36bd7d-f774-49da-aa8d-9cf847e1a98b\", [{\"marker\": {\"sizemode\": \"area\", \"size\": [202, 54, 333, 609, 585, 105, 867, 79, 710, 491, 306], \"color\": \"#636efa\", \"symbol\": \"circle\", \"sizeref\": 3.1925}, \"type\": \"scatter\", \"legendgroup\": \"TEAM=SAC\", \"hovertext\": [\"Yogi Ferrell\", \"Troy Williams\", \"Nemanja Bjelica\", \"Marvin Bagley III\", \"Harrison Barnes\", \"Frank Mason\", \"De'Aaron Fox\", \"Corey Brewer\", \"Buddy Hield\", \"Bogdan Bogdanovic\", \"Alec Burks\"], \"name\": \"TEAM=SAC\", \"x\": [47.16981132075472, 16.666666666666664, 38.23529411764706, 40.44117647058824, 31.86813186813186, 42.105263157894726, 36.36363636363637, 18.181818181818183, 41.88034188034188, 41.12149532710279, 27.27272727272727], \"yaxis\": \"y\", \"xaxis\": \"x\", \"showlegend\": true, \"y\": [36.2, 31.8, 40.1, 31.3, 39.5, 21.9, 37.1, 31.8, 42.7, 36.0, 36.3], \"mode\": \"markers\", \"hovertemplate\": \"<b>%{hovertext}</b><br><br>TEAM=SAC<br>2-point Field Goal Percentage=%{x}<br>3-point Filed Goal Percentage=%{y}<br>2FGA_x=%{marker.size}<extra></extra>\", \"uid\": \"110ededb-afef-4b38-8763-32087d5112a7\"}, {\"marker\": {\"sizemode\": \"area\", \"size\": [225, 77, 121, 893, 796, 33, 181, 278, 307, 356, 120, 91, 881, 28], \"color\": \"#EF553B\", \"symbol\": \"circle\", \"sizeref\": 3.1925}, \"type\": \"scatter\", \"legendgroup\": \"TEAM=NOP\", \"hovertext\": [\"Stanley Johnson\", \"Solomon Hill\", \"Kenrich Williams\", \"Julius Randle\", \"Jrue Holiday\", \"Jason Smith\", \"Ian Clark\", \"Frank Jackson\", \"Elfrid Payton\", \"E'Twaun Moore\", \"Darius Miller\", \"Christian Wood\", \"Anthony Davis\", \"Andrew Harrison\"], \"name\": \"TEAM=NOP\", \"x\": [36.95652173913043, 35.29411764705883, 26.08695652173913, 38.613861386138616, 41.474654377880185, 25.0, 39.325842696629216, 33.33333333333333, 43.75, 42.735042735042725, 40.90909090909091, 53.33333333333334, 37.676056338028175, 20.0], \"yaxis\": \"y\", \"xaxis\": \"x\", \"showlegend\": true, \"y\": [28.8, 31.7, 33.3, 34.4, 32.5, 34.6, 32.7, 31.2, 31.7, 43.2, 36.5, 34.6, 33.1, 20.0], \"mode\": \"markers\", \"hovertemplate\": \"<b>%{hovertext}</b><br><br>TEAM=NOP<br>2-point Field Goal Percentage=%{x}<br>3-point Filed Goal Percentage=%{y}<br>2FGA_x=%{marker.size}<extra></extra>\", \"uid\": \"d5fa50ba-4495-478f-98ee-9b09d26b2325\"}, {\"marker\": {\"sizemode\": \"area\", \"size\": [136, 240, 881, 173, 136, 13, 338, 74, 363, 57, 245], \"color\": \"#00cc96\", \"symbol\": \"circle\", \"sizeref\": 3.1925}, \"type\": \"scatter\", \"legendgroup\": \"TEAM=HOU\", \"hovertext\": [\"PJ Tucker\", \"Kenneth Faried\", \"James Harden\", \"Iman Shumpert\", \"Gerald Green\", \"Gary Clark\", \"Eric Gordon\", \"Danuel House Jr.\", \"Chris Paul\", \"Carmelo Anthony\", \"Austin Rivers\"], \"name\": \"TEAM=HOU\", \"x\": [21.428571428571427, 100.0, 42.22222222222222, 32.710280373831765, 40.42553191489361, null, 28.125, 33.33333333333333, 47.76785714285714, 44.11764705882353, 36.0], \"yaxis\": \"y\", \"xaxis\": \"x\", \"showlegend\": true, \"y\": [37.7, 32.0, 36.8, 34.8, 35.5, 29.7, 36.1, 41.6, 35.9, 32.8, 31.8], \"mode\": \"markers\", \"hovertemplate\": \"<b>%{hovertext}</b><br><br>TEAM=HOU<br>2-point Field Goal Percentage=%{x}<br>3-point Filed Goal Percentage=%{y}<br>2FGA_x=%{marker.size}<extra></extra>\", \"uid\": \"c22d6094-5d58-4796-9e6a-2ea8a83a1009\"}, {\"marker\": {\"sizemode\": \"area\", \"size\": [52, 161, 299, 359, 389, 183, 92, 383, 365, 544, 89, 96, 977, 419], \"color\": \"#ab63fa\", \"symbol\": \"circle\", \"sizeref\": 3.1925}, \"type\": \"scatter\", \"legendgroup\": \"TEAM=WAS\", \"hovertext\": [\"Wesley Johnson\", \"Troy Brown Jr.\", \"Trevor Ariza\", \"Tomas Satoransky\", \"Thomas Bryant\", \"Sam Dekker\", \"Jordan McRae\", \"John Wall\", \"Jeff Green\", \"Jabari Parker\", \"Ian Mahinmi\", \"Chasson Randle\", \"Bradley Beal\", \"Bobby Portis\"], \"name\": \"TEAM=WAS\", \"x\": [27.02702702702703, 30.612244897959183, 38.63636363636363, 37.38317757009346, 45.83333333333333, 32.0, 47.91666666666667, 38.970588235294116, 42.06349206349206, 38.69047619047619, 0.0, 16.666666666666664, 43.103448275862064, 36.206896551724135], \"yaxis\": \"y\", \"xaxis\": \"x\", \"showlegend\": true, \"y\": [32.9, 30.8, 33.6, 38.1, 34.7, 30.6, 29.4, 30.2, 35.0, 31.4, 18.8, 40.7, 35.3, 38.5], \"mode\": \"markers\", \"hovertemplate\": \"<b>%{hovertext}</b><br><br>TEAM=WAS<br>2-point Field Goal Percentage=%{x}<br>3-point Filed Goal Percentage=%{y}<br>2FGA_x=%{marker.size}<extra></extra>\", \"uid\": \"5c098269-36b5-4a01-8b4f-15e7ee07620a\"}, {\"marker\": {\"sizemode\": \"area\", \"size\": [152, 775, 279, 116, 304, 391, 80, 673, 36, 309, 444, 37, 58, 444], \"color\": \"#19d3f3\", \"symbol\": \"circle\", \"sizeref\": 3.1925}, \"type\": \"scatter\", \"legendgroup\": \"TEAM=ATL\", \"hovertext\": [\"Vince Carter\", \"Trae Young\", \"Taurean Prince\", \"Omari Spellman\", \"Kevin Huerter\", \"Kent Bazemore\", \"Justin Anderson\", \"John Collins\", \"Jaylen Adams\", \"Dewayne Dedmon\", \"DeAndre' Bembry\", \"Daniel Hamilton\", \"Alex Poythress\", \"Alex Len\"], \"name\": \"TEAM=ATL\", \"x\": [36.17021276595745, 41.24513618677042, 41.17647058823529, 37.5, 33.33333333333333, 36.0, 15.384615384615385, 31.147540983606557, 35.714285714285715, 32.6530612244898, 23.529411764705877, 16.666666666666664, 0.0, 29.032258064516128], \"yaxis\": \"y\", \"xaxis\": \"x\", \"showlegend\": true, \"y\": [38.9, 32.4, 39.0, 34.4, 38.4, 32.0, 31.2, 34.8, 33.8, 38.2, 28.9, 34.8, 39.1, 36.3], \"mode\": \"markers\", \"hovertemplate\": \"<b>%{hovertext}</b><br><br>TEAM=ATL<br>2-point Field Goal Percentage=%{x}<br>3-point Filed Goal Percentage=%{y}<br>2FGA_x=%{marker.size}<extra></extra>\", \"uid\": \"82e1e21f-fb62-48a3-abcf-4b337ade01b5\"}, {\"marker\": {\"sizemode\": \"area\", \"size\": [157, 160, 165, 81, 149, 224, 503, 674, 68, 1045, 223, 222, 595, 41, 122, 273, 18], \"color\": \"#e763fa\", \"symbol\": \"circle\", \"sizeref\": 3.1925}, \"type\": \"scatter\", \"legendgroup\": \"TEAM=MIL\", \"hovertext\": [\"Tony Snell\", \"Tim Frazier\", \"Sterling Brown\", \"Pau Gasol\", \"Pat Connaughton\", \"Nikola Mirotic\", \"Malcolm Brogdon\", \"Khris Middleton\", \"Isaiah Canaan\", \"Giannis Antetokounmpo\", \"George Hill\", \"Ersan Ilyasova\", \"Eric Bledsoe\", \"Donte DiVincenzo\", \"D.J. Wilson\", \"Brook Lopez\", \"Bonzie Colson\"], \"name\": \"TEAM=MIL\", \"x\": [28.57142857142857, 43.103448275862064, 42.105263157894726, 37.93103448275862, 43.75, 37.03703703703704, 33.87096774193548, 44.303797468354425, 58.82352941176471, 34.93975903614458, 47.435897435897424, 31.48148148148148, 37.373737373737384, 33.33333333333333, 35.135135135135144, 42.857142857142854, 33.33333333333333], \"yaxis\": \"y\", \"xaxis\": \"x\", \"showlegend\": true, \"y\": [39.7, 36.6, 36.1, 46.2, 33.0, 36.5, 42.6, 37.8, 35.4, 25.6, 31.4, 36.3, 32.9, 26.5, 36.2, 36.4, 23.8], \"mode\": \"markers\", \"hovertemplate\": \"<b>%{hovertext}</b><br><br>TEAM=MIL<br>2-point Field Goal Percentage=%{x}<br>3-point Filed Goal Percentage=%{y}<br>2FGA_x=%{marker.size}<extra></extra>\", \"uid\": \"4f095b32-4e00-44aa-8f48-749318b44127\"}, {\"marker\": {\"sizemode\": \"area\", \"size\": [195, 451, 1094, 164, 85, 141, 336, 106, 47, 104, 601, 358, 682], \"color\": \"#fecb52\", \"symbol\": \"circle\", \"sizeref\": 3.1925}, \"type\": \"scatter\", \"legendgroup\": \"TEAM=ORL\", \"hovertext\": [\"Wes Iwundu\", \"Terrence Ross\", \"Nikola Vucevic\", \"Mo Bamba\", \"Michael Carter-Williams\", \"Markelle Fultz\", \"Jonathan Isaac\", \"Jerian Grant\", \"Jarell Martin\", \"Isaiah Briscoe\", \"Evan Fournier\", \"D.J. Augustin\", \"Aaron Gordon\"], \"name\": \"TEAM=ORL\", \"x\": [36.231884057971016, 45.23809523809525, 43.07228915662651, 39.215686274509814, 20.0, 29.230769230769234, 34.57943925233645, 44.444444444444436, 30.434782608695656, 27.90697674418605, 42.213114754098356, 44.31818181818182, 37.333333333333336], \"yaxis\": \"y\", \"xaxis\": \"x\", \"showlegend\": true, \"y\": [36.7, 38.2, 36.0, 29.2, 26.3, 28.6, 32.3, 36.7, 35.1, 32.4, 34.3, 41.6, 34.8], \"mode\": \"markers\", \"hovertemplate\": \"<b>%{hovertext}</b><br><br>TEAM=ORL<br>2-point Field Goal Percentage=%{x}<br>3-point Filed Goal Percentage=%{y}<br>2FGA_x=%{marker.size}<extra></extra>\", \"uid\": \"20040f3b-5294-40c0-982f-30b51bc91a34\"}, {\"marker\": {\"sizemode\": \"area\", \"size\": [139, 1045, 74, 845, 81, 278, 525, 140, 55, 727, 30, 114], \"color\": \"#ffa15a\", \"symbol\": \"circle\", \"sizeref\": 3.1925}, \"type\": \"scatter\", \"legendgroup\": \"TEAM=OKC\", \"hovertext\": [\"Terrance Ferguson\", \"Russell Westbrook\", \"Raymond Felton\", \"Paul George\", \"Patrick Patterson\", \"Markieff Morris\", \"Jerami Grant\", \"Hamidou Diallo\", \"Deonte Burton\", \"Dennis Schroder\", \"Alex Abrines\", \"Abdel Nader\"], \"name\": \"TEAM=OKC\", \"x\": [25.71428571428571, 33.564814814814824, 45.65217391304348, 39.480519480519476, 36.0, 33.72093023255814, 38.23529411764706, 36.36363636363637, 41.66666666666667, 42.815249266862175, 50.0, 22.222222222222218], \"yaxis\": \"y\", \"xaxis\": \"x\", \"showlegend\": true, \"y\": [36.3, 29.1, 32.8, 38.5, 33.8, 33.5, 39.9, 16.7, 29.6, 33.8, 32.3, 31.3], \"mode\": \"markers\", \"hovertemplate\": \"<b>%{hovertext}</b><br><br>TEAM=OKC<br>2-point Field Goal Percentage=%{x}<br>3-point Filed Goal Percentage=%{y}<br>2FGA_x=%{marker.size}<extra></extra>\", \"uid\": \"b76187ec-44b2-43e4-bfa2-0f3d0c12acbe\"}, {\"marker\": {\"sizemode\": \"area\", \"size\": [388, 511, 78, 33, 168, 672, 239, 383, 257, 358, 274, 171, 147, 74], \"color\": \"#ff6692\", \"symbol\": \"circle\", \"sizeref\": 3.1925}, \"type\": \"scatter\", \"legendgroup\": \"TEAM=DAL\", \"hovertext\": [\"Trey Burke\", \"Tim Hardaway Jr.\", \"Salah Mejri\", \"Ryan Broekhoff\", \"Maxi Kleber\", \"Luka Doncic\", \"Justin Jackson\", \"Jalen Brunson\", \"J.J. Barea\", \"Dwight Powell\", \"Dorian Finney-Smith\", \"Dirk Nowitzki\", \"Devin Harris\", \"Courtney Lee\"], \"name\": \"TEAM=DAL\", \"x\": [41.43646408839779, 39.76377952755906, 0.0, 50.0, 47.61904761904761, 38.82978723404255, 36.263736263736256, 40.29850746268657, 48.5981308411215, 11.764705882352938, 28.2051282051282, 41.66666666666667, 26.66666666666667, 44.680851063829785], \"yaxis\": \"y\", \"xaxis\": \"x\", \"showlegend\": true, \"y\": [35.0, 33.8, 32.4, 40.4, 35.3, 32.6, 35.5, 34.8, 29.7, 30.7, 31.1, 31.2, 31.0, 29.1], \"mode\": \"markers\", \"hovertemplate\": \"<b>%{hovertext}</b><br><br>TEAM=DAL<br>2-point Field Goal Percentage=%{x}<br>3-point Filed Goal Percentage=%{y}<br>2FGA_x=%{marker.size}<extra></extra>\", \"uid\": \"bca54e79-c7ce-4942-a10a-7c9921ee8662\"}, {\"marker\": {\"sizemode\": \"area\", \"size\": [518, 238, 794, 988, 166, 37, 251, 269, 59, 158, 158], \"color\": \"#b6e880\", \"symbol\": \"circle\", \"sizeref\": 3.1925}, \"type\": \"scatter\", \"legendgroup\": \"TEAM=GSW\", \"hovertext\": [\"Stephen Curry\", \"Quinn Cook\", \"Klay Thompson\", \"Kevin Durant\", \"Jonas Jerebko\", \"Jacob Evans\", \"Draymond Green\", \"DeMarcus Cousins\", \"Damion Lee\", \"Andre Iguodala\", \"Alfonzo McKinnie\"], \"name\": \"TEAM=GSW\", \"x\": [44.600938967136145, 50.37593984962406, 45.45454545454545, 53.223140495867774, 51.06382978723404, 37.5, 36.53846153846153, 35.714285714285715, 47.058823529411754, 27.500000000000004, 38.095238095238095], \"yaxis\": \"y\", \"xaxis\": \"x\", \"showlegend\": true, \"y\": [43.2, 39.8, 40.5, 35.2, 36.4, 26.7, 27.7, 27.7, 39.7, 33.3, 35.9], \"mode\": \"markers\", \"hovertemplate\": \"<b>%{hovertext}</b><br><br>TEAM=GSW<br>2-point Field Goal Percentage=%{x}<br>3-point Filed Goal Percentage=%{y}<br>2FGA_x=%{marker.size}<extra></extra>\", \"uid\": \"30e75dba-489c-4762-ab8c-28231e431778\"}, {\"marker\": {\"sizemode\": \"area\", \"size\": [18, 860, 372, 43, 168, 238, 66, 922, 700, 138, 419, 101, 117], \"color\": \"#636efa\", \"symbol\": \"circle\", \"sizeref\": 3.1925}, \"type\": \"scatter\", \"legendgroup\": \"TEAM=PHI\", \"hovertext\": [\"Zhaire Smith\", \"Tobias Harris\", \"T.J. McConnell\", \"Shake Milton\", \"Mike Scott\", \"Jonathon Simmons\", \"Jonah Bolden\", \"Joel Embiid\", \"Jimmy Butler\", \"James Ennis III\", \"JJ Redick\", \"Furkan Korkmaz\", \"Amir Johnson\"], \"name\": \"TEAM=PHI\", \"x\": [20.0, 45.121951219512205, 49.308755760368655, 50.0, 41.07142857142857, 30.26315789473684, 44.444444444444436, 37.074829931972786, 35.273972602739725, 33.33333333333333, 48.48484848484848, 34.21052631578947, 60.0], \"yaxis\": \"y\", \"xaxis\": \"x\", \"showlegend\": true, \"y\": [37.5, 39.5, 32.6, 31.8, 40.1, 26.7, 35.1, 30.4, 35.5, 35.3, 39.7, 32.6, 30.0], \"mode\": \"markers\", \"hovertemplate\": \"<b>%{hovertext}</b><br><br>TEAM=PHI<br>2-point Field Goal Percentage=%{x}<br>3-point Filed Goal Percentage=%{y}<br>2FGA_x=%{marker.size}<extra></extra>\", \"uid\": \"86e04a96-86b1-4ca4-92a8-1d7647097215\"}, {\"marker\": {\"sizemode\": \"area\", \"size\": [328, 69, 221, 455, 807, 725, 516, 49, 406, 200, 66, 162, 520], \"color\": \"#EF553B\", \"symbol\": \"circle\", \"sizeref\": 3.1925}, \"type\": \"scatter\", \"legendgroup\": \"TEAM=BOS\", \"hovertext\": [\"Terry Rozier\", \"Semi Ojeleye\", \"Marcus Smart\", \"Marcus Morris\", \"Kyrie Irving\", \"Jayson Tatum\", \"Jaylen Brown\", \"Guerschon Yabusele\", \"Gordon Hayward\", \"Daniel Theis\", \"Brad Wanamaker\", \"Aron Baynes\", \"Al Horford\"], \"name\": \"TEAM=BOS\", \"x\": [34.58646616541353, 31.25, 36.36363636363637, 40.45454545454545, 49.43820224719101, 36.79525222551929, 42.94871794871795, 33.33333333333333, 42.934782608695656, 33.33333333333333, 37.03703703703704, 39.130434782608695, 53.201970443349765], \"yaxis\": \"y\", \"xaxis\": \"x\", \"showlegend\": true, \"y\": [35.3, 31.5, 36.4, 37.5, 40.1, 37.3, 34.4, 32.1, 33.3, 38.8, 41.0, 34.4, 36.0], \"mode\": \"markers\", \"hovertemplate\": \"<b>%{hovertext}</b><br><br>TEAM=BOS<br>2-point Field Goal Percentage=%{x}<br>3-point Filed Goal Percentage=%{y}<br>2FGA_x=%{marker.size}<extra></extra>\", \"uid\": \"2994aff9-7935-404c-b83a-0a55d4ccf53a\"}, {\"marker\": {\"sizemode\": \"area\", \"size\": [796, 333, 306, 101, 335, 196, 497, 27, 374, 459, 406, 39, 159, 31, 304], \"color\": \"#00cc96\", \"symbol\": \"circle\", \"sizeref\": 3.1925}, \"type\": \"scatter\", \"legendgroup\": \"TEAM=CHI\", \"hovertext\": [\"Zach LaVine\", \"Wendell Carter Jr.\", \"Wayne Selden\", \"Timothe Luwawu-Cabarrot\", \"Shaquille Harrison\", \"Ryan Arcidiacono\", \"Robin Lopez\", \"Rawle Alkins\", \"Otto Porter Jr.\", \"Lauri Markkanen\", \"Kris Dunn\", \"JaKarr Sampson\", \"Chandler Hutchison\", \"Brandon Sampson\", \"Antonio Blakeney\"], \"name\": \"TEAM=CHI\", \"x\": [34.801762114537446, 40.17857142857143, 42.735042735042725, 32.0, 18.421052631578945, 50.617283950617285, 34.693877551020414, 0.0, 40.72398190045249, 38.25503355704698, 38.285714285714285, 66.66666666666666, 31.25, 40.0, 34.054054054054056], \"yaxis\": \"y\", \"xaxis\": \"x\", \"showlegend\": true, \"y\": [37.2, 18.8, 31.4, 31.0, 27.0, 37.5, 22.6, 25.0, 40.7, 36.2, 34.7, 35.7, 28.0, 37.9, 39.1], \"mode\": \"markers\", \"hovertemplate\": \"<b>%{hovertext}</b><br><br>TEAM=CHI<br>2-point Field Goal Percentage=%{x}<br>3-point Filed Goal Percentage=%{y}<br>2FGA_x=%{marker.size}<extra></extra>\", \"uid\": \"8943f288-9c94-4993-8e7b-fe48872d132c\"}, {\"marker\": {\"sizemode\": \"area\", \"size\": [35, 132, 118, 694, 115, 242, 305, 489, 83, 448, 197, 82, 389, 88, 106, 95, 363], \"color\": \"#ab63fa\", \"symbol\": \"circle\", \"sizeref\": 3.1925}, \"type\": \"scatter\", \"legendgroup\": \"TEAM=MEM\", \"hovertext\": [\"Yuta Watanabe\", \"Tyler Dorsey\", \"Omri Casspi\", \"Mike Conley\", \"MarShon Brooks\", \"Kyle Anderson\", \"Justin Holiday\", \"Jonas Valanciunas\", \"Jevon Carter\", \"Jaren Jackson Jr.\", \"Ivan Rabb\", \"Dillon Brooks\", \"Delon Wright\", \"Chandler Parsons\", \"CJ Miles\", \"Bruno Caboclo\", \"Avery Bradley\"], \"name\": \"TEAM=MEM\", \"x\": [26.315789473684212, 37.5, 50.0, 42.40506329113924, 41.860465116279066, 43.90243902439025, 37.06293706293707, 40.54054054054054, 25.53191489361702, 33.33333333333333, 33.9622641509434, 29.16666666666667, 24.52830188679245, 36.111111111111114, 43.47826086956522, 75.0, 45.97156398104265], \"yaxis\": \"y\", \"xaxis\": \"x\", \"showlegend\": true, \"y\": [12.5, 33.3, 34.9, 36.4, 27.8, 26.5, 34.3, 29.2, 33.3, 35.9, 20.0, 37.5, 29.9, 30.1, 33.0, 36.9, 35.1], \"mode\": \"markers\", \"hovertemplate\": \"<b>%{hovertext}</b><br><br>TEAM=MEM<br>2-point Field Goal Percentage=%{x}<br>3-point Filed Goal Percentage=%{y}<br>2FGA_x=%{marker.size}<extra></extra>\", \"uid\": \"b7e1a8f6-7159-4419-bf5b-4c0a8a12ef8b\"}, {\"marker\": {\"sizemode\": \"area\", \"size\": [275, 36, 214, 435, 130, 267, 797, 243, 29, 390, 642, 889, 795, 34, 310], \"color\": \"#19d3f3\", \"symbol\": \"circle\", \"sizeref\": 3.1925}, \"type\": \"scatter\", \"legendgroup\": \"TEAM=POR\", \"hovertext\": [\"Zach Collins\", \"Skal Labissiere\", \"Seth Curry\", \"Rodney Hood\", \"Meyers Leonard\", \"Maurice Harkless\", \"Jusuf Nurkic\", \"Jake Layman\", \"Gary Trent Jr.\", \"Evan Turner\", \"Enes Kanter\", \"Damian Lillard\", \"CJ McCollum\", \"Anfernee Simons\", \"Al-Farouq Aminu\"], \"name\": \"TEAM=POR\", \"x\": [23.529411764705877, 57.14285714285714, 40.90909090909091, 44.897959183673464, 37.93103448275862, 28.57142857142857, 36.885245901639344, 40.90909090909091, 44.444444444444436, 43.47826086956522, 29.310344827586203, 45.251396648044704, 50.23148148148147, 46.66666666666666, 21.951219512195124], \"yaxis\": \"y\", \"xaxis\": \"x\", \"showlegend\": true, \"y\": [33.1, 46.2, 45.0, 35.6, 45.0, 27.5, 10.3, 32.6, 23.8, 21.2, 29.4, 36.9, 37.5, 34.5, 34.5], \"mode\": \"markers\", \"hovertemplate\": \"<b>%{hovertext}</b><br><br>TEAM=POR<br>2-point Field Goal Percentage=%{x}<br>3-point Filed Goal Percentage=%{y}<br>2FGA_x=%{marker.size}<extra></extra>\", \"uid\": \"651e3dd5-b3fa-4128-80db-2b4dc57aad5d\"}, {\"marker\": {\"sizemode\": \"area\", \"size\": [296, 372, 444, 695, 152, 584, 123, 37, 217, 685, 465, 377, 664, 135], \"color\": \"#e763fa\", \"symbol\": \"circle\", \"sizeref\": 3.1925}, \"type\": \"scatter\", \"legendgroup\": \"TEAM=IND\", \"hovertext\": [\"Wesley Matthews\", \"Victor Oladipo\", \"Tyreke Evans\", \"Thaddeus Young\", \"TJ Leaf\", \"Myles Turner\", \"Kyle O'Quinn\", \"Edmond Sumner\", \"Doug McDermott\", \"Domantas Sabonis\", \"Darren Collison\", \"Cory Joseph\", \"Bojan Bogdanovic\", \"Aaron Holiday\"], \"name\": \"TEAM=IND\", \"x\": [36.231884057971016, 44.22110552763819, 31.683168316831683, 22.41379310344828, 27.777777777777782, 43.11594202898551, 50.0, 50.0, 39.72602739726028, 37.671232876712324, 45.24714828897338, 41.17647058823529, 42.15686274509804, 37.68115942028986], \"yaxis\": \"y\", \"xaxis\": \"x\", \"showlegend\": true, \"y\": [37.2, 34.3, 35.6, 34.9, 25.8, 38.8, 8.3, 25.9, 40.8, 52.9, 40.7, 32.2, 42.5, 33.9], \"mode\": \"markers\", \"hovertemplate\": \"<b>%{hovertext}</b><br><br>TEAM=IND<br>2-point Field Goal Percentage=%{x}<br>3-point Filed Goal Percentage=%{y}<br>2FGA_x=%{marker.size}<extra></extra>\", \"uid\": \"c32f995b-010a-4e89-9675-d539cc23bcb5\"}, {\"marker\": {\"sizemode\": \"area\", \"size\": [320, 504, 137, 74, 90, 960, 293, 132, 311, 321, 607, 373, 27, 19, 44, 861], \"color\": \"#fecb52\", \"symbol\": \"circle\", \"sizeref\": 3.1925}, \"type\": \"scatter\", \"legendgroup\": \"TEAM=MIN\", \"hovertext\": [\"Tyus Jones\", \"Taj Gibson\", \"Robert Covington\", \"Luol Deng\", \"Keita Bates-Diop\", \"Karl-Anthony Towns\", \"Josh Okogie\", \"Jerryd Bayless\", \"Jeff Teague\", \"Gorgui Dieng\", \"Derrick Rose\", \"Dario Saric\", \"Cameron Reynolds\", \"C.J. Williams\", \"Anthony Tolliver\", \"Andrew Wiggins\"], \"name\": \"TEAM=MIN\", \"x\": [38.51351351351352, 45.45454545454545, 35.0, 31.578947368421048, 25.0, 39.77900552486189, 32.87671232876712, 37.333333333333336, 41.30434782608695, 47.25274725274725, 46.21212121212121, 29.347826086956523, 40.0, 85.71428571428571, 36.36363636363637, 32.887700534759354], \"yaxis\": \"y\", \"xaxis\": \"x\", \"showlegend\": true, \"y\": [31.7, 32.4, 37.8, 31.8, 25.0, 40.0, 27.9, 29.6, 33.3, 33.9, 37.0, 36.5, 41.2, 31.3, 37.7, 33.9], \"mode\": \"markers\", \"hovertemplate\": \"<b>%{hovertext}</b><br><br>TEAM=MIN<br>2-point Field Goal Percentage=%{x}<br>3-point Filed Goal Percentage=%{y}<br>2FGA_x=%{marker.size}<extra></extra>\", \"uid\": \"ea4b4442-f971-40a1-b44a-fb5bd10013f5\"}, {\"marker\": {\"sizemode\": \"area\", \"size\": [68, 167, 457, 100, 133, 309, 271, 79, 76, 983, 522, 174], \"color\": \"#ffa15a\", \"symbol\": \"circle\", \"sizeref\": 3.1925}, \"type\": \"scatter\", \"legendgroup\": \"TEAM=UTA\", \"hovertext\": [\"Thabo Sefolosha\", \"Royce O'Neale\", \"Ricky Rubio\", \"Raul Neto\", \"Kyle Korver\", \"Joe Ingles\", \"Jae Crowder\", \"Grayson Allen\", \"Georges Niang\", \"Donovan Mitchell\", \"Derrick Favors\", \"Dante Exum\"], \"name\": \"TEAM=UTA\", \"x\": [38.888888888888886, 26.66666666666667, 37.60683760683761, 37.5, 42.056074766355145, 35.0, 39.39393939393939, 35.714285714285715, 57.14285714285714, 43.04635761589404, 40.74074074074074, 33.33333333333333], \"yaxis\": \"y\", \"xaxis\": \"x\", \"showlegend\": true, \"y\": [43.6, 38.2, 32.0, 33.3, 40.2, 39.3, 32.8, 32.3, 41.0, 35.8, 21.8, 29.0], \"mode\": \"markers\", \"hovertemplate\": \"<b>%{hovertext}</b><br><br>TEAM=UTA<br>2-point Field Goal Percentage=%{x}<br>3-point Filed Goal Percentage=%{y}<br>2FGA_x=%{marker.size}<extra></extra>\", \"uid\": \"7d805d05-a9d7-4558-bc4f-6b166748f201\"}, {\"marker\": {\"sizemode\": \"area\", \"size\": [85, 115, 50, 576, 251, 206, 34, 63, 102, 355, 114, 222, 819, 1012], \"color\": \"#ff6692\", \"symbol\": \"circle\", \"sizeref\": 3.1925}, \"type\": \"scatter\", \"legendgroup\": \"TEAM=DET\", \"hovertext\": [\"Wayne Ellington\", \"Thon Maker\", \"Svi Mykhailiuk\", \"Reggie Jackson\", \"Luke Kennard\", \"Langston Galloway\", \"Khyri Thomas\", \"Jose Calderon\", \"Jon Leuer\", \"Ish Smith\", \"Glenn Robinson III\", \"Bruce Brown\", \"Blake Griffin\", \"Andre Drummond\"], \"name\": \"TEAM=DET\", \"x\": [42.105263157894726, 30.0, 27.27272727272727, 46.47302904564315, 42.857142857142854, 42.22222222222222, 23.529411764705877, 48.88888888888889, 48.387096774193544, 39.16083916083916, 48.64864864864865, 37.5, 26.548672566371685, 30.90909090909091], \"yaxis\": \"y\", \"xaxis\": \"x\", \"showlegend\": true, \"y\": [37.1, 32.0, 32.6, 36.9, 39.4, 35.4, 28.6, 24.6, 8.3, 32.6, 29.5, 25.8, 36.2, 13.2], \"mode\": \"markers\", \"hovertemplate\": \"<b>%{hovertext}</b><br><br>TEAM=DET<br>2-point Field Goal Percentage=%{x}<br>3-point Filed Goal Percentage=%{y}<br>2FGA_x=%{marker.size}<extra></extra>\", \"uid\": \"7e79ae86-cb06-48b3-9534-da70661159d4\"}, {\"marker\": {\"sizemode\": \"area\", \"size\": [266, 81, 431, 250, 503, 615, 236, 158, 96, 840, 161], \"color\": \"#b6e880\", \"symbol\": \"circle\", \"sizeref\": 3.1925}, \"type\": \"scatter\", \"legendgroup\": \"TEAM=PHX\", \"hovertext\": [\"Tyler Johnson\", \"Troy Daniels\", \"T.J. Warren\", \"Mikal Bridges\", \"Kelly Oubre Jr.\", \"Josh Jackson\", \"Jamal Crawford\", \"Elie Okobo\", \"Dragan Bender\", \"Devin Booker\", \"De'Anthony Melton\"], \"name\": \"TEAM=PHX\", \"x\": [27.058823529411764, 48.88888888888889, 37.142857142857146, 36.36363636363637, 49.29577464788733, 38.0, 45.3125, 29.09090909090909, 33.33333333333333, 47.8908188585608, 25.490196078431374], \"yaxis\": \"y\", \"xaxis\": \"x\", \"showlegend\": true, \"y\": [34.6, 38.1, 42.8, 33.5, 32.0, 32.4, 33.2, 29.5, 21.8, 32.6, 30.5], \"mode\": \"markers\", \"hovertemplate\": \"<b>%{hovertext}</b><br><br>TEAM=PHX<br>2-point Field Goal Percentage=%{x}<br>3-point Filed Goal Percentage=%{y}<br>2FGA_x=%{marker.size}<extra></extra>\", \"uid\": \"5f3945c3-3e0c-45c2-909f-466b7e2cdcfb\"}, {\"marker\": {\"sizemode\": \"area\", \"size\": [562, 40, 259, 295, 33, 1277, 401, 1268, 115, 93, 378], \"color\": \"#636efa\", \"symbol\": \"circle\", \"sizeref\": 3.1925}, \"type\": \"scatter\", \"legendgroup\": \"TEAM=SAS\", \"hovertext\": [\"Rudy Gay\", \"Quincy Pondexter\", \"Patty Mills\", \"Marco Belinelli\", \"Lonnie Walker IV\", \"LaMarcus Aldridge\", \"Derrick White\", \"DeMar DeRozan\", \"Davis Bertans\", \"Dante Cunningham\", \"Bryn Forbes\"], \"name\": \"TEAM=SAS\", \"x\": [52.208835341365464, 33.33333333333333, 35.97122302158273, 41.80790960451977, 20.0, 43.61370716510904, 47.58620689655172, 42.5925925925926, 42.307692307692314, 27.27272727272727, 46.11650485436893], \"yaxis\": \"y\", \"xaxis\": \"x\", \"showlegend\": true, \"y\": [40.2, 33.3, 39.4, 37.2, 38.5, 23.8, 33.8, 15.6, 42.9, 46.2, 42.6], \"mode\": \"markers\", \"hovertemplate\": \"<b>%{hovertext}</b><br><br>TEAM=SAS<br>2-point Field Goal Percentage=%{x}<br>3-point Filed Goal Percentage=%{y}<br>2FGA_x=%{marker.size}<extra></extra>\", \"uid\": \"20c50ad8-e7b3-44bc-8a3d-f20ad5497d4d\"}, {\"marker\": {\"sizemode\": \"area\", \"size\": [115, 198, 34, 577, 236, 194, 871, 845, 161, 53, 300, 228, 511], \"color\": \"#EF553B\", \"symbol\": \"circle\", \"sizeref\": 3.1925}, \"type\": \"scatter\", \"legendgroup\": \"TEAM=LAC\", \"hovertext\": [\"Wilson Chandler\", \"Tyrone Wallace\", \"Sindarius Thornwell\", \"Shai Gilgeous-Alexander\", \"Rodney McGruder\", \"Patrick Beverley\", \"Montrezl Harrell\", \"Lou Williams\", \"Landry Shamet\", \"Jerome Robinson\", \"JaMychal Green\", \"Garrett Temple\", \"Danilo Gallinari\"], \"name\": \"TEAM=LAC\", \"x\": [32.432432432432435, 45.94594594594595, 0.0, 43.62934362934364, 41.17647058823529, 34.375, 35.29411764705883, 42.25352112676056, 37.142857142857146, 50.0, 43.47826086956522, 36.25, 41.02564102564102], \"yaxis\": \"y\", \"xaxis\": \"x\", \"showlegend\": true, \"y\": [37.7, 21.1, 20.0, 36.7, 34.8, 39.9, 17.6, 36.0, 41.7, 31.6, 40.3, 34.1, 43.3], \"mode\": \"markers\", \"hovertemplate\": \"<b>%{hovertext}</b><br><br>TEAM=LAC<br>2-point Field Goal Percentage=%{x}<br>3-point Filed Goal Percentage=%{y}<br>2FGA_x=%{marker.size}<extra></extra>\", \"uid\": \"00132aac-b026-47cd-8bbc-fe830e403577\"}, {\"marker\": {\"sizemode\": \"area\", \"size\": [259, 412, 273, 263, 312, 286, 271, 256, 952, 648, 159, 170, 95, 323], \"color\": \"#00cc96\", \"symbol\": \"circle\", \"sizeref\": 3.1925}, \"type\": \"scatter\", \"legendgroup\": \"TEAM=CHA\", \"hovertext\": [\"Willy Hernangomez\", \"Tony Parker\", \"Shelvin Mack\", \"Nicolas Batum\", \"Miles Bridges\", \"Michael Kidd-Gilchrist\", \"Marvin Williams\", \"Malik Monk\", \"Kemba Walker\", \"Jeremy Lamb\", \"Frank Kaminsky\", \"Dwayne Bacon\", \"Devonte' Graham\", \"Cody Zeller\"], \"name\": \"TEAM=CHA\", \"x\": [31.578947368421048, 44.38502673796791, 29.896907216494853, 42.105263157894726, 26.190476190476193, 39.39393939393939, 43.75, 31.521739130434785, 47.2, 49.13793103448275, 14.285714285714285, 33.33333333333333, 33.33333333333333, 42.307692307692314], \"yaxis\": \"y\", \"xaxis\": \"x\", \"showlegend\": true, \"y\": [38.5, 25.5, 35.4, 39.1, 32.5, 33.3, 36.6, 33.0, 35.6, 34.8, 36.0, 43.7, 28.1, 27.3], \"mode\": \"markers\", \"hovertemplate\": \"<b>%{hovertext}</b><br><br>TEAM=CHA<br>2-point Field Goal Percentage=%{x}<br>3-point Filed Goal Percentage=%{y}<br>2FGA_x=%{marker.size}<extra></extra>\", \"uid\": \"e5cd1fcf-4718-40e2-8ede-ef38a7769144\"}, {\"marker\": {\"sizemode\": \"area\", \"size\": [707, 35, 729, 200, 230, 597, 42, 286, 827, 21, 354, 302, 195, 39], \"color\": \"#ab63fa\", \"symbol\": \"circle\", \"sizeref\": 3.1925}, \"type\": \"scatter\", \"legendgroup\": \"TEAM=TOR\", \"hovertext\": [\"Serge Ibaka\", \"Patrick McCaw\", \"Pascal Siakam\", \"OG Anunoby\", \"Norman Powell\", \"Marc Gasol\", \"Lorenzo Brown\", \"Kyle Lowry\", \"Kawhi Leonard\", \"Jodie Meeks\", \"Jeremy Lin\", \"Fred VanVleet\", \"Danny Green\", \"Chris Boucher\"], \"name\": \"TEAM=TOR\", \"x\": [51.50501672240803, 16.666666666666664, 39.43661971830985, 41.17647058823529, 29.78723404255319, 41.155234657039706, 45.45454545454545, 39.63963963963964, 46.19047619047619, 44.444444444444436, 45.68965517241379, 38.31775700934579, 44.15584415584416, 0.0], \"yaxis\": \"y\", \"xaxis\": \"x\", \"showlegend\": true, \"y\": [29.0, 32.1, 36.9, 33.2, 40.0, 36.3, 22.2, 34.7, 37.1, 44.4, 29.4, 37.8, 45.5, 32.4], \"mode\": \"markers\", \"hovertemplate\": \"<b>%{hovertext}</b><br><br>TEAM=TOR<br>2-point Field Goal Percentage=%{x}<br>3-point Filed Goal Percentage=%{y}<br>2FGA_x=%{marker.size}<extra></extra>\", \"uid\": \"eb3da453-ceff-4745-aee9-a080d020daee\"}, {\"marker\": {\"sizemode\": \"area\", \"size\": [29, 245, 493, 567, 230, 664, 269, 698, 190, 234, 471], \"color\": \"#19d3f3\", \"symbol\": \"circle\", \"sizeref\": 3.1925}, \"type\": \"scatter\", \"legendgroup\": \"TEAM=MIA\", \"hovertext\": [\"Ryan Anderson\", \"Kelly Olynyk\", \"Justise Winslow\", \"Josh Richardson\", \"James Johnson\", \"Hassan Whiteside\", \"Goran Dragic\", \"Dwyane Wade\", \"Dion Waiters\", \"Derrick Jones Jr.\", \"Bam Adebayo\"], \"name\": \"TEAM=MIA\", \"x\": [33.33333333333333, 35.714285714285715, 40.31007751937985, 45.353159851301115, 30.232558139534877, 35.443037974683534, 35.483870967741936, 37.95379537953795, 36.53846153846153, 28.57142857142857, 37.837837837837846], \"yaxis\": \"y\", \"xaxis\": \"x\", \"showlegend\": true, \"y\": [22.5, 35.4, 37.5, 35.7, 33.6, 12.5, 35.0, 33.1, 37.7, 30.8, 20.0], \"mode\": \"markers\", \"hovertemplate\": \"<b>%{hovertext}</b><br><br>TEAM=MIA<br>2-point Field Goal Percentage=%{x}<br>3-point Filed Goal Percentage=%{y}<br>2FGA_x=%{marker.size}<extra></extra>\", \"uid\": \"f38b08a6-fcb5-4d82-bddc-8eab5ee6c9d4\"}, {\"marker\": {\"sizemode\": \"area\", \"size\": [149, 112, 106, 372, 136, 723, 36, 68, 34, 185, 899, 37, 462, 139, 127], \"color\": \"#e763fa\", \"symbol\": \"circle\", \"sizeref\": 3.1925}, \"type\": \"scatter\", \"legendgroup\": \"TEAM=CLE\", \"hovertext\": [\"Nik Stauskas\", \"Matthew Dellavedova\", \"Marquese Chriss\", \"Larry Nance Jr.\", \"Kevin Love\", \"Jordan Clarkson\", \"John Henson\", \"Jaron Blossomgame\", \"Jalen Jones\", \"David Nwaba\", \"Collin Sexton\", \"Channing Frye\", \"Cedi Osman\", \"Cameron Payne\", \"Brandon Knight\"], \"name\": \"TEAM=CLE\", \"x\": [42.647058823529406, 40.0, 33.33333333333333, 31.50684931506849, 30.232558139534877, 49.236641221374036, null, 30.0, 0.0, 46.66666666666666, 38.97911832946635, 19.047619047619047, 37.06293706293707, 40.384615384615394, 41.66666666666667], \"yaxis\": \"y\", \"xaxis\": \"x\", \"showlegend\": true, \"y\": [37.2, 33.8, 22.5, 34.4, 36.1, 32.4, 35.5, 25.6, 35.7, 32.4, 40.3, 40.5, 34.7, 29.8, 32.5], \"mode\": \"markers\", \"hovertemplate\": \"<b>%{hovertext}</b><br><br>TEAM=CLE<br>2-point Field Goal Percentage=%{x}<br>3-point Filed Goal Percentage=%{y}<br>2FGA_x=%{marker.size}<extra></extra>\", \"uid\": \"654f2cdd-5a0b-4031-a185-f6a1937440e6\"}, {\"marker\": {\"sizemode\": \"area\", \"size\": [289, 305, 85, 118, 543, 104, 57, 160, 508, 442, 351, 378], \"color\": \"#fecb52\", \"symbol\": \"circle\", \"sizeref\": 3.1925}, \"type\": \"scatter\", \"legendgroup\": \"TEAM=NYK\", \"hovertext\": [\"Noah Vonleh\", \"Mario Hezonja\", \"Luke Kornet\", \"Lance Thomas\", \"Kevin Knox\", \"Kadeem Allen\", \"Henry Ellenson\", \"Frank Ntilikina\", \"Emmanuel Mudiay\", \"Dennis Smith Jr.\", \"Damyean Dotson\", \"Allonzo Trier\"], \"name\": \"TEAM=NYK\", \"x\": [31.03448275862069, 46.59090909090909, 30.76923076923077, 42.5925925925926, 32.27272727272727, 33.33333333333333, 33.33333333333333, 37.078651685393254, 47.16157205240175, 35.25179856115108, 42.71844660194174, 37.41935483870968], \"yaxis\": \"y\", \"xaxis\": \"x\", \"showlegend\": true, \"y\": [33.8, 27.8, 35.3, 27.8, 35.1, 47.2, 44.7, 28.6, 32.7, 32.2, 36.4, 39.2], \"mode\": \"markers\", \"hovertemplate\": \"<b>%{hovertext}</b><br><br>TEAM=NYK<br>2-point Field Goal Percentage=%{x}<br>3-point Filed Goal Percentage=%{y}<br>2FGA_x=%{marker.size}<extra></extra>\", \"uid\": \"e3c309a8-21f3-4870-a8f1-e33658c49725\"}, {\"marker\": {\"sizemode\": \"area\", \"size\": [63, 27, 458, 207, 438, 265, 362, 522, 88, 263, 882, 329, 114], \"color\": \"#ffa15a\", \"symbol\": \"circle\", \"sizeref\": 3.1925}, \"type\": \"scatter\", \"legendgroup\": \"TEAM=BKN\", \"hovertext\": [\"Treveon Graham\", \"Theo Pinson\", \"Spencer Dinwiddie\", \"Shabazz Napier\", \"Rondae Hollis-Jefferson\", \"Rodions Kurucs\", \"Joe Harris\", \"Jarrett Allen\", \"Jared Dudley\", \"DeMarre Carroll\", \"D'Angelo Russell\", \"Caris LeVert\", \"Allen Crabbe\"], \"name\": \"TEAM=BKN\", \"x\": [35.0, 20.0, 41.02564102564102, 39.02439024390244, 27.631578947368425, 27.777777777777782, 40.81632653061224, 0.0, 59.09090909090909, 33.33333333333333, 45.515695067264566, 31.944444444444446, 26.66666666666667], \"yaxis\": \"y\", \"xaxis\": \"x\", \"showlegend\": true, \"y\": [29.7, 26.1, 33.5, 33.3, 18.4, 31.5, 47.4, 13.3, 35.1, 33.9, 36.9, 31.2, 37.8], \"mode\": \"markers\", \"hovertemplate\": \"<b>%{hovertext}</b><br><br>TEAM=BKN<br>2-point Field Goal Percentage=%{x}<br>3-point Filed Goal Percentage=%{y}<br>2FGA_x=%{marker.size}<extra></extra>\", \"uid\": \"3b651e25-d591-4a9b-97c2-b634b7092e0a\"}, {\"marker\": {\"sizemode\": \"area\", \"size\": [258, 292, 173, 497, 934, 471, 330, 132, 753, 52, 386], \"color\": \"#ff6692\", \"symbol\": \"circle\", \"sizeref\": 3.1925}, \"type\": \"scatter\", \"legendgroup\": \"TEAM=DEN\", \"hovertext\": [\"Will Barton\", \"Trey Lyles\", \"Torrey Craig\", \"Paul Millsap\", \"Nikola Jokic\", \"Monte Morris\", \"Malik Beasley\", \"Juancho Hernangomez\", \"Jamal Murray\", \"Isaiah Thomas\", \"Gary Harris\"], \"name\": \"TEAM=DEN\", \"x\": [36.36363636363637, 37.662337662337656, 25.0, 38.532110091743114, 43.5897435897436, 49.785407725321896, 43.47826086956522, 66.66666666666666, 44.21593830334189, 38.46153846153847, 37.903225806451616], \"yaxis\": \"y\", \"xaxis\": \"x\", \"showlegend\": true, \"y\": [33.5, 24.9, 32.8, 36.9, 30.9, 41.5, 40.3, 36.5, 36.9, 30.0, 33.9], \"mode\": \"markers\", \"hovertemplate\": \"<b>%{hovertext}</b><br><br>TEAM=DEN<br>2-point Field Goal Percentage=%{x}<br>3-point Filed Goal Percentage=%{y}<br>2FGA_x=%{marker.size}<extra></extra>\", \"uid\": \"7d6ea1c8-b0c8-43be-8c86-41cd35bfb445\"}, {\"marker\": {\"sizemode\": \"area\", \"size\": [199, 286, 88, 101, 136, 228, 757, 234, 665, 320, 188, 616, 633, 117], \"color\": \"#b6e880\", \"symbol\": \"circle\", \"sizeref\": 3.1925}, \"type\": \"scatter\", \"legendgroup\": \"TEAM=LAL\", \"hovertext\": [\"Reggie Bullock\", \"Rajon Rondo\", \"Moritz Wagner\", \"Mike Muscala\", \"Michael Beasley\", \"Lonzo Ball\", \"LeBron James\", \"Lance Stephenson\", \"Kyle Kuzma\", \"Kentavious Caldwell-Pope\", \"Josh Hart\", \"JaVale McGee\", \"Brandon Ingram\", \"Alex Caruso\"], \"name\": \"TEAM=LAL\", \"x\": [46.31578947368421, 32.87671232876712, 33.33333333333333, 46.66666666666666, 39.285714285714285, 28.846153846153847, 41.592920353982294, 38.46153846153847, 40.27777777777778, 46.103896103896105, 22.222222222222218, 32.75862068965517, 43.01075268817203, 24.13793103448276], \"yaxis\": \"y\", \"xaxis\": \"x\", \"showlegend\": true, \"y\": [37.9, 36.7, 27.4, 35.3, 17.6, 32.9, 34.0, 37.3, 30.3, 34.7, 33.5, 8.3, 33.0, 50.0], \"mode\": \"markers\", \"hovertemplate\": \"<b>%{hovertext}</b><br><br>TEAM=LAL<br>2-point Field Goal Percentage=%{x}<br>3-point Filed Goal Percentage=%{y}<br>2FGA_x=%{marker.size}<extra></extra>\", \"uid\": \"8f51eb10-13bb-418f-b204-1d1b50023d8d\"}], {\"legend\": {\"tracegroupgap\": 0}, \"xaxis\": {\"title\": {\"text\": \"2-point Field Goal Percentage\"}, \"range\": [20, 60]}, \"height\": 600, \"yaxis\": {\"title\": {\"text\": \"3-point Filed Goal Percentage\"}, \"range\": [20, 60]}, \"margin\": {\"t\": 60}, \"grid\": {\"xgap\": 0.1, \"yside\": \"left\", \"xaxes\": [\"x\"], \"yaxes\": [\"y\"], \"xside\": \"bottom\", \"ygap\": 0.1}, \"template\": {\"data\": {\"scattercarpet\": [{\"marker\": {\"colorbar\": {\"ticks\": \"\", \"outlinewidth\": 0}}, \"type\": \"scattercarpet\"}], \"scattergl\": [{\"marker\": {\"colorbar\": {\"ticks\": \"\", \"outlinewidth\": 0}}, \"type\": \"scattergl\"}], \"heatmap\": [{\"type\": \"heatmap\", \"colorbar\": {\"outlinewidth\": 0, \"ticks\": \"\"}, \"autocolorscale\": true}], \"contourcarpet\": [{\"type\": \"contourcarpet\", \"colorbar\": {\"outlinewidth\": 0, \"ticks\": \"\"}}], \"heatmapgl\": [{\"type\": \"heatmapgl\", \"colorbar\": {\"outlinewidth\": 0, \"ticks\": \"\"}}], \"histogram\": [{\"marker\": {\"colorbar\": {\"ticks\": \"\", \"outlinewidth\": 0}}, \"type\": \"histogram\"}], \"scattergeo\": [{\"marker\": {\"colorbar\": {\"ticks\": \"\", \"outlinewidth\": 0}}, \"type\": \"scattergeo\"}], \"carpet\": [{\"aaxis\": {\"endlinecolor\": \"#2a3f5f\", \"gridcolor\": \"white\", \"minorgridcolor\": \"white\", \"linecolor\": \"white\", \"startlinecolor\": \"#2a3f5f\"}, \"baxis\": {\"endlinecolor\": \"#2a3f5f\", \"gridcolor\": \"white\", \"minorgridcolor\": \"white\", \"linecolor\": \"white\", \"startlinecolor\": \"#2a3f5f\"}, \"type\": \"carpet\"}], \"choropleth\": [{\"type\": \"choropleth\", \"colorbar\": {\"outlinewidth\": 0, \"ticks\": \"\"}}], \"scatterpolargl\": [{\"marker\": {\"colorbar\": {\"ticks\": \"\", \"outlinewidth\": 0}}, \"type\": \"scatterpolargl\"}], \"histogram2dcontour\": [{\"type\": \"histogram2dcontour\", \"colorbar\": {\"outlinewidth\": 0, \"ticks\": \"\"}, \"autocolorscale\": true}], \"scatter3d\": [{\"marker\": {\"colorbar\": {\"ticks\": \"\", \"outlinewidth\": 0}}, \"type\": \"scatter3d\"}], \"contour\": [{\"type\": \"contour\", \"colorbar\": {\"outlinewidth\": 0, \"ticks\": \"\"}, \"autocolorscale\": true}], \"barpolar\": [{\"marker\": {\"line\": {\"width\": 0.5, \"color\": \"#E5ECF6\"}}, \"type\": \"barpolar\"}], \"surface\": [{\"type\": \"surface\", \"colorbar\": {\"outlinewidth\": 0, \"ticks\": \"\"}}], \"mesh3d\": [{\"type\": \"mesh3d\", \"colorbar\": {\"outlinewidth\": 0, \"ticks\": \"\"}}], \"scatter\": [{\"marker\": {\"colorbar\": {\"ticks\": \"\", \"outlinewidth\": 0}}, \"type\": \"scatter\"}], \"parcoords\": [{\"type\": \"parcoords\", \"line\": {\"colorbar\": {\"ticks\": \"\", \"outlinewidth\": 0}}}], \"scatterternary\": [{\"marker\": {\"colorbar\": {\"ticks\": \"\", \"outlinewidth\": 0}}, \"type\": \"scatterternary\"}], \"scattermapbox\": [{\"marker\": {\"colorbar\": {\"ticks\": \"\", \"outlinewidth\": 0}}, \"type\": \"scattermapbox\"}], \"table\": [{\"type\": \"table\", \"header\": {\"fill\": {\"color\": \"#C8D4E3\"}, \"line\": {\"color\": \"white\"}}, \"cells\": {\"fill\": {\"color\": \"#EBF0F8\"}, \"line\": {\"color\": \"white\"}}}], \"scatterpolar\": [{\"marker\": {\"colorbar\": {\"ticks\": \"\", \"outlinewidth\": 0}}, \"type\": \"scatterpolar\"}], \"histogram2d\": [{\"type\": \"histogram2d\", \"colorbar\": {\"outlinewidth\": 0, \"ticks\": \"\"}, \"autocolorscale\": true}], \"bar\": [{\"marker\": {\"line\": {\"width\": 0.5, \"color\": \"#E5ECF6\"}}, \"type\": \"bar\"}]}, \"layout\": {\"geo\": {\"lakecolor\": \"white\", \"bgcolor\": \"white\", \"showland\": true, \"landcolor\": \"#E5ECF6\", \"subunitcolor\": \"white\", \"showlakes\": true}, \"hovermode\": \"closest\", \"colorscale\": {\"sequentialminus\": [[0.0, \"#0508b8\"], [0.0893854748603352, \"#1910d8\"], [0.1787709497206704, \"#3c19f0\"], [0.2681564245810056, \"#6b1cfb\"], [0.3575418994413408, \"#981cfd\"], [0.44692737430167595, \"#bf1cfd\"], [0.5363128491620112, \"#dd2bfd\"], [0.6256983240223464, \"#f246fe\"], [0.7150837988826816, \"#fc67fd\"], [0.8044692737430168, \"#fe88fc\"], [0.8938547486033519, \"#fea5fd\"], [0.9832402234636871, \"#febefe\"], [1.0, \"#fec3fe\"]], \"sequential\": [[0.0, \"#0508b8\"], [0.0893854748603352, \"#1910d8\"], [0.1787709497206704, \"#3c19f0\"], [0.2681564245810056, \"#6b1cfb\"], [0.3575418994413408, \"#981cfd\"], [0.44692737430167595, \"#bf1cfd\"], [0.5363128491620112, \"#dd2bfd\"], [0.6256983240223464, \"#f246fe\"], [0.7150837988826816, \"#fc67fd\"], [0.8044692737430168, \"#fe88fc\"], [0.8938547486033519, \"#fea5fd\"], [0.9832402234636871, \"#febefe\"], [1.0, \"#fec3fe\"]], \"diverging\": [[0, \"#8e0152\"], [0.1, \"#c51b7d\"], [0.2, \"#de77ae\"], [0.3, \"#f1b6da\"], [0.4, \"#fde0ef\"], [0.5, \"#f7f7f7\"], [0.6, \"#e6f5d0\"], [0.7, \"#b8e186\"], [0.8, \"#7fbc41\"], [0.9, \"#4d9221\"], [1, \"#276419\"]]}, \"title\": {\"x\": 0.05}, \"shapedefaults\": {\"line\": {\"width\": 0}, \"opacity\": 0.4, \"fillcolor\": \"#506784\"}, \"ternary\": {\"aaxis\": {\"gridcolor\": \"white\", \"linecolor\": \"white\", \"ticks\": \"\"}, \"baxis\": {\"gridcolor\": \"white\", \"linecolor\": \"white\", \"ticks\": \"\"}, \"bgcolor\": \"#E5ECF6\", \"caxis\": {\"gridcolor\": \"white\", \"linecolor\": \"white\", \"ticks\": \"\"}}, \"paper_bgcolor\": \"white\", \"colorway\": [\"#636efa\", \"#EF553B\", \"#00cc96\", \"#ab63fa\", \"#19d3f3\", \"#e763fa\", \"#FECB52\", \"#FFA15A\", \"#FF6692\", \"#B6E880\"], \"font\": {\"color\": \"#2a3f5f\"}, \"polar\": {\"angularaxis\": {\"gridcolor\": \"white\", \"linecolor\": \"white\", \"ticks\": \"\"}, \"bgcolor\": \"#E5ECF6\", \"radialaxis\": {\"gridcolor\": \"white\", \"linecolor\": \"white\", \"ticks\": \"\"}}, \"annotationdefaults\": {\"arrowcolor\": \"#506784\", \"arrowwidth\": 1, \"arrowhead\": 0}, \"plot_bgcolor\": \"#E5ECF6\", \"mapbox\": {\"style\": \"light\"}, \"xaxis\": {\"zerolinewidth\": 2, \"zerolinecolor\": \"white\", \"gridcolor\": \"white\", \"linecolor\": \"white\", \"automargin\": true, \"ticks\": \"\"}, \"yaxis\": {\"zerolinewidth\": 2, \"zerolinecolor\": \"white\", \"gridcolor\": \"white\", \"linecolor\": \"white\", \"automargin\": true, \"ticks\": \"\"}, \"scene\": {\"yaxis\": {\"showbackground\": true, \"gridwidth\": 2, \"zerolinecolor\": \"white\", \"gridcolor\": \"white\", \"linecolor\": \"white\", \"backgroundcolor\": \"#E5ECF6\", \"ticks\": \"\"}, \"zaxis\": {\"showbackground\": true, \"gridwidth\": 2, \"zerolinecolor\": \"white\", \"gridcolor\": \"white\", \"linecolor\": \"white\", \"backgroundcolor\": \"#E5ECF6\", \"ticks\": \"\"}, \"xaxis\": {\"showbackground\": true, \"gridwidth\": 2, \"zerolinecolor\": \"white\", \"gridcolor\": \"white\", \"linecolor\": \"white\", \"backgroundcolor\": \"#E5ECF6\", \"ticks\": \"\"}}}}}, {\"plotlyServerURL\": \"https://plot.ly\", \"showLink\": false, \"linkText\": \"Export to plot.ly\"}); \n",
       "}\n",
       "});</script><script type=\"text/javascript\">window.addEventListener(\"resize\", function(){if (document.getElementById(\"7f36bd7d-f774-49da-aa8d-9cf847e1a98b\")) {window._Plotly.Plots.resize(document.getElementById(\"7f36bd7d-f774-49da-aa8d-9cf847e1a98b\"));};})</script>"
      ]
     },
     "metadata": {},
     "output_type": "display_data"
    }
   ],
   "source": [
    "px.scatter(data,x = '2FG%-mid', y= '3P%_x',labels={'2FG%-mid':'2-point Field Goal Percentage','3P%_x':'3-point Filed Goal Percentage'},\n",
    "           hover_name='PLAYER',size='2FGA_x',color='TEAM',range_x=[20,60],range_y=[20,60])"
   ]
  },
  {
   "cell_type": "code",
   "execution_count": 46,
   "metadata": {
    "slideshow": {
     "slide_type": "slide"
    }
   },
   "outputs": [
    {
     "data": {
      "image/png": "[encoded data removed]",
      "text/plain": [
       "<Figure size 600x400 with 1 Axes>"
      ]
     },
     "metadata": {},
     "output_type": "display_data"
    }
   ],
   "source": [
    "plt.scatter(data['2FG%_x']*2/100,data['3P%_x']*3/100)\n",
    "plt.plot(np.arange(3),np.arange(3),'r')\n",
    "plt.xlabel('2-point shots')\n",
    "plt.ylabel('3-point shots')\n",
    "plt.title('Expected Points, All');"
   ]
  },
  {
   "cell_type": "code",
   "execution_count": 47,
   "metadata": {
    "slideshow": {
     "slide_type": "slide"
    }
   },
   "outputs": [
    {
     "data": {
      "image/png": "[encoded data removed]",
      "text/plain": [
       "<Figure size 600x400 with 1 Axes>"
      ]
     },
     "metadata": {},
     "output_type": "display_data"
    }
   ],
   "source": [
    "plt.scatter(data['2FG%-mid']*2/100,data['3P%_x']*3/100)\n",
    "plt.plot(np.arange(3),np.arange(3),'r')\n",
    "plt.xlabel('2-point shots')\n",
    "plt.ylabel('3-point shots')\n",
    "plt.title('Expected Points, Farther than 10-feet');"
   ]
  },
  {
   "cell_type": "code",
   "execution_count": null,
   "metadata": {
    "collapsed": true
   },
   "outputs": [],
   "source": []
  }
 ],
 "metadata": {
  "kernelspec": {
   "display_name": "Python 3",
   "language": "python",
   "name": "python3"
  },
  "language_info": {
   "codemirror_mode": {
    "name": "ipython",
    "version": 3
   },
   "file_extension": ".py",
   "mimetype": "text/x-python",
   "name": "python",
   "nbconvert_exporter": "python",
   "pygments_lexer": "ipython3",
   "version": "3.5.3"
  }
 },
 "nbformat": 4,
 "nbformat_minor": 2
}
